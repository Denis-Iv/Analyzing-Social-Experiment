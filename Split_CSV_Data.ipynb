{
 "cells": [
  {
   "cell_type": "code",
   "execution_count": 1,
   "metadata": {},
   "outputs": [],
   "source": [
    "from dask import dataframe as dd"
   ]
  },
  {
   "cell_type": "code",
   "execution_count": 2,
   "metadata": {},
   "outputs": [
    {
     "data": {
      "text/plain": [
       "160353104"
      ]
     },
     "execution_count": 2,
     "metadata": {},
     "output_type": "execute_result"
    }
   ],
   "source": [
    "ddf = dd.read_csv('..\\\\data\\\\raw\\\\2022_place_canvas_history.csv')"
   ]
  },
  {
   "cell_type": "code",
   "execution_count": null,
   "metadata": {},
   "outputs": [],
   "source": [
    "ddf = ddf.repartition(npartitions=4)\n",
    "ddf.to_csv('..\\\\data\\\\raw\\\\2022_place_canvas_history_test_*.csv')"
   ]
  },
  {
   "cell_type": "code",
   "execution_count": 3,
   "metadata": {},
   "outputs": [],
   "source": [
    "ddf_test_0 = dd.read_csv('..\\\\data\\\\raw\\\\2022_place_canvas_history_test_0.csv')\n",
    "ddf_test_1 = dd.read_csv('..\\\\data\\\\raw\\\\2022_place_canvas_history_test_1.csv')\n",
    "ddf_test_2 = dd.read_csv('..\\\\data\\\\raw\\\\2022_place_canvas_history_test_2.csv')\n",
    "ddf_test_3 = dd.read_csv('..\\\\data\\\\raw\\\\2022_place_canvas_history_test_3.csv')"
   ]
  },
  {
   "cell_type": "code",
   "execution_count": 4,
   "metadata": {},
   "outputs": [
    {
     "name": "stdout",
     "output_type": "stream",
     "text": [
      "Main length: 160353104\n",
      "Test 0 length: 39846488\n",
      "Test 1 length: 40280502\n",
      "Test 2 length: 40129091\n",
      "Test 3 length: 40097023\n"
     ]
    }
   ],
   "source": [
    "ddf_len = len(ddf)\n",
    "ddf_test_0_len = len(ddf_test_0)\n",
    "ddf_test_1_len = len(ddf_test_1)\n",
    "ddf_test_2_len = len(ddf_test_2)\n",
    "ddf_test_3_len = len(ddf_test_3)\n",
    "print(f'Original length: {ddf_len}\\nTest 0 length: {ddf_test_0_len}\\nTest 1 length: {ddf_test_1_len}\\nTest 2 length: {ddf_test_2_len}\\nTest 3 length: {ddf_test_3_len}')"
   ]
  },
  {
   "cell_type": "code",
   "execution_count": 7,
   "metadata": {},
   "outputs": [
    {
     "data": {
      "text/plain": [
       "True"
      ]
     },
     "execution_count": 7,
     "metadata": {},
     "output_type": "execute_result"
    }
   ],
   "source": [
    "ddf_len == (ddf_test_0_len + ddf_test_1_len + ddf_test_2_len + ddf_test_3_len)"
   ]
  }
 ],
 "metadata": {
  "interpreter": {
   "hash": "6f7c4d44365b28014734406e4d617c1e1f76ea196def854c7b951a230f6e24f1"
  },
  "kernelspec": {
   "display_name": "Python 3.9.5 64-bit",
   "language": "python",
   "name": "python3"
  },
  "language_info": {
   "codemirror_mode": {
    "name": "ipython",
    "version": 3
   },
   "file_extension": ".py",
   "mimetype": "text/x-python",
   "name": "python",
   "nbconvert_exporter": "python",
   "pygments_lexer": "ipython3",
   "version": "3.9.5"
  },
  "orig_nbformat": 4
 },
 "nbformat": 4,
 "nbformat_minor": 2
}
