{
 "cells": [
  {
   "cell_type": "code",
   "execution_count": null,
   "metadata": {},
   "outputs": [],
   "source": [
    "from dask import dataframe as dd\n",
    "from datetime import datetime\n",
    "import pandas as pd"
   ]
  },
  {
   "cell_type": "code",
   "execution_count": null,
   "metadata": {},
   "outputs": [],
   "source": [
    "def parse_datetime(dt):\n",
    "    date_format = '%Y-%m-%d %H:%M:%S.%f'\n",
    "    try:\n",
    "        dt = datetime.strptime(dt[:-4], date_format).timestamp()\n",
    "    except ValueError:\n",
    "        dt = datetime.strptime(dt[:-4], date_format[:-3]).timestamp()\n",
    "\n",
    "    dt *= 1000.0\n",
    "    dt = int(dt)\n",
    "    dt -= 1648806250315\n",
    "\n",
    "    return dt"
   ]
  },
  {
   "cell_type": "code",
   "execution_count": null,
   "metadata": {},
   "outputs": [],
   "source": [
    "def parse_timestamp(timestamp):\n",
    "    date_format = '%Y-%m-%d %H'\n",
    "\n",
    "    timestamp /= 1000\n",
    "    timestamp = int(timestamp)\n",
    "    timestamp += 1648806250\n",
    "\n",
    "    dt = datetime.fromtimestamp(timestamp).strftime(date_format)\n",
    "    dt = datetime.strptime(dt, date_format)\n",
    "\n",
    "    return dt"
   ]
  },
  {
   "cell_type": "code",
   "execution_count": null,
   "metadata": {},
   "outputs": [],
   "source": [
    "def parse_color(pixel_color):\n",
    "    colors_dict = {\n",
    "        '#000000': 0,\n",
    "        '#00756F': 1,\n",
    "        '#009EAA': 2,\n",
    "        '#00A368': 3,\n",
    "        '#00CC78': 4,\n",
    "        '#00CCC0': 5,\n",
    "        '#2450A4': 6,\n",
    "        '#3690EA': 7,\n",
    "        '#493AC1': 8,\n",
    "        '#515252': 9,\n",
    "        '#51E9F4': 10,\n",
    "        '#6A5CFF': 11,\n",
    "        '#6D001A': 12,\n",
    "        '#6D482F': 13,\n",
    "        '#7EED56': 14,\n",
    "        '#811E9F': 15,\n",
    "        '#898D90': 16,\n",
    "        '#94B3FF': 17,\n",
    "        '#9C6926': 18,\n",
    "        '#B44AC0': 19,\n",
    "        '#BE0039': 20,\n",
    "        '#D4D7D9': 21,\n",
    "        '#DE107F': 22,\n",
    "        '#E4ABFF': 23,\n",
    "        '#FF3881': 24,\n",
    "        '#FF4500': 25,\n",
    "        '#FF99AA': 26,\n",
    "        '#FFA800': 27,\n",
    "        '#FFB470': 28,\n",
    "        '#FFD635': 29,\n",
    "        '#FFF8B8': 30,\n",
    "        '#FFFFFF': 31,\n",
    "    }\n",
    "\n",
    "    if type(pixel_color) is str:\n",
    "        return colors_dict[pixel_color]\n",
    "    else:\n",
    "        return [key for key, value in colors_dict.items() if value == pixel_color][0]\n"
   ]
  },
  {
   "cell_type": "markdown",
   "metadata": {},
   "source": [
    "## Оптимизиране на оригиналната информация. Премахване на колоната user_id"
   ]
  },
  {
   "cell_type": "code",
   "execution_count": null,
   "metadata": {},
   "outputs": [],
   "source": [
    "ddf_core = dd.read_csv('data\\\\2022_place_canvas_history.csv', converters={'timestamp': parse_datetime, 'pixel_color': parse_color})\n",
    "\n",
    "ddf_core.astype({'timestamp': 'uint32'}).dtypes\n",
    "ddf_core.astype({'pixel_color': 'uint8'}).dtypes\n",
    "\n",
    "ddf_core = ddf_core.drop('user_id', axis=1)\n",
    "ddf_core = ddf_core.sort_values('timestamp')\n",
    "\n",
    "ddf_core.head()"
   ]
  },
  {
   "cell_type": "code",
   "execution_count": null,
   "metadata": {},
   "outputs": [],
   "source": [
    "ddf_core.to_parquet('data\\\\data_core')"
   ]
  },
  {
   "cell_type": "markdown",
   "metadata": {},
   "source": [
    "## Експортиране на колоната user_id в отделен файл"
   ]
  },
  {
   "cell_type": "code",
   "execution_count": null,
   "metadata": {},
   "outputs": [],
   "source": [
    "ddf_users = dd.read_csv('data\\\\2022_place_canvas_history.csv')\n",
    "\n",
    "ddf_users = ddf_users.drop(['timestamp','pixel_color','coordinate'], axis=1)\n",
    "\n",
    "ddf_users.head()"
   ]
  },
  {
   "cell_type": "code",
   "execution_count": null,
   "metadata": {},
   "outputs": [],
   "source": [
    "ddf_users.to_parquet('data\\\\data_users')"
   ]
  },
  {
   "cell_type": "markdown",
   "metadata": {},
   "source": [
    "## Завъртане на pixel_color колоната според datetime"
   ]
  },
  {
   "cell_type": "code",
   "execution_count": null,
   "metadata": {},
   "outputs": [],
   "source": [
    "ddf_colors_pivot = dd.read_parquet('data\\\\data_core')\n",
    "\n",
    "ddf_colors_pivot['timestamp'] = ddf_colors_pivot['timestamp'].map(parse_timestamp)\n",
    "ddf_colors_pivot['pixel_color'] = ddf_colors_pivot['pixel_color'].map(parse_color)\n",
    "\n",
    "ddf_colors_pivot = ddf_colors_pivot.drop('coordinate', axis=1)\n",
    "ddf_colors_pivot = ddf_colors_pivot.rename(columns={'timestamp': 'datetime'})\n",
    "ddf_colors_pivot['index'] = ddf_colors_pivot.reset_index().index\n",
    "\n",
    "ddf_colors_pivot.head()"
   ]
  },
  {
   "cell_type": "code",
   "execution_count": null,
   "metadata": {},
   "outputs": [],
   "source": [
    "ddf_colors_pivot['pixel_color'] = ddf_colors_pivot['pixel_color'].astype('category')\n",
    "ddf_colors_pivot['pixel_color'] = ddf_colors_pivot.pixel_color.cat.as_known()\n",
    "\n",
    "ddf_colors_pivot.dtypes"
   ]
  },
  {
   "cell_type": "code",
   "execution_count": null,
   "metadata": {},
   "outputs": [],
   "source": [
    "ddf_colors_pivot = ddf_colors_pivot.pivot_table(index='datetime', columns='pixel_color', values='pixel_color', aggfunc='count')\n",
    "\n",
    "ddf_colors_pivot.head()"
   ]
  },
  {
   "cell_type": "code",
   "execution_count": null,
   "metadata": {},
   "outputs": [],
   "source": [
    "for column in ddf_colors_pivot.columns:\n",
    "    ddf_colors_pivot[column] = ddf_colors_pivot[column].astype('uint32')\n",
    "\n",
    "ddf_colors_pivot.dtypes"
   ]
  },
  {
   "cell_type": "code",
   "execution_count": null,
   "metadata": {},
   "outputs": [],
   "source": [
    "ddf_colors_pivot.to_parquet('data\\\\data_hourly-colors-count')"
   ]
  },
  {
   "cell_type": "markdown",
   "metadata": {},
   "source": [
    "## Изнасяне на колоната datetime в отделен файл + брой пиксели поставени за всеки час"
   ]
  },
  {
   "cell_type": "code",
   "execution_count": null,
   "metadata": {},
   "outputs": [],
   "source": [
    "ddf_date = dd.read_parquet('data\\\\data_core')\n",
    "\n",
    "ddf_date['timestamp'] = ddf_date['timestamp'].map(parse_timestamp)\n",
    "\n",
    "ddf_date = ddf_date.drop({'pixel_color', 'coordinate'}, axis=1)\n",
    "ddf_date = ddf_date.rename(columns={'timestamp': 'datetime'})\n",
    "\n",
    "ddf_date.head()"
   ]
  },
  {
   "cell_type": "code",
   "execution_count": null,
   "metadata": {},
   "outputs": [],
   "source": [
    "ddf_date['datetime'] = dd.to_datetime(ddf_date['datetime'])\n",
    "\n",
    "ddf_date.dtypes"
   ]
  },
  {
   "cell_type": "code",
   "execution_count": null,
   "metadata": {},
   "outputs": [],
   "source": [
    "ddf_date = ddf_date.datetime.value_counts('datetime').compute()\n",
    "\n",
    "ddf_date.head()"
   ]
  },
  {
   "cell_type": "code",
   "execution_count": null,
   "metadata": {},
   "outputs": [],
   "source": [
    "ddf_date = ddf_date.reset_index(name='num_pixels').sort_values('index').set_index('index')\n",
    "ddf_date = ddf_date.reset_index()\n",
    "ddf_date = ddf_date.rename(columns={'index': 'datetime'})\n",
    "\n",
    "ddf_date.head()"
   ]
  },
  {
   "cell_type": "code",
   "execution_count": null,
   "metadata": {},
   "outputs": [],
   "source": [
    "ddf_date.to_parquet('data\\\\data_hourly-pixels')"
   ]
  },
  {
   "cell_type": "markdown",
   "metadata": {},
   "source": [
    "## Завъртане на datetime колоната според coordinate, намиране на средния брой поставени пиксели за всяка точка за всеки час"
   ]
  },
  {
   "cell_type": "code",
   "execution_count": null,
   "metadata": {},
   "outputs": [],
   "source": [
    "#ddf_coords_pivot = dd.read_csv('data\\\\data_core')\n",
    "#ddf_coords_pivot['timestamp'] = ddf_coords_pivot['timestamp'].map(parse_timestamp)\n",
    "\n",
    "#ddf_coords_pivot = ddf_coords_pivot.rename(columns={'timestamp': 'datetime'})\n",
    "#ddf_coords_pivot = ddf_coords_pivot.drop('pixel_color', axis=1)\n",
    "#ddf_coords_pivot['index'] = ddf_coords_pivot.index\n",
    "\n",
    "#ddf_coords_pivot['datetime'] = ddf_coords_pivot['datetime'].astype('category')\n",
    "#ddf_coords_pivot['datetime'] = ddf_coords_pivot.datetime.cat.as_known()\n",
    "\n",
    "#ddf_coords_pivot = ddf_coords_pivot.repartition(npartitions=120)\n",
    "\n",
    "#ddf_coords_pivot = ddf_coords_pivot.pivot_table(index='coordinate', columns='datetime', values='coordinate', aggfunc='count')\n",
    "\n",
    "#ddf_coords_pivot.to_parquet('data\\\\data_hourly-pixels-coords')"
   ]
  },
  {
   "cell_type": "markdown",
   "metadata": {},
   "source": [
    "## Разделяне на X и Y координати в отделни колони в основния файл"
   ]
  },
  {
   "cell_type": "code",
   "execution_count": null,
   "metadata": {},
   "outputs": [],
   "source": [
    "def split_coords_points(ddf_point):\n",
    "    ddf_point['coordinate'] = ddf_point['coordinate'].apply(lambda x: x.split(','))\n",
    "    \n",
    "    ddf_point['x'] = ddf_point['coordinate'].apply(lambda x: x[0]).astype('uint16')\n",
    "    ddf_point['y'] = ddf_point['coordinate'].apply(lambda x: x[1]).astype('uint16')\n",
    "\n",
    "    ddf_point = ddf_point.drop('coordinate', axis=1)\n",
    "\n",
    "    return ddf_point"
   ]
  },
  {
   "cell_type": "code",
   "execution_count": null,
   "metadata": {},
   "outputs": [],
   "source": [
    "def split_coords_rectangles(ddf_rectangle):\n",
    "    ddf_rectangle['coordinate'] = ddf_rectangle['coordinate'].apply(lambda x: [int(c) for c in x.split(',')], meta='int')\n",
    "    pts_from_recs = pd.DataFrame(columns=['timestamp', 'pixel_color', 'x', 'y'])\n",
    "\n",
    "    for rect in ddf_rectangle.itertuples():\n",
    "        x1, y1, x2, y2 = rect.coordinate\n",
    "        width = x2 - x1 + 1\n",
    "        height = y2 - y1 + 1\n",
    "\n",
    "        for i in range(width):\n",
    "            for j in range(height):\n",
    "                x = x1 + i\n",
    "                y = y1 + j\n",
    "\n",
    "                pts_from_recs.loc[len(pts_from_recs)] = [\n",
    "                    rect.timestamp,\n",
    "                    rect.pixel_color,\n",
    "                    x,\n",
    "                    y,\n",
    "                ]\n",
    "\n",
    "    ddf_rectangle = dd.from_pandas(pts_from_recs, npartitions=4)\n",
    "\n",
    "    ddf_rectangle['timestamp'] = ddf_rectangle['timestamp'].astype('uint32')\n",
    "    ddf_rectangle['pixel_color'] = ddf_rectangle['pixel_color'].astype('uint8')\n",
    "    ddf_rectangle['x'] = ddf_rectangle['x'].astype('uint16')\n",
    "    ddf_rectangle['y'] = ddf_rectangle['y'].astype('uint16')\n",
    "\n",
    "    return ddf_rectangle"
   ]
  },
  {
   "cell_type": "code",
   "execution_count": null,
   "metadata": {},
   "outputs": [],
   "source": [
    "ddf_commas = dd.read_parquet('data\\\\data_core', dtype={'timestamp': 'uint32', 'pixel_color': 'uint8'})\n",
    "\n",
    "ddf_commas['comma_count'] = ddf_commas.coordinate.str.count(',')\n",
    "\n",
    "ddf_commas.head()"
   ]
  },
  {
   "cell_type": "code",
   "execution_count": null,
   "metadata": {},
   "outputs": [],
   "source": [
    "ddf_single = ddf_commas[ddf_commas['comma_count'] == 1]\n",
    "ddf_single = ddf_single.drop('comma_count', axis=1)\n",
    "\n",
    "ddf_rect = ddf_commas[ddf_commas['comma_count'] > 1]\n",
    "ddf_rect = ddf_rect.drop('comma_count', axis=1)"
   ]
  },
  {
   "cell_type": "code",
   "execution_count": null,
   "metadata": {},
   "outputs": [],
   "source": [
    "ddf_single = split_coords_points(ddf_single)\n",
    "\n",
    "ddf_single.head()"
   ]
  },
  {
   "cell_type": "code",
   "execution_count": null,
   "metadata": {},
   "outputs": [],
   "source": [
    "ddf_rect = split_coords_rectangles(ddf_rect)\n",
    "\n",
    "ddf_rect.head()"
   ]
  },
  {
   "cell_type": "code",
   "execution_count": null,
   "metadata": {},
   "outputs": [],
   "source": [
    "ddf_split = dd.concat([ddf_single, ddf_rect], axis=0, interleave_partitions=True)\n",
    "ddf_split = ddf_split.sort_values('timestamp')\n",
    "\n",
    "ddf_split.head()"
   ]
  },
  {
   "cell_type": "code",
   "execution_count": null,
   "metadata": {},
   "outputs": [],
   "source": [
    "ddf_split.to_parquet('data\\\\data_split-coords')"
   ]
  }
 ],
 "metadata": {
  "interpreter": {
   "hash": "d36c6117fc59c96afe055d6aa9fdc162c4e49e575a4ec40412ab8da821919109"
  },
  "kernelspec": {
   "display_name": "Python 3.8.0 64-bit",
   "language": "python",
   "name": "python3"
  },
  "language_info": {
   "codemirror_mode": {
    "name": "ipython",
    "version": 3
   },
   "file_extension": ".py",
   "mimetype": "text/x-python",
   "name": "python",
   "nbconvert_exporter": "python",
   "pygments_lexer": "ipython3",
   "version": "3.8.0"
  },
  "orig_nbformat": 4
 },
 "nbformat": 4,
 "nbformat_minor": 2
}
