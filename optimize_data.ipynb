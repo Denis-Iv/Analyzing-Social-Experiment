{
 "cells": [
  {
   "cell_type": "code",
   "execution_count": 1,
   "metadata": {},
   "outputs": [],
   "source": [
    "from dask import dataframe as dd\n",
    "from datetime import datetime"
   ]
  },
  {
   "cell_type": "code",
   "execution_count": 2,
   "metadata": {},
   "outputs": [],
   "source": [
    "def parse_datetime(dt):\n",
    "    date_format = '%Y-%m-%d %H:%M:%S.%f'\n",
    "    try:\n",
    "        dt = datetime.strptime(dt[:-4], date_format).timestamp()\n",
    "    except ValueError:\n",
    "        dt = datetime.strptime(dt[:-4], date_format[:-3]).timestamp()\n",
    "\n",
    "    dt *= 1000.0\n",
    "    dt = int(dt)\n",
    "    dt -= 1648806250315\n",
    "\n",
    "    return dt"
   ]
  },
  {
   "cell_type": "code",
   "execution_count": 3,
   "metadata": {},
   "outputs": [],
   "source": [
    "def parse_timestamp(timestamp):\n",
    "    date_format = '%Y-%m-%d %H'\n",
    "\n",
    "    timestamp /= 1000\n",
    "    timestamp = int(timestamp)\n",
    "    timestamp += 1648806250\n",
    "\n",
    "    dt = datetime.fromtimestamp(timestamp).strftime(date_format)\n",
    "    dt = datetime.strptime(dt, date_format)\n",
    "\n",
    "    return dt"
   ]
  },
  {
   "cell_type": "markdown",
   "metadata": {},
   "source": [
    "## Оптимизиране на оригиналната информация. Премахване на колоната user_id"
   ]
  },
  {
   "cell_type": "code",
   "execution_count": 4,
   "metadata": {},
   "outputs": [
    {
     "data": {
      "text/html": [
       "<div>\n",
       "<style scoped>\n",
       "    .dataframe tbody tr th:only-of-type {\n",
       "        vertical-align: middle;\n",
       "    }\n",
       "\n",
       "    .dataframe tbody tr th {\n",
       "        vertical-align: top;\n",
       "    }\n",
       "\n",
       "    .dataframe thead th {\n",
       "        text-align: right;\n",
       "    }\n",
       "</style>\n",
       "<table border=\"1\" class=\"dataframe\">\n",
       "  <thead>\n",
       "    <tr style=\"text-align: right;\">\n",
       "      <th></th>\n",
       "      <th>timestamp</th>\n",
       "      <th>pixel_color</th>\n",
       "      <th>coordinate</th>\n",
       "    </tr>\n",
       "  </thead>\n",
       "  <tbody>\n",
       "    <tr>\n",
       "      <th>97731</th>\n",
       "      <td>0</td>\n",
       "      <td>#7EED56</td>\n",
       "      <td>42,42</td>\n",
       "    </tr>\n",
       "    <tr>\n",
       "      <th>97732</th>\n",
       "      <td>12356</td>\n",
       "      <td>#00A368</td>\n",
       "      <td>999,999</td>\n",
       "    </tr>\n",
       "    <tr>\n",
       "      <th>97733</th>\n",
       "      <td>16311</td>\n",
       "      <td>#3690EA</td>\n",
       "      <td>44,42</td>\n",
       "    </tr>\n",
       "    <tr>\n",
       "      <th>97734</th>\n",
       "      <td>21388</td>\n",
       "      <td>#D4D7D9</td>\n",
       "      <td>2,2</td>\n",
       "    </tr>\n",
       "    <tr>\n",
       "      <th>97735</th>\n",
       "      <td>34094</td>\n",
       "      <td>#3690EA</td>\n",
       "      <td>23,23</td>\n",
       "    </tr>\n",
       "  </tbody>\n",
       "</table>\n",
       "</div>"
      ],
      "text/plain": [
       "       timestamp pixel_color coordinate\n",
       "97731          0     #7EED56      42,42\n",
       "97732      12356     #00A368    999,999\n",
       "97733      16311     #3690EA      44,42\n",
       "97734      21388     #D4D7D9        2,2\n",
       "97735      34094     #3690EA      23,23"
      ]
     },
     "execution_count": 4,
     "metadata": {},
     "output_type": "execute_result"
    }
   ],
   "source": [
    "ddf_core = dd.read_csv('..\\\\data\\\\raw\\\\2022_place_canvas_history.csv', converters={\"timestamp\": parse_datetime})\n",
    "\n",
    "ddf_core = ddf_core.drop('user_id', axis=1)\n",
    "ddf_core.astype({'timestamp': 'uint32'}).dtypes\n",
    "ddf_core = ddf_core.sort_values('timestamp')\n",
    "\n",
    "ddf_core.head()"
   ]
  },
  {
   "cell_type": "code",
   "execution_count": 5,
   "metadata": {},
   "outputs": [
    {
     "data": {
      "text/plain": [
       "['f:\\\\Дипломна работа\\\\code\\\\data\\\\raw\\\\2022_place_canvas_history_core.csv']"
      ]
     },
     "execution_count": 5,
     "metadata": {},
     "output_type": "execute_result"
    }
   ],
   "source": [
    "ddf_core.to_csv('..\\\\data\\\\raw\\\\2022_place_canvas_history_core.csv', index=False, single_file=True)"
   ]
  },
  {
   "cell_type": "markdown",
   "metadata": {},
   "source": [
    "## Експортиране на колоната user_id в отделен файл"
   ]
  },
  {
   "cell_type": "code",
   "execution_count": null,
   "metadata": {},
   "outputs": [],
   "source": [
    "ddf_users = dd.read_csv('..\\\\data\\\\raw\\\\2022_place_canvas_history.csv')\n",
    "\n",
    "ddf_users = ddf_users.drop(['timestamp','pixel_color','coordinate'],axis=1)\n",
    "\n",
    "ddf_users.head()"
   ]
  },
  {
   "cell_type": "code",
   "execution_count": null,
   "metadata": {},
   "outputs": [],
   "source": [
    "ddf_users.to_csv('..\\\\data\\\\raw\\\\2022_place_canvas_history_users.csv', index=False, single_file=True)"
   ]
  },
  {
   "cell_type": "markdown",
   "metadata": {},
   "source": [
    "## Преобразуване на timestamp към datetime и експортиране на datetime колоната в отделен файл"
   ]
  },
  {
   "cell_type": "code",
   "execution_count": 10,
   "metadata": {},
   "outputs": [
    {
     "data": {
      "text/html": [
       "<div>\n",
       "<style scoped>\n",
       "    .dataframe tbody tr th:only-of-type {\n",
       "        vertical-align: middle;\n",
       "    }\n",
       "\n",
       "    .dataframe tbody tr th {\n",
       "        vertical-align: top;\n",
       "    }\n",
       "\n",
       "    .dataframe thead th {\n",
       "        text-align: right;\n",
       "    }\n",
       "</style>\n",
       "<table border=\"1\" class=\"dataframe\">\n",
       "  <thead>\n",
       "    <tr style=\"text-align: right;\">\n",
       "      <th></th>\n",
       "      <th>timestamp</th>\n",
       "    </tr>\n",
       "  </thead>\n",
       "  <tbody>\n",
       "    <tr>\n",
       "      <th>0</th>\n",
       "      <td>0</td>\n",
       "    </tr>\n",
       "    <tr>\n",
       "      <th>1</th>\n",
       "      <td>12356</td>\n",
       "    </tr>\n",
       "    <tr>\n",
       "      <th>2</th>\n",
       "      <td>16311</td>\n",
       "    </tr>\n",
       "    <tr>\n",
       "      <th>3</th>\n",
       "      <td>21388</td>\n",
       "    </tr>\n",
       "    <tr>\n",
       "      <th>4</th>\n",
       "      <td>34094</td>\n",
       "    </tr>\n",
       "  </tbody>\n",
       "</table>\n",
       "</div>"
      ],
      "text/plain": [
       "   timestamp\n",
       "0          0\n",
       "1      12356\n",
       "2      16311\n",
       "3      21388\n",
       "4      34094"
      ]
     },
     "execution_count": 10,
     "metadata": {},
     "output_type": "execute_result"
    }
   ],
   "source": [
    "ddf_date = dd.read_csv('..\\\\data\\\\raw\\\\2022_place_canvas_history_core.csv')\n",
    "\n",
    "ddf_date = ddf_date.drop(['pixel_color', 'coordinate'], axis=1)\n",
    "\n",
    "ddf_date.head()"
   ]
  },
  {
   "cell_type": "code",
   "execution_count": 13,
   "metadata": {},
   "outputs": [
    {
     "data": {
      "text/html": [
       "<div>\n",
       "<style scoped>\n",
       "    .dataframe tbody tr th:only-of-type {\n",
       "        vertical-align: middle;\n",
       "    }\n",
       "\n",
       "    .dataframe tbody tr th {\n",
       "        vertical-align: top;\n",
       "    }\n",
       "\n",
       "    .dataframe thead th {\n",
       "        text-align: right;\n",
       "    }\n",
       "</style>\n",
       "<table border=\"1\" class=\"dataframe\">\n",
       "  <thead>\n",
       "    <tr style=\"text-align: right;\">\n",
       "      <th></th>\n",
       "      <th>datetime</th>\n",
       "    </tr>\n",
       "  </thead>\n",
       "  <tbody>\n",
       "    <tr>\n",
       "      <th>0</th>\n",
       "      <td>2022-04-01 12:00:00</td>\n",
       "    </tr>\n",
       "    <tr>\n",
       "      <th>1</th>\n",
       "      <td>2022-04-01 12:00:00</td>\n",
       "    </tr>\n",
       "    <tr>\n",
       "      <th>2</th>\n",
       "      <td>2022-04-01 12:00:00</td>\n",
       "    </tr>\n",
       "    <tr>\n",
       "      <th>3</th>\n",
       "      <td>2022-04-01 12:00:00</td>\n",
       "    </tr>\n",
       "    <tr>\n",
       "      <th>4</th>\n",
       "      <td>2022-04-01 12:00:00</td>\n",
       "    </tr>\n",
       "  </tbody>\n",
       "</table>\n",
       "</div>"
      ],
      "text/plain": [
       "             datetime\n",
       "0 2022-04-01 12:00:00\n",
       "1 2022-04-01 12:00:00\n",
       "2 2022-04-01 12:00:00\n",
       "3 2022-04-01 12:00:00\n",
       "4 2022-04-01 12:00:00"
      ]
     },
     "execution_count": 13,
     "metadata": {},
     "output_type": "execute_result"
    }
   ],
   "source": [
    "ddf_date = ddf_date.rename(columns={'timestamp': 'datetime'})\n",
    "ddf_date['datetime'] = ddf_date['datetime'].map(parse_timestamp)\n",
    "\n",
    "ddf_date.head()"
   ]
  },
  {
   "cell_type": "code",
   "execution_count": 14,
   "metadata": {},
   "outputs": [
    {
     "data": {
      "text/plain": [
       "['f:\\\\Дипломна работа\\\\code\\\\data\\\\raw\\\\2022_place_canvas_history_datetime.csv']"
      ]
     },
     "execution_count": 14,
     "metadata": {},
     "output_type": "execute_result"
    }
   ],
   "source": [
    "ddf_date.to_csv('..\\\\data\\\\raw\\\\2022_place_canvas_history_datetime.csv', index=False, single_file=True)"
   ]
  },
  {
   "cell_type": "markdown",
   "metadata": {},
   "source": [
    "## Завъртане на pixel_color данните, оставяйки datetime като индекс и преброяване на pixel_color видовете за всеки час"
   ]
  },
  {
   "cell_type": "code",
   "execution_count": 102,
   "metadata": {},
   "outputs": [
    {
     "data": {
      "text/html": [
       "<div>\n",
       "<style scoped>\n",
       "    .dataframe tbody tr th:only-of-type {\n",
       "        vertical-align: middle;\n",
       "    }\n",
       "\n",
       "    .dataframe tbody tr th {\n",
       "        vertical-align: top;\n",
       "    }\n",
       "\n",
       "    .dataframe thead th {\n",
       "        text-align: right;\n",
       "    }\n",
       "</style>\n",
       "<table border=\"1\" class=\"dataframe\">\n",
       "  <thead>\n",
       "    <tr style=\"text-align: right;\">\n",
       "      <th></th>\n",
       "      <th>datetime</th>\n",
       "      <th>pixel_color</th>\n",
       "    </tr>\n",
       "  </thead>\n",
       "  <tbody>\n",
       "    <tr>\n",
       "      <th>0</th>\n",
       "      <td>2022-04-01 12:00:00</td>\n",
       "      <td>14</td>\n",
       "    </tr>\n",
       "    <tr>\n",
       "      <th>1</th>\n",
       "      <td>2022-04-01 12:00:00</td>\n",
       "      <td>3</td>\n",
       "    </tr>\n",
       "    <tr>\n",
       "      <th>2</th>\n",
       "      <td>2022-04-01 12:00:00</td>\n",
       "      <td>7</td>\n",
       "    </tr>\n",
       "    <tr>\n",
       "      <th>3</th>\n",
       "      <td>2022-04-01 12:00:00</td>\n",
       "      <td>21</td>\n",
       "    </tr>\n",
       "    <tr>\n",
       "      <th>4</th>\n",
       "      <td>2022-04-01 12:00:00</td>\n",
       "      <td>7</td>\n",
       "    </tr>\n",
       "  </tbody>\n",
       "</table>\n",
       "</div>"
      ],
      "text/plain": [
       "             datetime  pixel_color\n",
       "0 2022-04-01 12:00:00           14\n",
       "1 2022-04-01 12:00:00            3\n",
       "2 2022-04-01 12:00:00            7\n",
       "3 2022-04-01 12:00:00           21\n",
       "4 2022-04-01 12:00:00            7"
      ]
     },
     "execution_count": 102,
     "metadata": {},
     "output_type": "execute_result"
    }
   ],
   "source": [
    "ddf_pivot = dd.read_csv('..\\\\data\\\\raw\\\\2022_place_canvas_history_core.csv')\n",
    "\n",
    "ddf_pivot = ddf_pivot.drop('coordinate', axis=1)\n",
    "ddf_pivot = ddf_pivot.rename(columns={'timestamp': 'datetime'})\n",
    "\n",
    "ddf_pivot['datetime'] = ddf_pivot['datetime'].map(parse_timestamp)\n",
    "ddf_pivot['index'] = ddf_pivot.index\n",
    "\n",
    "ddf_pivot.head()"
   ]
  },
  {
   "cell_type": "code",
   "execution_count": 40,
   "metadata": {},
   "outputs": [
    {
     "data": {
      "text/plain": [
       "datetime       datetime64[ns]\n",
       "pixel_color          category\n",
       "index                   int64\n",
       "dtype: object"
      ]
     },
     "execution_count": 40,
     "metadata": {},
     "output_type": "execute_result"
    }
   ],
   "source": [
    "ddf_pivot['pixel_color'] = ddf_pivot['pixel_color'].astype('category')\n",
    "ddf_pivot['pixel_color'] = ddf_pivot.pixel_color.cat.as_known()\n",
    "ddf_pivot.dtypes"
   ]
  },
  {
   "cell_type": "code",
   "execution_count": 41,
   "metadata": {},
   "outputs": [
    {
     "data": {
      "text/html": [
       "<div>\n",
       "<style scoped>\n",
       "    .dataframe tbody tr th:only-of-type {\n",
       "        vertical-align: middle;\n",
       "    }\n",
       "\n",
       "    .dataframe tbody tr th {\n",
       "        vertical-align: top;\n",
       "    }\n",
       "\n",
       "    .dataframe thead th {\n",
       "        text-align: right;\n",
       "    }\n",
       "</style>\n",
       "<table border=\"1\" class=\"dataframe\">\n",
       "  <thead>\n",
       "    <tr style=\"text-align: right;\">\n",
       "      <th>pixel_color</th>\n",
       "      <th>#000000</th>\n",
       "      <th>#00A368</th>\n",
       "      <th>#2450A4</th>\n",
       "      <th>#3690EA</th>\n",
       "      <th>#51E9F4</th>\n",
       "      <th>#7EED56</th>\n",
       "      <th>#811E9F</th>\n",
       "      <th>#898D90</th>\n",
       "      <th>#9C6926</th>\n",
       "      <th>#B44AC0</th>\n",
       "      <th>...</th>\n",
       "      <th>#BE0039</th>\n",
       "      <th>#FF3881</th>\n",
       "      <th>#00CCC0</th>\n",
       "      <th>#515252</th>\n",
       "      <th>#6D001A</th>\n",
       "      <th>#94B3FF</th>\n",
       "      <th>#DE107F</th>\n",
       "      <th>#E4ABFF</th>\n",
       "      <th>#FFB470</th>\n",
       "      <th>#FFF8B8</th>\n",
       "    </tr>\n",
       "    <tr>\n",
       "      <th>datetime</th>\n",
       "      <th></th>\n",
       "      <th></th>\n",
       "      <th></th>\n",
       "      <th></th>\n",
       "      <th></th>\n",
       "      <th></th>\n",
       "      <th></th>\n",
       "      <th></th>\n",
       "      <th></th>\n",
       "      <th></th>\n",
       "      <th></th>\n",
       "      <th></th>\n",
       "      <th></th>\n",
       "      <th></th>\n",
       "      <th></th>\n",
       "      <th></th>\n",
       "      <th></th>\n",
       "      <th></th>\n",
       "      <th></th>\n",
       "      <th></th>\n",
       "      <th></th>\n",
       "    </tr>\n",
       "  </thead>\n",
       "  <tbody>\n",
       "    <tr>\n",
       "      <th>2022-04-01 12:00:00</th>\n",
       "      <td>0.0</td>\n",
       "      <td>2.0</td>\n",
       "      <td>3.0</td>\n",
       "      <td>2.0</td>\n",
       "      <td>1.0</td>\n",
       "      <td>1.0</td>\n",
       "      <td>2.0</td>\n",
       "      <td>0.0</td>\n",
       "      <td>0.0</td>\n",
       "      <td>0.0</td>\n",
       "      <td>...</td>\n",
       "      <td>0.0</td>\n",
       "      <td>0.0</td>\n",
       "      <td>0.0</td>\n",
       "      <td>0.0</td>\n",
       "      <td>0.0</td>\n",
       "      <td>0.0</td>\n",
       "      <td>0.0</td>\n",
       "      <td>0.0</td>\n",
       "      <td>0.0</td>\n",
       "      <td>0.0</td>\n",
       "    </tr>\n",
       "    <tr>\n",
       "      <th>2022-04-01 13:00:00</th>\n",
       "      <td>117511.0</td>\n",
       "      <td>21775.0</td>\n",
       "      <td>83172.0</td>\n",
       "      <td>15056.0</td>\n",
       "      <td>24328.0</td>\n",
       "      <td>21971.0</td>\n",
       "      <td>19421.0</td>\n",
       "      <td>7081.0</td>\n",
       "      <td>6169.0</td>\n",
       "      <td>5815.0</td>\n",
       "      <td>...</td>\n",
       "      <td>0.0</td>\n",
       "      <td>0.0</td>\n",
       "      <td>0.0</td>\n",
       "      <td>0.0</td>\n",
       "      <td>0.0</td>\n",
       "      <td>0.0</td>\n",
       "      <td>0.0</td>\n",
       "      <td>0.0</td>\n",
       "      <td>0.0</td>\n",
       "      <td>0.0</td>\n",
       "    </tr>\n",
       "    <tr>\n",
       "      <th>2022-04-01 14:00:00</th>\n",
       "      <td>198737.0</td>\n",
       "      <td>33085.0</td>\n",
       "      <td>115221.0</td>\n",
       "      <td>20169.0</td>\n",
       "      <td>38124.0</td>\n",
       "      <td>30806.0</td>\n",
       "      <td>26811.0</td>\n",
       "      <td>12597.0</td>\n",
       "      <td>9609.0</td>\n",
       "      <td>7658.0</td>\n",
       "      <td>...</td>\n",
       "      <td>0.0</td>\n",
       "      <td>0.0</td>\n",
       "      <td>0.0</td>\n",
       "      <td>0.0</td>\n",
       "      <td>0.0</td>\n",
       "      <td>0.0</td>\n",
       "      <td>0.0</td>\n",
       "      <td>0.0</td>\n",
       "      <td>0.0</td>\n",
       "      <td>0.0</td>\n",
       "    </tr>\n",
       "    <tr>\n",
       "      <th>2022-04-01 15:00:00</th>\n",
       "      <td>242980.0</td>\n",
       "      <td>35452.0</td>\n",
       "      <td>98686.0</td>\n",
       "      <td>25440.0</td>\n",
       "      <td>42816.0</td>\n",
       "      <td>33479.0</td>\n",
       "      <td>27869.0</td>\n",
       "      <td>17086.0</td>\n",
       "      <td>12235.0</td>\n",
       "      <td>10745.0</td>\n",
       "      <td>...</td>\n",
       "      <td>0.0</td>\n",
       "      <td>0.0</td>\n",
       "      <td>0.0</td>\n",
       "      <td>0.0</td>\n",
       "      <td>0.0</td>\n",
       "      <td>0.0</td>\n",
       "      <td>0.0</td>\n",
       "      <td>0.0</td>\n",
       "      <td>0.0</td>\n",
       "      <td>0.0</td>\n",
       "    </tr>\n",
       "    <tr>\n",
       "      <th>2022-04-01 16:00:00</th>\n",
       "      <td>246588.0</td>\n",
       "      <td>40658.0</td>\n",
       "      <td>99270.0</td>\n",
       "      <td>29857.0</td>\n",
       "      <td>49147.0</td>\n",
       "      <td>37166.0</td>\n",
       "      <td>32077.0</td>\n",
       "      <td>20787.0</td>\n",
       "      <td>11657.0</td>\n",
       "      <td>9305.0</td>\n",
       "      <td>...</td>\n",
       "      <td>0.0</td>\n",
       "      <td>0.0</td>\n",
       "      <td>0.0</td>\n",
       "      <td>0.0</td>\n",
       "      <td>0.0</td>\n",
       "      <td>0.0</td>\n",
       "      <td>0.0</td>\n",
       "      <td>0.0</td>\n",
       "      <td>0.0</td>\n",
       "      <td>0.0</td>\n",
       "    </tr>\n",
       "  </tbody>\n",
       "</table>\n",
       "<p>5 rows × 32 columns</p>\n",
       "</div>"
      ],
      "text/plain": [
       "pixel_color           #000000  #00A368   #2450A4  #3690EA  #51E9F4  #7EED56  \\\n",
       "datetime                                                                      \n",
       "2022-04-01 12:00:00       0.0      2.0       3.0      2.0      1.0      1.0   \n",
       "2022-04-01 13:00:00  117511.0  21775.0   83172.0  15056.0  24328.0  21971.0   \n",
       "2022-04-01 14:00:00  198737.0  33085.0  115221.0  20169.0  38124.0  30806.0   \n",
       "2022-04-01 15:00:00  242980.0  35452.0   98686.0  25440.0  42816.0  33479.0   \n",
       "2022-04-01 16:00:00  246588.0  40658.0   99270.0  29857.0  49147.0  37166.0   \n",
       "\n",
       "pixel_color          #811E9F  #898D90  #9C6926  #B44AC0  ...  #BE0039  \\\n",
       "datetime                                                 ...            \n",
       "2022-04-01 12:00:00      2.0      0.0      0.0      0.0  ...      0.0   \n",
       "2022-04-01 13:00:00  19421.0   7081.0   6169.0   5815.0  ...      0.0   \n",
       "2022-04-01 14:00:00  26811.0  12597.0   9609.0   7658.0  ...      0.0   \n",
       "2022-04-01 15:00:00  27869.0  17086.0  12235.0  10745.0  ...      0.0   \n",
       "2022-04-01 16:00:00  32077.0  20787.0  11657.0   9305.0  ...      0.0   \n",
       "\n",
       "pixel_color          #FF3881  #00CCC0  #515252  #6D001A  #94B3FF  #DE107F  \\\n",
       "datetime                                                                    \n",
       "2022-04-01 12:00:00      0.0      0.0      0.0      0.0      0.0      0.0   \n",
       "2022-04-01 13:00:00      0.0      0.0      0.0      0.0      0.0      0.0   \n",
       "2022-04-01 14:00:00      0.0      0.0      0.0      0.0      0.0      0.0   \n",
       "2022-04-01 15:00:00      0.0      0.0      0.0      0.0      0.0      0.0   \n",
       "2022-04-01 16:00:00      0.0      0.0      0.0      0.0      0.0      0.0   \n",
       "\n",
       "pixel_color          #E4ABFF  #FFB470  #FFF8B8  \n",
       "datetime                                        \n",
       "2022-04-01 12:00:00      0.0      0.0      0.0  \n",
       "2022-04-01 13:00:00      0.0      0.0      0.0  \n",
       "2022-04-01 14:00:00      0.0      0.0      0.0  \n",
       "2022-04-01 15:00:00      0.0      0.0      0.0  \n",
       "2022-04-01 16:00:00      0.0      0.0      0.0  \n",
       "\n",
       "[5 rows x 32 columns]"
      ]
     },
     "execution_count": 41,
     "metadata": {},
     "output_type": "execute_result"
    }
   ],
   "source": [
    "ddf_pivot = ddf_pivot.pivot_table(index='datetime', columns='pixel_color', values='pixel_color', aggfunc='count')\n",
    "ddf_pivot.head()"
   ]
  },
  {
   "cell_type": "code",
   "execution_count": 53,
   "metadata": {},
   "outputs": [
    {
     "data": {
      "text/plain": [
       "pixel_color\n",
       "#000000    int32\n",
       "#00A368    int32\n",
       "#2450A4    int32\n",
       "#3690EA    int32\n",
       "#51E9F4    int32\n",
       "#7EED56    int32\n",
       "#811E9F    int32\n",
       "#898D90    int32\n",
       "#9C6926    int32\n",
       "#B44AC0    int32\n",
       "#D4D7D9    int32\n",
       "#FF4500    int32\n",
       "#FF99AA    int32\n",
       "#FFA800    int32\n",
       "#FFD635    int32\n",
       "#FFFFFF    int32\n",
       "#00756F    int32\n",
       "#009EAA    int32\n",
       "#00CC78    int32\n",
       "#493AC1    int32\n",
       "#6A5CFF    int32\n",
       "#6D482F    int32\n",
       "#BE0039    int32\n",
       "#FF3881    int32\n",
       "#00CCC0    int32\n",
       "#515252    int32\n",
       "#6D001A    int32\n",
       "#94B3FF    int32\n",
       "#DE107F    int32\n",
       "#E4ABFF    int32\n",
       "#FFB470    int32\n",
       "#FFF8B8    int32\n",
       "dtype: object"
      ]
     },
     "execution_count": 53,
     "metadata": {},
     "output_type": "execute_result"
    }
   ],
   "source": [
    "columns = ddf_pivot.columns\n",
    "for column in columns:\n",
    "    ddf_pivot[column] = ddf_pivot[column].astype('int32')\n",
    "\n",
    "ddf_pivot.dtypes"
   ]
  },
  {
   "cell_type": "code",
   "execution_count": 54,
   "metadata": {},
   "outputs": [
    {
     "data": {
      "text/plain": [
       "['f:\\\\Дипломна работа\\\\code\\\\data\\\\raw\\\\2022_place_canvas_history_pivoted.csv']"
      ]
     },
     "execution_count": 54,
     "metadata": {},
     "output_type": "execute_result"
    }
   ],
   "source": [
    "ddf_pivot.to_csv('..\\\\data\\\\raw\\\\2022_place_canvas_history_pivoted.csv', single_file=True)"
   ]
  }
 ],
 "metadata": {
  "interpreter": {
   "hash": "d36c6117fc59c96afe055d6aa9fdc162c4e49e575a4ec40412ab8da821919109"
  },
  "kernelspec": {
   "display_name": "Python 3.8.0 64-bit",
   "language": "python",
   "name": "python3"
  },
  "language_info": {
   "codemirror_mode": {
    "name": "ipython",
    "version": 3
   },
   "file_extension": ".py",
   "mimetype": "text/x-python",
   "name": "python",
   "nbconvert_exporter": "python",
   "pygments_lexer": "ipython3",
   "version": "3.8.0"
  },
  "orig_nbformat": 4
 },
 "nbformat": 4,
 "nbformat_minor": 2
}
