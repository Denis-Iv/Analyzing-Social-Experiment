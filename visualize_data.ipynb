{
 "cells": [
  {
   "cell_type": "markdown",
   "metadata": {},
   "source": [
    "# Импорти и глобални параметри"
   ]
  },
  {
   "cell_type": "code",
   "execution_count": 23,
   "metadata": {},
   "outputs": [],
   "source": [
    "from dask import dataframe as dd\n",
    "import matplotlib.pyplot as plt\n",
    "from datetime import datetime\n",
    "import pandas_alive\n",
    "from matplotlib.ticker import ScalarFormatter\n",
    "\n",
    "plt.rcParams['font.size'] = '20'"
   ]
  },
  {
   "cell_type": "markdown",
   "metadata": {},
   "source": [
    "# Импортиране на файлове"
   ]
  },
  {
   "cell_type": "code",
   "execution_count": 2,
   "metadata": {},
   "outputs": [
    {
     "data": {
      "text/html": [
       "<div>\n",
       "<style scoped>\n",
       "    .dataframe tbody tr th:only-of-type {\n",
       "        vertical-align: middle;\n",
       "    }\n",
       "\n",
       "    .dataframe tbody tr th {\n",
       "        vertical-align: top;\n",
       "    }\n",
       "\n",
       "    .dataframe thead th {\n",
       "        text-align: right;\n",
       "    }\n",
       "</style>\n",
       "<table border=\"1\" class=\"dataframe\">\n",
       "  <thead>\n",
       "    <tr style=\"text-align: right;\">\n",
       "      <th></th>\n",
       "      <th>user_id</th>\n",
       "    </tr>\n",
       "  </thead>\n",
       "  <tbody>\n",
       "    <tr>\n",
       "      <th>0</th>\n",
       "      <td>ovTZk4GyTS1mDQnTbV+vDOCu1f+u6w+CkIZ6445vD4XN8a...</td>\n",
       "    </tr>\n",
       "    <tr>\n",
       "      <th>1</th>\n",
       "      <td>6NSgFa1CvIPly1VniNhlbrmoN3vgDFbMSKqh+c4TTfrr3d...</td>\n",
       "    </tr>\n",
       "    <tr>\n",
       "      <th>2</th>\n",
       "      <td>O5Oityp3Z3owzTuwM9XnMggpLcqKEumsOMKGhRiDTTImWb...</td>\n",
       "    </tr>\n",
       "    <tr>\n",
       "      <th>3</th>\n",
       "      <td>tc273UiqS0wKa6VwiOs/iz/t4LyPYrhL2Q347awn11IQQE...</td>\n",
       "    </tr>\n",
       "    <tr>\n",
       "      <th>4</th>\n",
       "      <td>OOWsU/HLb4UUkQwclDeXFtsJTOXMlAdNHiRpFA1Qk+SxUr...</td>\n",
       "    </tr>\n",
       "  </tbody>\n",
       "</table>\n",
       "</div>"
      ],
      "text/plain": [
       "                                             user_id\n",
       "0  ovTZk4GyTS1mDQnTbV+vDOCu1f+u6w+CkIZ6445vD4XN8a...\n",
       "1  6NSgFa1CvIPly1VniNhlbrmoN3vgDFbMSKqh+c4TTfrr3d...\n",
       "2  O5Oityp3Z3owzTuwM9XnMggpLcqKEumsOMKGhRiDTTImWb...\n",
       "3  tc273UiqS0wKa6VwiOs/iz/t4LyPYrhL2Q347awn11IQQE...\n",
       "4  OOWsU/HLb4UUkQwclDeXFtsJTOXMlAdNHiRpFA1Qk+SxUr..."
      ]
     },
     "execution_count": 2,
     "metadata": {},
     "output_type": "execute_result"
    }
   ],
   "source": [
    "ddf_users = dd.read_csv('..\\\\data\\\\raw\\\\2022_place_canvas_history_users.csv')\n",
    "ddf_users.head()"
   ]
  },
  {
   "cell_type": "code",
   "execution_count": 3,
   "metadata": {},
   "outputs": [
    {
     "data": {
      "text/html": [
       "<div>\n",
       "<style scoped>\n",
       "    .dataframe tbody tr th:only-of-type {\n",
       "        vertical-align: middle;\n",
       "    }\n",
       "\n",
       "    .dataframe tbody tr th {\n",
       "        vertical-align: top;\n",
       "    }\n",
       "\n",
       "    .dataframe thead th {\n",
       "        text-align: right;\n",
       "    }\n",
       "</style>\n",
       "<table border=\"1\" class=\"dataframe\">\n",
       "  <thead>\n",
       "    <tr style=\"text-align: right;\">\n",
       "      <th></th>\n",
       "      <th>timestamp</th>\n",
       "      <th>pixel_color</th>\n",
       "      <th>coordinate</th>\n",
       "    </tr>\n",
       "  </thead>\n",
       "  <tbody>\n",
       "    <tr>\n",
       "      <th>0</th>\n",
       "      <td>0</td>\n",
       "      <td>14</td>\n",
       "      <td>42,42</td>\n",
       "    </tr>\n",
       "    <tr>\n",
       "      <th>1</th>\n",
       "      <td>12356</td>\n",
       "      <td>3</td>\n",
       "      <td>999,999</td>\n",
       "    </tr>\n",
       "    <tr>\n",
       "      <th>2</th>\n",
       "      <td>16311</td>\n",
       "      <td>7</td>\n",
       "      <td>44,42</td>\n",
       "    </tr>\n",
       "    <tr>\n",
       "      <th>3</th>\n",
       "      <td>21388</td>\n",
       "      <td>21</td>\n",
       "      <td>2,2</td>\n",
       "    </tr>\n",
       "    <tr>\n",
       "      <th>4</th>\n",
       "      <td>34094</td>\n",
       "      <td>7</td>\n",
       "      <td>23,23</td>\n",
       "    </tr>\n",
       "  </tbody>\n",
       "</table>\n",
       "</div>"
      ],
      "text/plain": [
       "   timestamp  pixel_color coordinate\n",
       "0          0           14      42,42\n",
       "1      12356            3    999,999\n",
       "2      16311            7      44,42\n",
       "3      21388           21        2,2\n",
       "4      34094            7      23,23"
      ]
     },
     "execution_count": 3,
     "metadata": {},
     "output_type": "execute_result"
    }
   ],
   "source": [
    "ddf_main = dd.read_csv('..\\\\data\\\\raw\\\\2022_place_canvas_history_optimized.csv')\n",
    "ddf_main.head()"
   ]
  },
  {
   "cell_type": "markdown",
   "metadata": {},
   "source": [
    "# Работа с таблицата за потребители"
   ]
  },
  {
   "cell_type": "code",
   "execution_count": 4,
   "metadata": {},
   "outputs": [],
   "source": [
    "all_users = ddf_users.user_id.value_counts().compute().reset_index(name='num')"
   ]
  },
  {
   "cell_type": "markdown",
   "metadata": {},
   "source": [
    "### Стълбовидна диаграма за 20-те най-активни потребители"
   ]
  },
  {
   "cell_type": "code",
   "execution_count": 5,
   "metadata": {},
   "outputs": [
    {
     "data": {
      "text/html": [
       "<div>\n",
       "<style scoped>\n",
       "    .dataframe tbody tr th:only-of-type {\n",
       "        vertical-align: middle;\n",
       "    }\n",
       "\n",
       "    .dataframe tbody tr th {\n",
       "        vertical-align: top;\n",
       "    }\n",
       "\n",
       "    .dataframe thead th {\n",
       "        text-align: right;\n",
       "    }\n",
       "</style>\n",
       "<table border=\"1\" class=\"dataframe\">\n",
       "  <thead>\n",
       "    <tr style=\"text-align: right;\">\n",
       "      <th></th>\n",
       "      <th>index</th>\n",
       "      <th>num</th>\n",
       "    </tr>\n",
       "  </thead>\n",
       "  <tbody>\n",
       "    <tr>\n",
       "      <th>0</th>\n",
       "      <td>kgZoJz//JpfXgowLxOhcQlFYOCm8m6upa6Rpltcc63K6Cz...</td>\n",
       "      <td>795</td>\n",
       "    </tr>\n",
       "    <tr>\n",
       "      <th>1</th>\n",
       "      <td>JMlte6XKe+nnFvxcjT0hHDYYNgiDXZVOkhr6KT60EtJAGa...</td>\n",
       "      <td>781</td>\n",
       "    </tr>\n",
       "    <tr>\n",
       "      <th>2</th>\n",
       "      <td>LNbGhj45pAeCvBYQF1dPvwx1zVfVTy8AdRxTSHi0pR9Yea...</td>\n",
       "      <td>777</td>\n",
       "    </tr>\n",
       "    <tr>\n",
       "      <th>3</th>\n",
       "      <td>8USqGo14WuZQLG7PSAwqfFwICkU0G4VyHZTuV8D1QSbQHE...</td>\n",
       "      <td>767</td>\n",
       "    </tr>\n",
       "    <tr>\n",
       "      <th>4</th>\n",
       "      <td>K54RRTUCFuOU55RzSTkjo/ftbJqVi9miyt52YV6NlENRfU...</td>\n",
       "      <td>767</td>\n",
       "    </tr>\n",
       "    <tr>\n",
       "      <th>5</th>\n",
       "      <td>DspItMbX4x7ZD/Ozqke3BL3IQs40A3suoSQ8mb5V7Nu8Z1...</td>\n",
       "      <td>766</td>\n",
       "    </tr>\n",
       "    <tr>\n",
       "      <th>6</th>\n",
       "      <td>6QK00igvPdzUYm9SEriCDTbwTmM3RcY17Ynr9FRA6PfLKM...</td>\n",
       "      <td>765</td>\n",
       "    </tr>\n",
       "    <tr>\n",
       "      <th>7</th>\n",
       "      <td>VenbgVzRUq0U7MX3agINB3qBtjbEkZh8HmPSQHnkhkTwy/...</td>\n",
       "      <td>758</td>\n",
       "    </tr>\n",
       "    <tr>\n",
       "      <th>8</th>\n",
       "      <td>jjtKU98x1Bc/qYVoVBq/gQd6yaFiaTrb2vT6fp+Ias+Pea...</td>\n",
       "      <td>730</td>\n",
       "    </tr>\n",
       "    <tr>\n",
       "      <th>9</th>\n",
       "      <td>VHg2OiSkbBCDTTl1W41fdvDSJk/QtKsdsufSZomBPV3cr2...</td>\n",
       "      <td>713</td>\n",
       "    </tr>\n",
       "    <tr>\n",
       "      <th>10</th>\n",
       "      <td>TMlARGMJdmz7l+tFyl35z+/JmxfKQ4v+J5R49Hsin840+W...</td>\n",
       "      <td>707</td>\n",
       "    </tr>\n",
       "    <tr>\n",
       "      <th>11</th>\n",
       "      <td>/bHvPrpxCR0z2XyW50uCG277FzgDmdN88mW5MsAHDkZVR0...</td>\n",
       "      <td>693</td>\n",
       "    </tr>\n",
       "    <tr>\n",
       "      <th>12</th>\n",
       "      <td>/WGJoCWq1YMVOceGyK6aJKBuXZemxkEjC5PQRybz44A+lY...</td>\n",
       "      <td>692</td>\n",
       "    </tr>\n",
       "    <tr>\n",
       "      <th>13</th>\n",
       "      <td>M5ALAb3N0o/fsoBJPcgb4K2bQZvbrKBEUjnGn8ilMF6pz4...</td>\n",
       "      <td>678</td>\n",
       "    </tr>\n",
       "    <tr>\n",
       "      <th>14</th>\n",
       "      <td>2Q3uUJ/COj8cEentypGuXyGKXzkvUCOHLVJtHNyWjd4XB+...</td>\n",
       "      <td>673</td>\n",
       "    </tr>\n",
       "    <tr>\n",
       "      <th>15</th>\n",
       "      <td>HUChBTJUWVtsb7nPdwDGS/NBvZqg4HvqNxo3AZbbU+VxEf...</td>\n",
       "      <td>670</td>\n",
       "    </tr>\n",
       "    <tr>\n",
       "      <th>16</th>\n",
       "      <td>RBLMaPaOq15DJvgEvXKatS8pUAQvsRTG9YrBdvh7TRaPSX...</td>\n",
       "      <td>670</td>\n",
       "    </tr>\n",
       "    <tr>\n",
       "      <th>17</th>\n",
       "      <td>6/vtU6LdHfsQl/+NxJRyQdsyeXr2dwkHuQunGX+9xRV4I+...</td>\n",
       "      <td>670</td>\n",
       "    </tr>\n",
       "    <tr>\n",
       "      <th>18</th>\n",
       "      <td>BY9Nk55dKnEVcYGos/8YKyQnr5zU4GXVXLrUaX67orx05I...</td>\n",
       "      <td>658</td>\n",
       "    </tr>\n",
       "    <tr>\n",
       "      <th>19</th>\n",
       "      <td>oIJZRgTHdz4k3wULAhBJfm4SzP73AFaj1q/ZXlBjyMaWV9...</td>\n",
       "      <td>656</td>\n",
       "    </tr>\n",
       "  </tbody>\n",
       "</table>\n",
       "</div>"
      ],
      "text/plain": [
       "                                                index  num\n",
       "0   kgZoJz//JpfXgowLxOhcQlFYOCm8m6upa6Rpltcc63K6Cz...  795\n",
       "1   JMlte6XKe+nnFvxcjT0hHDYYNgiDXZVOkhr6KT60EtJAGa...  781\n",
       "2   LNbGhj45pAeCvBYQF1dPvwx1zVfVTy8AdRxTSHi0pR9Yea...  777\n",
       "3   8USqGo14WuZQLG7PSAwqfFwICkU0G4VyHZTuV8D1QSbQHE...  767\n",
       "4   K54RRTUCFuOU55RzSTkjo/ftbJqVi9miyt52YV6NlENRfU...  767\n",
       "5   DspItMbX4x7ZD/Ozqke3BL3IQs40A3suoSQ8mb5V7Nu8Z1...  766\n",
       "6   6QK00igvPdzUYm9SEriCDTbwTmM3RcY17Ynr9FRA6PfLKM...  765\n",
       "7   VenbgVzRUq0U7MX3agINB3qBtjbEkZh8HmPSQHnkhkTwy/...  758\n",
       "8   jjtKU98x1Bc/qYVoVBq/gQd6yaFiaTrb2vT6fp+Ias+Pea...  730\n",
       "9   VHg2OiSkbBCDTTl1W41fdvDSJk/QtKsdsufSZomBPV3cr2...  713\n",
       "10  TMlARGMJdmz7l+tFyl35z+/JmxfKQ4v+J5R49Hsin840+W...  707\n",
       "11  /bHvPrpxCR0z2XyW50uCG277FzgDmdN88mW5MsAHDkZVR0...  693\n",
       "12  /WGJoCWq1YMVOceGyK6aJKBuXZemxkEjC5PQRybz44A+lY...  692\n",
       "13  M5ALAb3N0o/fsoBJPcgb4K2bQZvbrKBEUjnGn8ilMF6pz4...  678\n",
       "14  2Q3uUJ/COj8cEentypGuXyGKXzkvUCOHLVJtHNyWjd4XB+...  673\n",
       "15  HUChBTJUWVtsb7nPdwDGS/NBvZqg4HvqNxo3AZbbU+VxEf...  670\n",
       "16  RBLMaPaOq15DJvgEvXKatS8pUAQvsRTG9YrBdvh7TRaPSX...  670\n",
       "17  6/vtU6LdHfsQl/+NxJRyQdsyeXr2dwkHuQunGX+9xRV4I+...  670\n",
       "18  BY9Nk55dKnEVcYGos/8YKyQnr5zU4GXVXLrUaX67orx05I...  658\n",
       "19  oIJZRgTHdz4k3wULAhBJfm4SzP73AFaj1q/ZXlBjyMaWV9...  656"
      ]
     },
     "execution_count": 5,
     "metadata": {},
     "output_type": "execute_result"
    }
   ],
   "source": [
    "most_active_users = all_users.head(20)\n",
    "most_active_users"
   ]
  },
  {
   "cell_type": "code",
   "execution_count": 6,
   "metadata": {},
   "outputs": [
    {
     "data": {
      "image/png": "[encoded data removed]",
      "text/plain": [
       "<Figure size 1080x1080 with 1 Axes>"
      ]
     },
     "metadata": {
      "needs_background": "light"
     },
     "output_type": "display_data"
    }
   ],
   "source": [
    "plot = most_active_users.plot(figsize=(15,15), kind='barh', zorder=3)\n",
    "plot.set_xscale('linear')\n",
    "plot.set_xlabel('Брой поставени пиксели')\n",
    "plot.set_ylabel('Уникален идентификатор')\n",
    "plot.set_title('20 най-активни потребители')\n",
    "plot.invert_yaxis()\n",
    "plot.grid(visible=True)\n",
    "\n",
    "y_tick_labels = []\n",
    "for label in plot.get_yticklabels():\n",
    "    y_tick_labels.append(label.get_text()[0:15])\n",
    "\n",
    "plot.set_yticklabels(y_tick_labels)\n",
    "plot.grid(visible=True, zorder=0)\n",
    "\n",
    "bar_labels = plot.containers[0]\n",
    "plot.axes.bar_label(bar_labels, padding=5)\n",
    "\n",
    "plot.get_legend().remove()\n"
   ]
  },
  {
   "cell_type": "markdown",
   "metadata": {},
   "source": [
    "### Разпръсната диаграма, представяща броят потребители според броят на поставените им пиксели"
   ]
  },
  {
   "cell_type": "code",
   "execution_count": 7,
   "metadata": {},
   "outputs": [
    {
     "data": {
      "text/html": [
       "<div>\n",
       "<style scoped>\n",
       "    .dataframe tbody tr th:only-of-type {\n",
       "        vertical-align: middle;\n",
       "    }\n",
       "\n",
       "    .dataframe tbody tr th {\n",
       "        vertical-align: top;\n",
       "    }\n",
       "\n",
       "    .dataframe thead th {\n",
       "        text-align: right;\n",
       "    }\n",
       "</style>\n",
       "<table border=\"1\" class=\"dataframe\">\n",
       "  <thead>\n",
       "    <tr style=\"text-align: right;\">\n",
       "      <th></th>\n",
       "      <th>index</th>\n",
       "      <th>users</th>\n",
       "    </tr>\n",
       "  </thead>\n",
       "  <tbody>\n",
       "    <tr>\n",
       "      <th>0</th>\n",
       "      <td>1</td>\n",
       "      <td>2340498</td>\n",
       "    </tr>\n",
       "    <tr>\n",
       "      <th>1</th>\n",
       "      <td>2</td>\n",
       "      <td>1175052</td>\n",
       "    </tr>\n",
       "    <tr>\n",
       "      <th>2</th>\n",
       "      <td>3</td>\n",
       "      <td>768335</td>\n",
       "    </tr>\n",
       "    <tr>\n",
       "      <th>3</th>\n",
       "      <td>4</td>\n",
       "      <td>572021</td>\n",
       "    </tr>\n",
       "    <tr>\n",
       "      <th>4</th>\n",
       "      <td>5</td>\n",
       "      <td>460215</td>\n",
       "    </tr>\n",
       "    <tr>\n",
       "      <th>...</th>\n",
       "      <td>...</td>\n",
       "      <td>...</td>\n",
       "    </tr>\n",
       "    <tr>\n",
       "      <th>633</th>\n",
       "      <td>632</td>\n",
       "      <td>1</td>\n",
       "    </tr>\n",
       "    <tr>\n",
       "      <th>634</th>\n",
       "      <td>637</td>\n",
       "      <td>1</td>\n",
       "    </tr>\n",
       "    <tr>\n",
       "      <th>635</th>\n",
       "      <td>638</td>\n",
       "      <td>1</td>\n",
       "    </tr>\n",
       "    <tr>\n",
       "      <th>636</th>\n",
       "      <td>639</td>\n",
       "      <td>1</td>\n",
       "    </tr>\n",
       "    <tr>\n",
       "      <th>637</th>\n",
       "      <td>795</td>\n",
       "      <td>1</td>\n",
       "    </tr>\n",
       "  </tbody>\n",
       "</table>\n",
       "<p>638 rows × 2 columns</p>\n",
       "</div>"
      ],
      "text/plain": [
       "     index    users\n",
       "0        1  2340498\n",
       "1        2  1175052\n",
       "2        3   768335\n",
       "3        4   572021\n",
       "4        5   460215\n",
       "..     ...      ...\n",
       "633    632        1\n",
       "634    637        1\n",
       "635    638        1\n",
       "636    639        1\n",
       "637    795        1\n",
       "\n",
       "[638 rows x 2 columns]"
      ]
     },
     "execution_count": 7,
     "metadata": {},
     "output_type": "execute_result"
    }
   ],
   "source": [
    "num_active_users = all_users.num.value_counts().reset_index(name='users')\n",
    "num_active_users"
   ]
  },
  {
   "cell_type": "code",
   "execution_count": 8,
   "metadata": {},
   "outputs": [
    {
     "data": {
      "image/png": "[encoded data removed]",
      "text/plain": [
       "<Figure size 1080x1080 with 1 Axes>"
      ]
     },
     "metadata": {
      "needs_background": "light"
     },
     "output_type": "display_data"
    }
   ],
   "source": [
    "plot = num_active_users.plot(x=0, y=1, figsize=(15,15), kind='scatter', zorder=3)\n",
    "plot.set_yscale('linear')\n",
    "plot.set_xscale('linear')\n",
    "plot.set_xlabel('Брой поставени пиксели')\n",
    "plot.set_ylabel('Брой потребители')\n",
    "plot.set_title('Брой потребители според броят поставени пиксели')\n",
    "plot.set_xticks([1,50,100,150,200,250,300,350,400,450,500,550,600,650,700,750,800])\n",
    "plot.grid(visible=True, zorder=0)\n",
    "plot.get_yaxis().get_major_formatter().set_scientific(False)"
   ]
  },
  {
   "cell_type": "markdown",
   "metadata": {},
   "source": [
    "# Работа с основната информация"
   ]
  },
  {
   "cell_type": "markdown",
   "metadata": {},
   "source": [
    "## Работа с информация за цветовете"
   ]
  },
  {
   "cell_type": "code",
   "execution_count": 9,
   "metadata": {},
   "outputs": [],
   "source": [
    "def parse_pixel_color(pixel_color):\n",
    "    key_to_hex = {\n",
    "        0: [\"#000000\", \"Черно\"],\n",
    "        1: [\"#00756F\", \"Зелено\"],\n",
    "        2: [\"#009EAA\", \"Синьо\"],\n",
    "        3: [\"#00A368\", \"Тъмно синьо\"],\n",
    "        4: [\"#00CC78\", \"Карибско зелено\"],\n",
    "        5: [\"#00CCC0\", \"Циано\"],\n",
    "        6: [\"#2450A4\", \"Тъмно синьо\"],\n",
    "        7: [\"#3690EA\", \"Светло синьо\"],\n",
    "        8: [\"#493AC1\", \"Синьо-лилаво\"],\n",
    "        9: [\"#515252\", \"Сиво\"],\n",
    "        10: [\"#51E9F4\", \"Тюркоазено\"],\n",
    "        11: [\"#6A5CFF\", \"Светло синьо-лилаво\"],\n",
    "        12: [\"#6D001A\", \"Тъмно червено\"],\n",
    "        13: [\"#6D482F\", \"Кафяво\"],\n",
    "        14: [\"#7EED56\", \"Светло зелено\"],\n",
    "        15: [\"#811E9F\", \"Тъмно лилаво\"],\n",
    "        16: [\"#898D90\", \"Светло сиво\"],\n",
    "        17: [\"#94B3FF\", \"Сиво-синьо\",],\n",
    "        18: [\"#9C6926\", \"Жълто-кафяво\"],\n",
    "        19: [\"#B44AC0\", \"Светло лилаво\"],\n",
    "        20: [\"#BE0039\", \"Червено\"],\n",
    "        21: [\"#D4D7D9\", \"Сребърно\"],\n",
    "        22: [\"#DE107F\", \"Тъмно розово\"],\n",
    "        23: [\"#E4ABFF\", \"Лилаво-розово\"],\n",
    "        24: [\"#FF3881\", \"Светло розово\"],\n",
    "        25: [\"#FF4500\", \"Червено-оранжево\"],\n",
    "        26: [\"#FF99AA\", \"Розово\"],\n",
    "        27: [\"#FFA800\", \"Жълто-оранжево\"],\n",
    "        28: [\"#FFB470\", \"Оранжево\"],\n",
    "        29: [\"#FFD635\", \"Жълто\"],\n",
    "        30: [\"#FFF8B8\", \"Светло жълто\"],\n",
    "        31: [\"#FFFFFF\", \"Бяло\"],\n",
    "    }\n",
    "    return key_to_hex[pixel_color]"
   ]
  },
  {
   "cell_type": "markdown",
   "metadata": {},
   "source": [
    "### Диаграма, представяща броят поставени пиксели от всеки цвят"
   ]
  },
  {
   "cell_type": "code",
   "execution_count": 10,
   "metadata": {},
   "outputs": [
    {
     "data": {
      "text/plain": [
       "0     33707371\n",
       "31    32251013\n",
       "25    14411389\n",
       "6      9989854\n",
       "29     8519392\n",
       "20     5911641\n",
       "10     5700301\n",
       "15     5245484\n",
       "27     5059970\n",
       "26     4917801\n",
       "7      4058046\n",
       "3      3892844\n",
       "16     3459390\n",
       "14     3417232\n",
       "21     3324082\n",
       "18     2473639\n",
       "28     2104848\n",
       "24     1458772\n",
       "19     1287672\n",
       "13     1261416\n",
       "4      1200067\n",
       "8      1139350\n",
       "30      954606\n",
       "9       868769\n",
       "12      621194\n",
       "22      589211\n",
       "1       572572\n",
       "11      499233\n",
       "17      454142\n",
       "2       436068\n",
       "23      350873\n",
       "5       214862\n",
       "Name: pixel_color, dtype: int64"
      ]
     },
     "execution_count": 10,
     "metadata": {},
     "output_type": "execute_result"
    }
   ],
   "source": [
    "most_used_colors = ddf_main.pixel_color.value_counts().compute()\n",
    "most_used_colors"
   ]
  },
  {
   "cell_type": "code",
   "execution_count": 11,
   "metadata": {},
   "outputs": [
    {
     "data": {
      "image/png": "[encoded data removed]",
      "text/plain": [
       "<Figure size 1080x1080 with 1 Axes>"
      ]
     },
     "metadata": {
      "needs_background": "light"
     },
     "output_type": "display_data"
    }
   ],
   "source": [
    "colors = []\n",
    "for color_num in most_used_colors.iteritems():\n",
    "    colors.append(parse_pixel_color(color_num[0])[0])\n",
    "\n",
    "colors_names = []\n",
    "for color_hex in most_used_colors.iteritems():\n",
    "    colors_names.append(parse_pixel_color(color_hex[0])[0])\n",
    "    \n",
    "plot = most_used_colors.plot(figsize=(15,15), kind='barh', color=colors, edgecolor='black', zorder=3)\n",
    "plot.set_xscale('linear')\n",
    "plot.set_xlabel('Брой поставени пиксели (в милиони)')\n",
    "plot.set_ylabel('Цвят')\n",
    "plot.set_title('Брой пиксели от всеки цвят')\n",
    "plot.set_yticklabels(colors_names)\n",
    "plot.invert_yaxis()\n",
    "plot.grid(visible=True, zorder=0)\n",
    "plot.get_yaxis().get_major_formatter().set_scientific(False)"
   ]
  },
  {
   "cell_type": "markdown",
   "metadata": {},
   "source": [
    "## Работа с информацията за координатите"
   ]
  },
  {
   "cell_type": "code",
   "execution_count": 12,
   "metadata": {},
   "outputs": [],
   "source": [
    "active_spots = ddf_main.coordinate.value_counts().compute()"
   ]
  },
  {
   "cell_type": "markdown",
   "metadata": {},
   "source": [
    "### Диаграма, преставяща 20-те най-често променяни точки"
   ]
  },
  {
   "cell_type": "code",
   "execution_count": 13,
   "metadata": {},
   "outputs": [
    {
     "data": {
      "text/plain": [
       "0,0          98807\n",
       "359,564      69198\n",
       "349,564      55230\n",
       "859,766      52261\n",
       "860,766      51485\n",
       "104,768      38086\n",
       "105,768      34082\n",
       "1999,1999    31437\n",
       "1999,0       30882\n",
       "633,728      30752\n",
       "1058,756     29295\n",
       "1999,999     26928\n",
       "999,999      23271\n",
       "0,1999       22763\n",
       "420,420      22365\n",
       "0,999        22358\n",
       "780,888      22164\n",
       "299,372      21183\n",
       "1059,756     19778\n",
       "1890,353     19383\n",
       "Name: coordinate, dtype: int64"
      ]
     },
     "execution_count": 13,
     "metadata": {},
     "output_type": "execute_result"
    }
   ],
   "source": [
    "top_active_spots = active_spots.head(20)\n",
    "top_active_spots"
   ]
  },
  {
   "cell_type": "code",
   "execution_count": 14,
   "metadata": {},
   "outputs": [
    {
     "data": {
      "image/png": "[encoded data removed]",
      "text/plain": [
       "<Figure size 1080x1080 with 1 Axes>"
      ]
     },
     "metadata": {
      "needs_background": "light"
     },
     "output_type": "display_data"
    }
   ],
   "source": [
    "plot = top_active_spots.plot(figsize=(15,15), kind='barh', zorder=3)\n",
    "plot.set_xscale('linear')\n",
    "plot.set_xlabel('Брой промени')\n",
    "plot.set_ylabel('Координати')\n",
    "plot.set_title('20 най-активни точки')\n",
    "plot.invert_yaxis()\n",
    "plot.grid(visible=True, zorder=0)\n"
   ]
  },
  {
   "cell_type": "markdown",
   "metadata": {},
   "source": [
    "## Работа с информацията за времето"
   ]
  },
  {
   "cell_type": "code",
   "execution_count": 4,
   "metadata": {},
   "outputs": [],
   "source": [
    "def parse_timestamp(timestamp):\n",
    "    date_format = '%Y-%m-%d %H'\n",
    "\n",
    "    timestamp /= 1000\n",
    "    timestamp = int(timestamp)\n",
    "    timestamp += 1648806250\n",
    "\n",
    "    dt = datetime.fromtimestamp(timestamp).strftime(date_format)\n",
    "    dt = datetime.strptime(dt, date_format)\n",
    "\n",
    "    return dt"
   ]
  },
  {
   "cell_type": "code",
   "execution_count": 5,
   "metadata": {},
   "outputs": [
    {
     "data": {
      "text/html": [
       "<div>\n",
       "<style scoped>\n",
       "    .dataframe tbody tr th:only-of-type {\n",
       "        vertical-align: middle;\n",
       "    }\n",
       "\n",
       "    .dataframe tbody tr th {\n",
       "        vertical-align: top;\n",
       "    }\n",
       "\n",
       "    .dataframe thead th {\n",
       "        text-align: right;\n",
       "    }\n",
       "</style>\n",
       "<table border=\"1\" class=\"dataframe\">\n",
       "  <thead>\n",
       "    <tr style=\"text-align: right;\">\n",
       "      <th></th>\n",
       "      <th>timestamp</th>\n",
       "      <th>pixel_color</th>\n",
       "      <th>coordinate</th>\n",
       "    </tr>\n",
       "  </thead>\n",
       "  <tbody>\n",
       "    <tr>\n",
       "      <th>0</th>\n",
       "      <td>0</td>\n",
       "      <td>14</td>\n",
       "      <td>42,42</td>\n",
       "    </tr>\n",
       "    <tr>\n",
       "      <th>1</th>\n",
       "      <td>12356</td>\n",
       "      <td>3</td>\n",
       "      <td>999,999</td>\n",
       "    </tr>\n",
       "    <tr>\n",
       "      <th>2</th>\n",
       "      <td>16311</td>\n",
       "      <td>7</td>\n",
       "      <td>44,42</td>\n",
       "    </tr>\n",
       "    <tr>\n",
       "      <th>3</th>\n",
       "      <td>21388</td>\n",
       "      <td>21</td>\n",
       "      <td>2,2</td>\n",
       "    </tr>\n",
       "    <tr>\n",
       "      <th>4</th>\n",
       "      <td>34094</td>\n",
       "      <td>7</td>\n",
       "      <td>23,23</td>\n",
       "    </tr>\n",
       "  </tbody>\n",
       "</table>\n",
       "</div>"
      ],
      "text/plain": [
       "   timestamp  pixel_color coordinate\n",
       "0          0           14      42,42\n",
       "1      12356            3    999,999\n",
       "2      16311            7      44,42\n",
       "3      21388           21        2,2\n",
       "4      34094            7      23,23"
      ]
     },
     "execution_count": 5,
     "metadata": {},
     "output_type": "execute_result"
    }
   ],
   "source": [
    "ddf_modified = ddf_main.copy()\n",
    "ddf_modified.head()"
   ]
  },
  {
   "cell_type": "code",
   "execution_count": 6,
   "metadata": {},
   "outputs": [
    {
     "data": {
      "text/html": [
       "<div>\n",
       "<style scoped>\n",
       "    .dataframe tbody tr th:only-of-type {\n",
       "        vertical-align: middle;\n",
       "    }\n",
       "\n",
       "    .dataframe tbody tr th {\n",
       "        vertical-align: top;\n",
       "    }\n",
       "\n",
       "    .dataframe thead th {\n",
       "        text-align: right;\n",
       "    }\n",
       "</style>\n",
       "<table border=\"1\" class=\"dataframe\">\n",
       "  <thead>\n",
       "    <tr style=\"text-align: right;\">\n",
       "      <th></th>\n",
       "      <th>datetime</th>\n",
       "    </tr>\n",
       "  </thead>\n",
       "  <tbody>\n",
       "    <tr>\n",
       "      <th>0</th>\n",
       "      <td>2022-04-01 12:00:00</td>\n",
       "    </tr>\n",
       "    <tr>\n",
       "      <th>1</th>\n",
       "      <td>2022-04-01 12:00:00</td>\n",
       "    </tr>\n",
       "    <tr>\n",
       "      <th>2</th>\n",
       "      <td>2022-04-01 12:00:00</td>\n",
       "    </tr>\n",
       "    <tr>\n",
       "      <th>3</th>\n",
       "      <td>2022-04-01 12:00:00</td>\n",
       "    </tr>\n",
       "    <tr>\n",
       "      <th>4</th>\n",
       "      <td>2022-04-01 12:00:00</td>\n",
       "    </tr>\n",
       "  </tbody>\n",
       "</table>\n",
       "</div>"
      ],
      "text/plain": [
       "             datetime\n",
       "0 2022-04-01 12:00:00\n",
       "1 2022-04-01 12:00:00\n",
       "2 2022-04-01 12:00:00\n",
       "3 2022-04-01 12:00:00\n",
       "4 2022-04-01 12:00:00"
      ]
     },
     "execution_count": 6,
     "metadata": {},
     "output_type": "execute_result"
    }
   ],
   "source": [
    "ddf_modified = ddf_modified.drop(['pixel_color', 'coordinate'], axis=1)\n",
    "ddf_modified['datetime'] = ddf_modified['timestamp'].map(parse_timestamp)\n",
    "ddf_modified = ddf_modified.drop('timestamp', axis=1)\n",
    "ddf_modified.head()"
   ]
  },
  {
   "cell_type": "code",
   "execution_count": 7,
   "metadata": {},
   "outputs": [
    {
     "data": {
      "text/plain": [
       "2022-04-04 21:00:00    5901646\n",
       "2022-04-04 22:00:00    5640455\n",
       "2022-04-04 20:00:00    4904479\n",
       "2022-04-04 19:00:00    4567933\n",
       "2022-04-03 21:00:00    4480088\n",
       "Name: datetime, dtype: int64"
      ]
     },
     "execution_count": 7,
     "metadata": {},
     "output_type": "execute_result"
    }
   ],
   "source": [
    "ddf_modified = ddf_modified.datetime.value_counts('datetime').compute()\n",
    "ddf_modified.head()"
   ]
  },
  {
   "cell_type": "code",
   "execution_count": 8,
   "metadata": {},
   "outputs": [
    {
     "data": {
      "text/html": [
       "<div>\n",
       "<style scoped>\n",
       "    .dataframe tbody tr th:only-of-type {\n",
       "        vertical-align: middle;\n",
       "    }\n",
       "\n",
       "    .dataframe tbody tr th {\n",
       "        vertical-align: top;\n",
       "    }\n",
       "\n",
       "    .dataframe thead th {\n",
       "        text-align: right;\n",
       "    }\n",
       "</style>\n",
       "<table border=\"1\" class=\"dataframe\">\n",
       "  <thead>\n",
       "    <tr style=\"text-align: right;\">\n",
       "      <th></th>\n",
       "      <th>num_placed_pixels</th>\n",
       "    </tr>\n",
       "    <tr>\n",
       "      <th>index</th>\n",
       "      <th></th>\n",
       "    </tr>\n",
       "  </thead>\n",
       "  <tbody>\n",
       "    <tr>\n",
       "      <th>2022-04-01 12:00:00</th>\n",
       "      <td>19</td>\n",
       "    </tr>\n",
       "    <tr>\n",
       "      <th>2022-04-01 13:00:00</th>\n",
       "      <td>548836</td>\n",
       "    </tr>\n",
       "    <tr>\n",
       "      <th>2022-04-01 14:00:00</th>\n",
       "      <td>867847</td>\n",
       "    </tr>\n",
       "    <tr>\n",
       "      <th>2022-04-01 15:00:00</th>\n",
       "      <td>996924</td>\n",
       "    </tr>\n",
       "    <tr>\n",
       "      <th>2022-04-01 16:00:00</th>\n",
       "      <td>1070919</td>\n",
       "    </tr>\n",
       "  </tbody>\n",
       "</table>\n",
       "</div>"
      ],
      "text/plain": [
       "                     num_placed_pixels\n",
       "index                                 \n",
       "2022-04-01 12:00:00                 19\n",
       "2022-04-01 13:00:00             548836\n",
       "2022-04-01 14:00:00             867847\n",
       "2022-04-01 15:00:00             996924\n",
       "2022-04-01 16:00:00            1070919"
      ]
     },
     "execution_count": 8,
     "metadata": {},
     "output_type": "execute_result"
    }
   ],
   "source": [
    "ddf_modified = ddf_modified.reset_index(name='num_placed_pixels').sort_values('index').set_index('index')\n",
    "ddf_modified.head()"
   ]
  },
  {
   "cell_type": "code",
   "execution_count": 60,
   "metadata": {},
   "outputs": [],
   "source": [
    "fig = plt.figure()\n",
    "ax = plt.axes()\n",
    "\n",
    "ax.set_title('Брой поставени пиксели за всеки час', pad=40)\n",
    "ax.set_yscale('linear')\n",
    "ax.set_xlabel('Дата и час', labelpad=30)\n",
    "ax.set_ylabel('Брой поставени пиксели', labelpad=30)\n",
    "ax.grid(visible=True, zorder=3)\n",
    "ax.zorder=0\n",
    "ax.get_yaxis().get_major_formatter().set_scientific(False)\n"
   ]
  },
  {
   "cell_type": "code",
   "execution_count": null,
   "metadata": {},
   "outputs": [],
   "source": [
    "ddf_modified.plot_animated(filename='activity_over_time_plot.gif', \n",
    "fig=fig, \n",
    "add_legend=False, \n",
    "kind='line', \n",
    "figsize=(20,13),\n",
    "period_label=False,\n",
    "tick_label_size=15,\n",
    "label_events={    \n",
    "    '  Първи ден': datetime.strptime('00:00 01-04-2022', '%H:%M %d-%m-%Y'),\n",
    "    '  Втори ден': datetime.strptime('00:00 02-04-2022', '%H:%M %d-%m-%Y'),\n",
    "    '  Трети ден': datetime.strptime('00:00 03-04-2022', '%H:%M %d-%m-%Y'),\n",
    "    '  Четвърти ден': datetime.strptime('00:00 04-04-2022', '%H:%M %d-%m-%Y')\n",
    "},\n",
    "fill_under_line_color='g',\n",
    "antialiased=True\n",
    ")"
   ]
  }
 ],
 "metadata": {
  "interpreter": {
   "hash": "d36c6117fc59c96afe055d6aa9fdc162c4e49e575a4ec40412ab8da821919109"
  },
  "kernelspec": {
   "display_name": "Python 3.8.0 64-bit",
   "language": "python",
   "name": "python3"
  },
  "language_info": {
   "codemirror_mode": {
    "name": "ipython",
    "version": 3
   },
   "file_extension": ".py",
   "mimetype": "text/x-python",
   "name": "python",
   "nbconvert_exporter": "python",
   "pygments_lexer": "ipython3",
   "version": "3.8.0"
  },
  "orig_nbformat": 4
 },
 "nbformat": 4,
 "nbformat_minor": 2
}
