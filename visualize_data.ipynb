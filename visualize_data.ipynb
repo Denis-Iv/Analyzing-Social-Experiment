{
 "cells": [
  {
   "cell_type": "code",
   "execution_count": 1,
   "metadata": {},
   "outputs": [],
   "source": [
    "from dask import dataframe as dd\n",
    "import matplotlib.pyplot as plt"
   ]
  },
  {
   "cell_type": "code",
   "execution_count": 2,
   "metadata": {},
   "outputs": [
    {
     "data": {
      "text/html": [
       "<div>\n",
       "<style scoped>\n",
       "    .dataframe tbody tr th:only-of-type {\n",
       "        vertical-align: middle;\n",
       "    }\n",
       "\n",
       "    .dataframe tbody tr th {\n",
       "        vertical-align: top;\n",
       "    }\n",
       "\n",
       "    .dataframe thead th {\n",
       "        text-align: right;\n",
       "    }\n",
       "</style>\n",
       "<table border=\"1\" class=\"dataframe\">\n",
       "  <thead>\n",
       "    <tr style=\"text-align: right;\">\n",
       "      <th></th>\n",
       "      <th>user_id</th>\n",
       "    </tr>\n",
       "  </thead>\n",
       "  <tbody>\n",
       "    <tr>\n",
       "      <th>0</th>\n",
       "      <td>ovTZk4GyTS1mDQnTbV+vDOCu1f+u6w+CkIZ6445vD4XN8a...</td>\n",
       "    </tr>\n",
       "    <tr>\n",
       "      <th>1</th>\n",
       "      <td>6NSgFa1CvIPly1VniNhlbrmoN3vgDFbMSKqh+c4TTfrr3d...</td>\n",
       "    </tr>\n",
       "    <tr>\n",
       "      <th>2</th>\n",
       "      <td>O5Oityp3Z3owzTuwM9XnMggpLcqKEumsOMKGhRiDTTImWb...</td>\n",
       "    </tr>\n",
       "    <tr>\n",
       "      <th>3</th>\n",
       "      <td>tc273UiqS0wKa6VwiOs/iz/t4LyPYrhL2Q347awn11IQQE...</td>\n",
       "    </tr>\n",
       "    <tr>\n",
       "      <th>4</th>\n",
       "      <td>OOWsU/HLb4UUkQwclDeXFtsJTOXMlAdNHiRpFA1Qk+SxUr...</td>\n",
       "    </tr>\n",
       "    <tr>\n",
       "      <th>5</th>\n",
       "      <td>A0HdtcPvI7ipKivvXNVZDa3gkcjGXFjNxF5tca5QXazENC...</td>\n",
       "    </tr>\n",
       "    <tr>\n",
       "      <th>6</th>\n",
       "      <td>1U4LPuB22P6Yf7eRhKz6zU1dFMK5wXIzsNVPUNhP7eHIwG...</td>\n",
       "    </tr>\n",
       "    <tr>\n",
       "      <th>7</th>\n",
       "      <td>0AGoMGF50j0DJDc+704SwMylU90YDILDIgo8WOetgpiEWG...</td>\n",
       "    </tr>\n",
       "    <tr>\n",
       "      <th>8</th>\n",
       "      <td>tPcrtm7OtEmSThdRSWmB7jmTF9lUVZ1pltNv1oKqPY9bom...</td>\n",
       "    </tr>\n",
       "    <tr>\n",
       "      <th>9</th>\n",
       "      <td>7wfv1Tew3St1xYXQrTy7EF4LYwuuzxb0TXOxzxGBXriim8...</td>\n",
       "    </tr>\n",
       "    <tr>\n",
       "      <th>10</th>\n",
       "      <td>ib4u+ORY5n4gMEfn9hXET9u5Smqf35XpDsT0LSw8uczU4g...</td>\n",
       "    </tr>\n",
       "    <tr>\n",
       "      <th>11</th>\n",
       "      <td>xadOAP2Y78oQ59LcF84V837nQJhhvy7VVYOMCfhpNBAtGB...</td>\n",
       "    </tr>\n",
       "    <tr>\n",
       "      <th>12</th>\n",
       "      <td>v8gnoFQMs4Fa8yMNx7zEkahO/OBpFgZ8QHuBx+17o22//W...</td>\n",
       "    </tr>\n",
       "    <tr>\n",
       "      <th>13</th>\n",
       "      <td>M6qg0gHBJ0tt0XuHBHJlVCe4fHZEnHpyiNf1Yvs7G+HoAL...</td>\n",
       "    </tr>\n",
       "    <tr>\n",
       "      <th>14</th>\n",
       "      <td>dp+kbi+2CHPr3KMnkcx892m40Cs7uOdv4Q7SgiLb+G0GBB...</td>\n",
       "    </tr>\n",
       "  </tbody>\n",
       "</table>\n",
       "</div>"
      ],
      "text/plain": [
       "                                              user_id\n",
       "0   ovTZk4GyTS1mDQnTbV+vDOCu1f+u6w+CkIZ6445vD4XN8a...\n",
       "1   6NSgFa1CvIPly1VniNhlbrmoN3vgDFbMSKqh+c4TTfrr3d...\n",
       "2   O5Oityp3Z3owzTuwM9XnMggpLcqKEumsOMKGhRiDTTImWb...\n",
       "3   tc273UiqS0wKa6VwiOs/iz/t4LyPYrhL2Q347awn11IQQE...\n",
       "4   OOWsU/HLb4UUkQwclDeXFtsJTOXMlAdNHiRpFA1Qk+SxUr...\n",
       "5   A0HdtcPvI7ipKivvXNVZDa3gkcjGXFjNxF5tca5QXazENC...\n",
       "6   1U4LPuB22P6Yf7eRhKz6zU1dFMK5wXIzsNVPUNhP7eHIwG...\n",
       "7   0AGoMGF50j0DJDc+704SwMylU90YDILDIgo8WOetgpiEWG...\n",
       "8   tPcrtm7OtEmSThdRSWmB7jmTF9lUVZ1pltNv1oKqPY9bom...\n",
       "9   7wfv1Tew3St1xYXQrTy7EF4LYwuuzxb0TXOxzxGBXriim8...\n",
       "10  ib4u+ORY5n4gMEfn9hXET9u5Smqf35XpDsT0LSw8uczU4g...\n",
       "11  xadOAP2Y78oQ59LcF84V837nQJhhvy7VVYOMCfhpNBAtGB...\n",
       "12  v8gnoFQMs4Fa8yMNx7zEkahO/OBpFgZ8QHuBx+17o22//W...\n",
       "13  M6qg0gHBJ0tt0XuHBHJlVCe4fHZEnHpyiNf1Yvs7G+HoAL...\n",
       "14  dp+kbi+2CHPr3KMnkcx892m40Cs7uOdv4Q7SgiLb+G0GBB..."
      ]
     },
     "execution_count": 2,
     "metadata": {},
     "output_type": "execute_result"
    }
   ],
   "source": [
    "ddf_users = dd.read_csv('..\\\\data\\\\raw\\\\2022_place_canvas_history_users.csv')\n",
    "\n",
    "ddf_users.head(15)"
   ]
  },
  {
   "cell_type": "code",
   "execution_count": null,
   "metadata": {},
   "outputs": [],
   "source": [
    "active_users = ddf_users.user_id.value_counts().compute()"
   ]
  },
  {
   "cell_type": "code",
   "execution_count": null,
   "metadata": {},
   "outputs": [],
   "source": [
    "most_active_users = active_users.head(20)\n",
    "most_active_users"
   ]
  },
  {
   "cell_type": "code",
   "execution_count": null,
   "metadata": {},
   "outputs": [],
   "source": [
    "plt.rcParams['font.size'] = '10'\n",
    "plot = most_active_users.plot(figsize=(15,15), kind='barh')\n",
    "plot.set_xscale('linear')\n",
    "plot.set_xlabel('Number of placed pixels')\n",
    "plot.set_ylabel('Unique identifier')\n",
    "plot.set_title('Top 20 most active users')\n",
    "plot.invert_yaxis()"
   ]
  },
  {
   "cell_type": "code",
   "execution_count": 4,
   "metadata": {},
   "outputs": [],
   "source": [
    "least_active_users = ddf_users.user_id.value_counts().compute().reset_index(name='num')\n"
   ]
  },
  {
   "cell_type": "code",
   "execution_count": 14,
   "metadata": {},
   "outputs": [
    {
     "data": {
      "text/plain": [
       "1     2340498\n",
       "2     1175052\n",
       "3      768335\n",
       "4      572021\n",
       "5      460215\n",
       "6      383663\n",
       "7      330170\n",
       "8      287842\n",
       "9      256041\n",
       "10     227403\n",
       "11     204489\n",
       "12     185885\n",
       "13     169180\n",
       "14     155614\n",
       "15     143961\n",
       "Name: num, dtype: int64"
      ]
     },
     "execution_count": 14,
     "metadata": {},
     "output_type": "execute_result"
    }
   ],
   "source": [
    "num_least_active_users = least_active_users.num.value_counts().sort_values(ascending=False)\n",
    "num_least_active_users.head(15)"
   ]
  },
  {
   "cell_type": "code",
   "execution_count": null,
   "metadata": {},
   "outputs": [],
   "source": [
    "#line graph for the above cell"
   ]
  },
  {
   "cell_type": "code",
   "execution_count": null,
   "metadata": {},
   "outputs": [],
   "source": [
    "ddf_main = dd.read_csv('..\\\\data\\\\raw\\\\2022_place_canvas_history_optimized.csv')\n",
    "\n",
    "ddf_main.head(15)"
   ]
  },
  {
   "cell_type": "code",
   "execution_count": null,
   "metadata": {},
   "outputs": [],
   "source": [
    "most_used_colors = ddf_main.pixel_color.value_counts().compute()\n",
    "most_used_colors"
   ]
  },
  {
   "cell_type": "code",
   "execution_count": null,
   "metadata": {},
   "outputs": [],
   "source": [
    "plt.rcParams['font.size'] = '20'\n",
    "plot = most_used_colors.plot(figsize=(15,15), kind='barh')\n",
    "plot.set_xscale('symlog')\n",
    "plot.set_xlabel('Number of occurances')\n",
    "plot.set_ylabel('Color')\n",
    "plot.set_title('Colors ranked by number of occurances')\n",
    "plot.invert_yaxis()"
   ]
  },
  {
   "cell_type": "code",
   "execution_count": null,
   "metadata": {},
   "outputs": [],
   "source": [
    "most_active_spots = ddf_main.coordinate.value_counts().compute()\n",
    "top_active_spots = most_active_spots.head(20)\n",
    "top_active_spots"
   ]
  },
  {
   "cell_type": "code",
   "execution_count": null,
   "metadata": {},
   "outputs": [],
   "source": [
    "# To-do: Fix font size\n",
    "plt.rcParams['font.size'] = '20'\n",
    "plot = top_active_spots.plot(figsize=(15,15), kind='barh')\n",
    "plot.set_xscale('linear')\n",
    "plot.set_xlabel('Number of changes')\n",
    "plot.set_ylabel('Coordinates')\n",
    "plot.set_title('Top 20 most active spots')\n",
    "plot.invert_yaxis()"
   ]
  }
 ],
 "metadata": {
  "interpreter": {
   "hash": "6f7c4d44365b28014734406e4d617c1e1f76ea196def854c7b951a230f6e24f1"
  },
  "kernelspec": {
   "display_name": "Python 3.9.5 64-bit",
   "language": "python",
   "name": "python3"
  },
  "language_info": {
   "codemirror_mode": {
    "name": "ipython",
    "version": 3
   },
   "file_extension": ".py",
   "mimetype": "text/x-python",
   "name": "python",
   "nbconvert_exporter": "python",
   "pygments_lexer": "ipython3",
   "version": "3.9.5"
  },
  "orig_nbformat": 4
 },
 "nbformat": 4,
 "nbformat_minor": 2
}
