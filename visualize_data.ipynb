{
 "cells": [
  {
   "cell_type": "markdown",
   "metadata": {},
   "source": [
    "# Импорти, глобални параметри, функции"
   ]
  },
  {
   "cell_type": "code",
   "execution_count": null,
   "metadata": {},
   "outputs": [],
   "source": [
    "from dask import dataframe as dd\n",
    "from datetime import datetime\n",
    "from matplotlib.ticker import FuncFormatter\n",
    "from matplotlib.font_manager import FontProperties\n",
    "import matplotlib.pyplot as plt\n",
    "import pandas_alive\n",
    "import moviepy.editor as mp"
   ]
  },
  {
   "cell_type": "code",
   "execution_count": null,
   "metadata": {},
   "outputs": [],
   "source": [
    "plt.style.use('style.mplstyle')\n",
    "\n",
    "fig = plt.figure()\n",
    "ax = plt.axes()"
   ]
  },
  {
   "cell_type": "code",
   "execution_count": null,
   "metadata": {},
   "outputs": [],
   "source": [
    "SAVE_FILES = False"
   ]
  },
  {
   "cell_type": "code",
   "execution_count": null,
   "metadata": {},
   "outputs": [],
   "source": [
    "def parse_timestamp(timestamp, date_format):\n",
    "    timestamp /= 1000\n",
    "    timestamp = int(timestamp)\n",
    "    timestamp += 1648806250\n",
    "\n",
    "    dt = datetime.fromtimestamp(timestamp).strftime(date_format)\n",
    "    dt = datetime.strptime(dt, date_format)\n",
    "\n",
    "    return dt"
   ]
  },
  {
   "cell_type": "code",
   "execution_count": null,
   "metadata": {},
   "outputs": [],
   "source": [
    "def parse_color(pixel_color):\n",
    "\n",
    "    colors_dict = {\n",
    "        '#000000': 0,\n",
    "        '#00756F': 1,\n",
    "        '#009EAA': 2,\n",
    "        '#00A368': 3,\n",
    "        '#00CC78': 4,\n",
    "        '#00CCC0': 5,\n",
    "        '#2450A4': 6,\n",
    "        '#3690EA': 7,\n",
    "        '#493AC1': 8,\n",
    "        '#515252': 9,\n",
    "        '#51E9F4': 10,\n",
    "        '#6A5CFF': 11,\n",
    "        '#6D001A': 12,\n",
    "        '#6D482F': 13,\n",
    "        '#7EED56': 14,\n",
    "        '#811E9F': 15,\n",
    "        '#898D90': 16,\n",
    "        '#94B3FF': 17,\n",
    "        '#9C6926': 18,\n",
    "        '#B44AC0': 19,\n",
    "        '#BE0039': 20,\n",
    "        '#D4D7D9': 21,\n",
    "        '#DE107F': 22,\n",
    "        '#E4ABFF': 23,\n",
    "        '#FF3881': 24,\n",
    "        '#FF4500': 25,\n",
    "        '#FF99AA': 26,\n",
    "        '#FFA800': 27,\n",
    "        '#FFB470': 28,\n",
    "        '#FFD635': 29,\n",
    "        '#FFF8B8': 30,\n",
    "        '#FFFFFF': 31,\n",
    "    }\n",
    "\n",
    "    return [k for k, v in colors_dict.items() if v == pixel_color][0]"
   ]
  },
  {
   "cell_type": "code",
   "execution_count": null,
   "metadata": {},
   "outputs": [],
   "source": [
    "def millions(x, pos):\n",
    "    return '%1.1f' % (x * 1e-6)\n",
    "\n",
    "formatter = FuncFormatter(millions)"
   ]
  },
  {
   "cell_type": "markdown",
   "metadata": {},
   "source": [
    "# Импортиране на файлове"
   ]
  },
  {
   "cell_type": "code",
   "execution_count": null,
   "metadata": {},
   "outputs": [],
   "source": [
    "ddf_users = dd.read_parquet('data\\\\data_users')\n",
    "\n",
    "ddf_users.head()"
   ]
  },
  {
   "cell_type": "code",
   "execution_count": null,
   "metadata": {},
   "outputs": [],
   "source": [
    "ddf_main = dd.read_parquet('data\\\\data_core')\n",
    "\n",
    "ddf_main['pixel_color'] = ddf_main['pixel_color'].map(parse_color)\n",
    "\n",
    "ddf_main.head()"
   ]
  },
  {
   "cell_type": "code",
   "execution_count": null,
   "metadata": {},
   "outputs": [],
   "source": [
    "ddf_pivoted = dd.read_parquet('data\\\\data_hourly-colors-count')\n",
    "\n",
    "ddf_pivoted.head()"
   ]
  },
  {
   "cell_type": "code",
   "execution_count": null,
   "metadata": {},
   "outputs": [],
   "source": [
    "ddf_datecount = dd.read_parquet('data\\\\data_hourly-pixels')\n",
    "\n",
    "ddf_datecount.head()"
   ]
  },
  {
   "cell_type": "markdown",
   "metadata": {},
   "source": [
    "# Диаграми"
   ]
  },
  {
   "cell_type": "markdown",
   "metadata": {},
   "source": [
    "### Стълбовидна диаграма, представяща 20-те най-активни потребители"
   ]
  },
  {
   "cell_type": "code",
   "execution_count": null,
   "metadata": {},
   "outputs": [],
   "source": [
    "all_users = ddf_users.user_id.value_counts().compute().reset_index(name='num_placed_pixels')\n",
    "most_active_users = all_users.head(20).set_index('index')\n",
    "\n",
    "most_active_users.head()"
   ]
  },
  {
   "cell_type": "code",
   "execution_count": null,
   "metadata": {},
   "outputs": [],
   "source": [
    "plot = most_active_users.plot(kind='barh', edgecolor='#3193E4')\n",
    "plot.set_title('20-те най-активни потребители')\n",
    "plot.set_xlabel('Брой поставени пиксели')\n",
    "plot.set_ylabel('Уникален идентификатор')\n",
    "\n",
    "y_tick_labels = []\n",
    "for label in plot.get_yticklabels():\n",
    "    y_tick_labels.append(label.get_text()[0:10])\n",
    "\n",
    "plot.set_yticklabels(y_tick_labels)\n",
    "\n",
    "bar_labels = plot.containers[0]\n",
    "plot.axes.bar_label(bar_labels, padding=5, fontsize=16)\n",
    "\n",
    "plot.invert_yaxis()\n",
    "\n",
    "plot.get_legend().remove()"
   ]
  },
  {
   "cell_type": "code",
   "execution_count": null,
   "metadata": {},
   "outputs": [],
   "source": [
    "if SAVE_FILES:\n",
    "    now = datetime.now().strftime('%d%H%M')\n",
    "\n",
    "    fig = plot.get_figure()\n",
    "    fig.savefig(f'output\\\\plot_users-{now}.png')"
   ]
  },
  {
   "cell_type": "markdown",
   "metadata": {},
   "source": [
    "### Разпръсната диаграма, представяща броя потребители според това колко пиксели са поставили"
   ]
  },
  {
   "cell_type": "code",
   "execution_count": null,
   "metadata": {},
   "outputs": [],
   "source": [
    "num_active_users = all_users.num_placed_pixels.value_counts().reset_index(name='users')\n",
    "\n",
    "num_active_users.head()"
   ]
  },
  {
   "cell_type": "code",
   "execution_count": null,
   "metadata": {},
   "outputs": [],
   "source": [
    "fig = plt.figure(figsize=(25,10))\n",
    "ax = fig.add_subplot(111)    \n",
    "ax1 = fig.add_subplot(121)\n",
    "ax2 = fig.add_subplot(122)\n",
    "\n",
    "ax.spines['top'].set_color('none')\n",
    "ax.spines['bottom'].set_color('none')\n",
    "ax.spines['left'].set_color('none')\n",
    "ax.spines['right'].set_color('none')\n",
    "ax.tick_params(labelcolor='#E6E6E6', top=False, bottom=False, left=False, right=False)\n",
    "ax.grid(False)\n",
    "\n",
    "ax.set_title('Брой потребители, в зависимост от това колко пиксела са поставили')\n",
    "\n",
    "num_active_users.plot(x=0, y=1, kind='scatter', zorder=3, s=50, ax=ax1)\n",
    "\n",
    "ax1.set_xlabel('Брой поставени пиксели')\n",
    "ax1.set_ylabel('Брой потребители (милиони)')\n",
    "ax1.set_xticks([1,100,200,300,400,500,600,700,800])\n",
    "\n",
    "num_active_users.plot(x=0, y=1, kind='scatter', zorder=3, s=30, ax=ax2)\n",
    "\n",
    "ax2.set_xlabel('Брой поставени пиксели')\n",
    "ax2.set_ylabel('Брой потребители')\n",
    "ax2.set_yscale('log')\n",
    "ax2.set_xticks([1,100,200,300,400,500,600,700,800])"
   ]
  },
  {
   "cell_type": "code",
   "execution_count": null,
   "metadata": {},
   "outputs": [],
   "source": [
    "if SAVE_FILES:\n",
    "    now = datetime.now().strftime('%d%H%M')\n",
    "\n",
    "    fig.savefig(f'output\\\\plot_activity-{now}.png')"
   ]
  },
  {
   "cell_type": "markdown",
   "metadata": {},
   "source": [
    "### Статистика за броя потребители, участвали в експеримента"
   ]
  },
  {
   "cell_type": "code",
   "execution_count": null,
   "metadata": {},
   "outputs": [],
   "source": [
    "unique_users = all_users['index'].count()\n",
    "\n",
    "print(f'Брой потребители, участвали в експеримента: {unique_users}')"
   ]
  },
  {
   "cell_type": "markdown",
   "metadata": {},
   "source": [
    "### Диаграма, представяща броя поставени пиксели от всеки цвят"
   ]
  },
  {
   "cell_type": "code",
   "execution_count": null,
   "metadata": {},
   "outputs": [],
   "source": [
    "ddf_colors = ddf_main.copy()\n",
    "ddf_colors = ddf_colors.drop(['timestamp', 'coordinate'], axis=1)\n",
    "\n",
    "ddf_colors.head()"
   ]
  },
  {
   "cell_type": "code",
   "execution_count": null,
   "metadata": {},
   "outputs": [],
   "source": [
    "most_used_colors = ddf_colors.pixel_color.value_counts().compute()\n",
    "\n",
    "most_used_colors.head()"
   ]
  },
  {
   "cell_type": "code",
   "execution_count": null,
   "metadata": {},
   "outputs": [],
   "source": [
    "color_bars = []\n",
    "for color_num in most_used_colors.iteritems():\n",
    "    color_bars.append(color_num[0])\n",
    "\n",
    "plot = most_used_colors.plot(kind='barh', color=color_bars, edgecolor='black', zorder=3, width=0.8)\n",
    "\n",
    "plot.set_title('Общ брой пиксели от всеки цвят')\n",
    "plot.set_xlabel('Брой поставени пиксели (милиони)')\n",
    "plot.set_ylabel('Цвят (hex)')\n",
    "\n",
    "plot.set_yticklabels(color_bars)\n",
    "plot.xaxis.set_major_formatter(formatter)\n",
    "    \n",
    "plot.invert_yaxis()"
   ]
  },
  {
   "cell_type": "code",
   "execution_count": null,
   "metadata": {},
   "outputs": [],
   "source": [
    "if SAVE_FILES:\n",
    "    now = datetime.now().strftime('%d%H%M')\n",
    "\n",
    "    fig = plot.get_figure()\n",
    "    fig.savefig(f'output\\\\plot_colors-{now}.png')"
   ]
  },
  {
   "cell_type": "code",
   "execution_count": null,
   "metadata": {},
   "outputs": [],
   "source": [
    "least_used_colors = most_used_colors.drop(['#000000', '#FFFFFF', '#FF4500', '#2450A4', '#FFD635'])\n",
    "\n",
    "least_used_colors.head()"
   ]
  },
  {
   "cell_type": "code",
   "execution_count": null,
   "metadata": {},
   "outputs": [],
   "source": [
    "color_bars = []\n",
    "for color_num in least_used_colors.iteritems():\n",
    "    color_bars.append(color_num[0])\n",
    "\n",
    "plot = least_used_colors.plot(kind='barh', color=color_bars, edgecolor='black', zorder=3, width=0.8)\n",
    "\n",
    "plot.set_title('Общ брой пиксели от всеки цвят')\n",
    "plot.set_xlabel('Брой поставени пиксели (милиони)')\n",
    "plot.set_ylabel('Цвят (hex)')\n",
    "\n",
    "plot.set_yticklabels(color_bars)\n",
    "    \n",
    "plot.invert_yaxis()"
   ]
  },
  {
   "cell_type": "code",
   "execution_count": null,
   "metadata": {},
   "outputs": [],
   "source": [
    "if SAVE_FILES:\n",
    "    now = datetime.now().strftime('%d%H%M')\n",
    "\n",
    "    fig = plot.get_figure()\n",
    "    fig.savefig(f'output\\\\plot_colors_mod-{now}.png')"
   ]
  },
  {
   "cell_type": "markdown",
   "metadata": {},
   "source": [
    "### Диаграма, преставяща 20-те най-често променяни точки"
   ]
  },
  {
   "cell_type": "code",
   "execution_count": null,
   "metadata": {},
   "outputs": [],
   "source": [
    "ddf_coordinate = ddf_main.copy()\n",
    "ddf_coordinate = ddf_coordinate.drop(['timestamp', 'pixel_color'], axis=1)\n",
    "active_spots = ddf_coordinate.coordinate.value_counts().compute().head(20)\n",
    "\n",
    "active_spots.head()"
   ]
  },
  {
   "cell_type": "code",
   "execution_count": null,
   "metadata": {},
   "outputs": [],
   "source": [
    "plot = active_spots.plot(kind='barh', zorder=3,  edgecolor='#3193E4')\n",
    "\n",
    "plot.set_title('20-те най-променяни точки')\n",
    "plot.set_xlabel('Брой промени')\n",
    "plot.set_ylabel('Точка (x,y)')\n",
    "\n",
    "plot.invert_yaxis()"
   ]
  },
  {
   "cell_type": "code",
   "execution_count": null,
   "metadata": {},
   "outputs": [],
   "source": [
    "if SAVE_FILES:\n",
    "    now = datetime.now().strftime('%d%H%M')\n",
    "\n",
    "    fig = plot.get_figure()\n",
    "    fig.savefig(f'output\\\\plot_coordinates-{now}.png')"
   ]
  },
  {
   "cell_type": "markdown",
   "metadata": {},
   "source": [
    "### Кръгови диаграми и таблица, показващи броя пъти, през които е било нужно цензуриране"
   ]
  },
  {
   "cell_type": "code",
   "execution_count": null,
   "metadata": {},
   "outputs": [],
   "source": [
    "ddf_moderated = ddf_main.copy()\n",
    "ddf_moderated['comma_count'] = ddf_moderated.coordinate.str.count(',')\n",
    "\n",
    "ddf_moderated.head()"
   ]
  },
  {
   "cell_type": "code",
   "execution_count": null,
   "metadata": {},
   "outputs": [],
   "source": [
    "ddf_moderated = ddf_moderated[ddf_moderated['comma_count'] > 1]\n",
    "ddf_moderated = ddf_moderated.drop('comma_count', axis=1)\n",
    "ddf_moderated['timestamp'] = ddf_moderated.apply(lambda x: parse_timestamp(x['timestamp'], '%Y-%m-%d %H%M%S'), axis=1)\n",
    "\n",
    "ddf_moderated = ddf_moderated.compute()\n",
    "ddf_moderated = ddf_moderated.set_index('timestamp').reset_index()\n",
    " \n",
    "ddf_moderated.head()"
   ]
  },
  {
   "cell_type": "code",
   "execution_count": null,
   "metadata": {},
   "outputs": [],
   "source": [
    "ddf_moderated['coordinate'] = ddf_moderated['coordinate'].apply(lambda x: x.split(','))\n",
    "\n",
    "ddf_moderated['x1'] = ddf_moderated['coordinate'].apply(lambda x: x[0]).astype('uint16')\n",
    "ddf_moderated['y1'] = ddf_moderated['coordinate'].apply(lambda x: x[1]).astype('uint16')\n",
    "ddf_moderated['x2'] = ddf_moderated['coordinate'].apply(lambda x: x[2]).astype('uint16')\n",
    "ddf_moderated['y2'] = ddf_moderated['coordinate'].apply(lambda x: x[3]).astype('uint16')\n",
    "\n",
    "ddf_moderated = ddf_moderated.drop('coordinate', axis=1)\n",
    "\n",
    "ddf_moderated['num_pixels'] = (ddf_moderated['x2'] - ddf_moderated['x1']) * (ddf_moderated['y2'] - ddf_moderated['y1']).astype('uint16')\n",
    "\n",
    "ddf_moderated.head()"
   ]
  },
  {
   "cell_type": "code",
   "execution_count": null,
   "metadata": {},
   "outputs": [],
   "source": [
    "moderated_count = ddf_moderated['pixel_color'].value_counts()\n",
    "\n",
    "moderated_count.head()"
   ]
  },
  {
   "cell_type": "code",
   "execution_count": null,
   "metadata": {},
   "outputs": [],
   "source": [
    "num_moderated_pixels = ddf_moderated.groupby('pixel_color').num_pixels.sum()\n",
    "\n",
    "num_moderated_pixels.head(10)"
   ]
  },
  {
   "cell_type": "code",
   "execution_count": null,
   "metadata": {},
   "outputs": [],
   "source": [
    "fig = plt.figure()\n",
    "ax = fig.add_subplot(111)    \n",
    "ax1 = fig.add_subplot(121)\n",
    "ax2 = fig.add_subplot(122)\n",
    "\n",
    "ax.spines['top'].set_color('none')\n",
    "ax.spines['bottom'].set_color('none')\n",
    "ax.spines['left'].set_color('none')\n",
    "ax.spines['right'].set_color('none')\n",
    "ax.tick_params(labelcolor='#E6E6E6', top=False, bottom=False, left=False, right=False)\n",
    "ax.grid(False)\n",
    "\n",
    "ax.set_title('Цветове, използвани за редактиране')\n",
    "\n",
    "color_pie = []\n",
    "for color_num in moderated_count.iteritems():\n",
    "    color_pie.append(color_num[0])\n",
    "\n",
    "labels_pie = []\n",
    "for count in moderated_count.iteritems():\n",
    "    labels_pie.append(count[1])\n",
    "\n",
    "explode_pie = [0.01, 0.01, 0.01, 0.01, 0.01, 0.01, 0.01, 0.01]\n",
    "\n",
    "moderated_count.plot(kind='pie', colors=color_pie, labels=labels_pie, explode=explode_pie, ax=ax1, shadow=True)\n",
    "\n",
    "ax1.set_xlabel('Брой редакции')\n",
    "ax1.set_ylabel('')\n",
    "\n",
    "color_pie = []\n",
    "for color_num in num_moderated_pixels.iteritems():\n",
    "    color_pie.append(color_num[0])\n",
    "\n",
    "labels_pie = []\n",
    "for count in num_moderated_pixels.iteritems():\n",
    "    labels_pie.append(count[1])\n",
    "\n",
    "num_moderated_pixels.plot(kind='pie', colors=color_pie, labels=labels_pie, explode=explode_pie, ax=ax2, startangle=30, shadow=True)\n",
    "\n",
    "ax2.set_xlabel('Брой редактирани пиксели')\n",
    "ax2.set_ylabel('')\n",
    "\n",
    "leg = ax1.legend(labels=color_pie, loc=(0.95,0.55), prop={'size' : 18}, facecolor='#E6E6E6', edgecolor='black')\n",
    "for i in range(0,len(color_pie)):\n",
    "    leg.legendHandles[i].set_color(color_pie[i]) \n",
    "    leg.legendHandles[i].set_edgecolor('black')\n",
    "\n",
    "custom_text = [f'Общ брой редакции: {moderated_count.sum()}', f'Общ брой редактирани пиксели: {num_moderated_pixels.sum()}']\n",
    "custom_label = ax2.legend(labels=custom_text, loc=(-0.5,0), handlelength=0, handletextpad=0, fancybox=True, prop=dict(size=18), facecolor='#E6E6E6', edgecolor='black')\n",
    "for item in custom_label.legendHandles:\n",
    "    item.set_visible(False)"
   ]
  },
  {
   "cell_type": "code",
   "execution_count": null,
   "metadata": {},
   "outputs": [],
   "source": [
    "if SAVE_FILES:\n",
    "    now = datetime.now().strftime('%d%H%M')\n",
    "\n",
    "    fig.savefig(f'output\\\\plot_moderated-{now}.png')"
   ]
  },
  {
   "cell_type": "code",
   "execution_count": null,
   "metadata": {},
   "outputs": [],
   "source": [
    "ddf_moderated['Цвят'] = ddf_moderated['pixel_color']\n",
    "ddf_moderated = ddf_moderated.rename(columns={'timestamp': 'Дата и час (UTC)', 'pixel_color': 'Цвят (hex)', 'num_pixels': 'Брой пиксели'})\n",
    "ddf_moderated = ddf_moderated[['Дата и час (UTC)', 'Цвят (hex)', 'Цвят', 'x1', 'y1', 'x2', 'y2', 'Брой пиксели']]\n",
    "\n",
    "ddf_moderated.head()"
   ]
  },
  {
   "cell_type": "code",
   "execution_count": null,
   "metadata": {},
   "outputs": [],
   "source": [
    "fig, ax = plt.subplots()\n",
    "\n",
    "fig.patch.set_visible(False)\n",
    "ax.axis('off')\n",
    "ax.axis('tight')\n",
    "\n",
    "col_widths = []\n",
    "for col in range(0,len(ddf_moderated.columns)):\n",
    "    if (col == 0):\n",
    "        col_widths.append(0.15)\n",
    "    elif (col == 2):\n",
    "        col_widths.append(0.05)\n",
    "    elif (col == 1 or col == 7):\n",
    "        col_widths.append(0.12)\n",
    "    else:\n",
    "        col_widths.append(0.07)\n",
    "\n",
    "\n",
    "table = ax.table(cellText=ddf_moderated.values, colLabels=ddf_moderated.columns, loc='center', colWidths=col_widths, cellLoc='center')\n",
    "table.scale(1,3)\n",
    "table.auto_set_font_size(False)\n",
    "table.set_fontsize(16)\n",
    "\n",
    "for (row, col), cell in table.get_celld().items():\n",
    "    if (row % 2 == 0):\n",
    "        cell.set_facecolor('#E6E6E6')\n",
    "    else:\n",
    "        cell.set_facecolor('#DCDCDC')\n",
    "\n",
    "    if (row == 0):\n",
    "        cell.set_facecolor('#89B55C')\n",
    "        cell.set_text_props(fontproperties=FontProperties(size=22))\n",
    "        cell.set_height(0.1)\n",
    "    elif (col == 2):\n",
    "        cell.set_facecolor(cell._text.get_text())\n",
    "        cell.get_text().set_text('')   \n",
    "\n",
    "fig.tight_layout()"
   ]
  },
  {
   "cell_type": "code",
   "execution_count": null,
   "metadata": {},
   "outputs": [],
   "source": [
    "if SAVE_FILES:\n",
    "    now = datetime.now().strftime('%d%H%M')\n",
    "\n",
    "    fig.savefig(f'output\\\\table_moderated-{now}.png')"
   ]
  },
  {
   "cell_type": "markdown",
   "metadata": {},
   "source": [
    "# Анимирани диаграми"
   ]
  },
  {
   "cell_type": "code",
   "execution_count": null,
   "metadata": {},
   "outputs": [],
   "source": [
    "period_format = '%H:%M %d-%m-%Y'\n",
    "\n",
    "bars_cmap = [\n",
    "        '#000000', \n",
    "        '#00A368', \n",
    "        '#2450A4', \n",
    "        '#3690EA', \n",
    "        '#51E9F4', \n",
    "        '#7EED56', \n",
    "        '#811E9F', \n",
    "        '#898D90', \n",
    "        '#9C6926', \n",
    "        '#B44AC0', \n",
    "        '#D4D7D9', \n",
    "        '#FF4500', \n",
    "        '#FF99AA', \n",
    "        '#FFA800', \n",
    "        '#FFD635', \n",
    "        '#FFFFFF', \n",
    "        '#00756F', \n",
    "        '#009EAA', \n",
    "        '#00CC78', \n",
    "        '#493AC1', \n",
    "        '#6A5CFF', \n",
    "        '#6D482F', \n",
    "        '#BE0039', \n",
    "        '#FF3881', \n",
    "        '#00CCC0', \n",
    "        '#515252', \n",
    "        '#6D001A', \n",
    "        '#94B3FF', \n",
    "        '#DE107F', \n",
    "        '#E4ABFF', \n",
    "        '#FFB470', \n",
    "        '#FFF8B8'\n",
    "]\n",
    "\n",
    "fixed_bars_cmap = [\n",
    "        '#000000', \n",
    "        '#FFFFFF', \n",
    "        '#FF4500', \n",
    "        '#2450A4', \n",
    "        '#FFD635', \n",
    "        '#BE0039', \n",
    "        '#51E9F4', \n",
    "        '#811E9F', \n",
    "        '#FFA800', \n",
    "        '#FF99AA', \n",
    "        '#3690EA', \n",
    "        '#00A368', \n",
    "        '#898D90', \n",
    "        '#7EED56', \n",
    "        '#D4D7D9', \n",
    "        '#9C6926', \n",
    "        '#FFB470', \n",
    "        '#FF3881', \n",
    "        '#B44AC0', \n",
    "        '#6D482F', \n",
    "        '#00CC78', \n",
    "        '#493AC1', \n",
    "        '#FFF8B8', \n",
    "        '#515252', \n",
    "        '#6D001A', \n",
    "        '#DE107F', \n",
    "        '#00756F', \n",
    "        '#6A5CFF', \n",
    "        '#94B3FF', \n",
    "        '#009EAA', \n",
    "        '#E4ABFF', \n",
    "        '#00CCC0'\n",
    "]"
   ]
  },
  {
   "cell_type": "markdown",
   "metadata": {},
   "source": [
    "### Анимирана диаграма, показваща броя поставени пиксели за всеки час"
   ]
  },
  {
   "cell_type": "code",
   "execution_count": null,
   "metadata": {},
   "outputs": [],
   "source": [
    "ddf_datecount = ddf_datecount.set_index('datetime')\n",
    "ddf_datecount = ddf_datecount.compute()\n",
    "\n",
    "ddf_datecount.head()"
   ]
  },
  {
   "cell_type": "code",
   "execution_count": null,
   "metadata": {},
   "outputs": [],
   "source": [
    "if SAVE_FILES:\n",
    "    fig = plt.figure()\n",
    "    ax = plt.axes()\n",
    "\n",
    "    ax.set_title('Брой поставени пиксели за всеки час')\n",
    "    ax.set_xlabel('Дата и час (UTC)')\n",
    "    ax.set_ylabel('Брой поставени пиксели (милиони)')\n",
    "\n",
    "    ax.get_yaxis().get_major_formatter().set_scientific(False)\n",
    "\n",
    "    now = datetime.now().strftime('%d%H%M')\n",
    "\n",
    "    ddf_datecount.plot_animated(filename=f'output\\\\animated_activity-{now}.gif', \n",
    "        fig=fig, \n",
    "        add_legend=False, \n",
    "        kind='line', \n",
    "        linewidth=5,\n",
    "        figsize=(25,10),\n",
    "        period_fmt=period_format,\n",
    "        period_label=False,\n",
    "        tick_label_size=16,\n",
    "        label_events={    \n",
    "            '  Първи ден': datetime.strptime('00:00 01-04-2022', period_format),\n",
    "            '  Втори ден': datetime.strptime('00:00 02-04-2022', period_format),\n",
    "            '  Трети ден': datetime.strptime('00:00 03-04-2022', period_format),\n",
    "            '  Четвърти ден': datetime.strptime('00:00 04-04-2022', period_format)\n",
    "        },\n",
    "        antialiased=True,\n",
    "        )\n",
    "\n",
    "    clip = mp.VideoFileClip(f'output\\\\animated_activity-{now}.gif')\n",
    "    clip.write_videofile(f'output\\\\animated_activity-{now}.mp4', fps=60)"
   ]
  },
  {
   "cell_type": "markdown",
   "metadata": {},
   "source": [
    "### Анимирана диаграма, показваща кумулативния брой поставени пиксели"
   ]
  },
  {
   "cell_type": "code",
   "execution_count": null,
   "metadata": {},
   "outputs": [],
   "source": [
    "if SAVE_FILES:\n",
    "    fig = plt.figure()\n",
    "    ax = plt.axes()\n",
    "\n",
    "    ax.set_title('Кумулативен брой поставени пиксели')\n",
    "    ax.set_xlabel('Дата и час (UTC)')\n",
    "    ax.set_ylabel('Брой поставени пиксели (милиони)')\n",
    "\n",
    "    ax.yaxis.set_major_formatter(formatter)    \n",
    "\n",
    "    now = datetime.now().strftime('%d%H%M')\n",
    "\n",
    "    ddf_datecount.cumsum().plot_animated(filename=f'output\\\\animated_activity_cumsum-{now}.gif', \n",
    "        fig=fig, \n",
    "        add_legend=False, \n",
    "        kind='line', \n",
    "        figsize=(25,10),\n",
    "        period_fmt=period_format,\n",
    "        period_label=False,\n",
    "        tick_label_size=16,\n",
    "        label_events={    \n",
    "            '  Първи ден': datetime.strptime('00:00 01-04-2022', period_format),\n",
    "            '  Втори ден': datetime.strptime('00:00 02-04-2022', period_format),\n",
    "            '  Трети ден': datetime.strptime('00:00 03-04-2022', period_format),\n",
    "            '  Четвърти ден': datetime.strptime('00:00 04-04-2022', period_format)\n",
    "        },\n",
    "        fill_under_line_color='#89A3D5',\n",
    "        antialiased=True\n",
    "        )\n",
    "\n",
    "    clip = mp.VideoFileClip(f'output\\\\animated_activity_cumsum-{now}.gif')\n",
    "    clip.write_videofile(f'output\\\\animated_activity_cumsum-{now}.mp4', fps=60)"
   ]
  },
  {
   "cell_type": "markdown",
   "metadata": {},
   "source": [
    "### Анимирана графика, показваща броя и вида поставевни цветове за всеки час"
   ]
  },
  {
   "cell_type": "code",
   "execution_count": null,
   "metadata": {},
   "outputs": [],
   "source": [
    "ddf_pivoted = ddf_pivoted.set_index('datetime')\n",
    "ddf_pivoted = ddf_pivoted.compute()"
   ]
  },
  {
   "cell_type": "code",
   "execution_count": null,
   "metadata": {},
   "outputs": [],
   "source": [
    "if SAVE_FILES:\n",
    "    fig = plt.figure()\n",
    "    ax = plt.axes()\n",
    "\n",
    "    ax.set_title('Брой поставени пиксели според цвета за всеки час')\n",
    "    ax.set_ylabel('Цвят (hex)')\n",
    "    ax.set_xlabel('Брой пиксели')\n",
    "\n",
    "    now = datetime.now().strftime('%d%H%M')\n",
    "\n",
    "    ddf_pivoted.plot_animated(filename=f'output\\\\animated_colors-{now}.gif',    \n",
    "        period_length=700,\n",
    "        bar_label_size=14,\n",
    "        add_legend=False, \n",
    "        figsize=(25,10),\n",
    "        fig=fig,\n",
    "        period_fmt=period_format,\n",
    "        fixed_order=fixed_bars_cmap,\n",
    "        period_label=True,\n",
    "        tick_label_size=14,\n",
    "        cmap=fixed_bars_cmap,\n",
    "        antialiased=True,\n",
    "        fixed_max=True\n",
    "        )\n",
    "\n",
    "    clip = mp.VideoFileClip(f'output\\\\animated_colors-{now}.gif')\n",
    "    clip.write_videofile(f'output\\\\animated_colors-{now}.mp4', fps=60)"
   ]
  },
  {
   "cell_type": "markdown",
   "metadata": {},
   "source": [
    "### Анимирана графика, показваща кумумулативния брой поставени пиксели от всеки цвят"
   ]
  },
  {
   "cell_type": "code",
   "execution_count": null,
   "metadata": {},
   "outputs": [],
   "source": [
    "if SAVE_FILES:\n",
    "    plt.rcParams['xtick.labelsize'] = 0\n",
    "\n",
    "    fig = plt.Figure()\n",
    "    gs = plt.GridSpec(1,2, width_ratios=[7,3])\n",
    "\n",
    "    ax1 = fig.add_subplot(gs[0,0])\n",
    "    ax2 = fig.add_subplot(gs[0,1])\n",
    "\n",
    "    fig.suptitle('Кумумулативен брой поставени пиксели от всеки цвят')\n",
    "    ax1.set_ylabel('Цвят (hex)')\n",
    "    ax1.set_xlabel('Брой пиксели (милиони)')\n",
    "\n",
    "    formatter = FuncFormatter(millions)\n",
    "    ax1.xaxis.set_major_formatter(formatter)\n",
    "\n",
    "    now = datetime.now().strftime('%d%H%M')\n",
    "\n",
    "    bar_chart = ddf_pivoted.cumsum().plot_animated(   \n",
    "        period_length=700,\n",
    "        bar_label_size=14,\n",
    "        add_legend=False, \n",
    "        figsize=(25,10),\n",
    "        period_fmt=period_format,\n",
    "        period_label=True,\n",
    "        tick_label_size=14,\n",
    "        cmap=bars_cmap,\n",
    "        antialiased=True,\n",
    "        )\n",
    "\n",
    "    bar_chart.ax = ax1\n",
    "\n",
    "    pie_chart = ddf_pivoted.cumsum().plot_animated(  \n",
    "        kind='pie',\n",
    "        figsize=(10,10),\n",
    "        cmap=bars_cmap,\n",
    "        )\n",
    "\n",
    "    pie_chart.ax = ax2\n",
    "\n",
    "    pandas_alive.animate_multiple_plots(f'output\\\\animated_colors_cumsum-{now}.gif', [bar_chart,pie_chart], fig)\n",
    "\n",
    "    clip = mp.VideoFileClip(f'output\\\\animated_colors_cumsum-{now}.gif')\n",
    "    clip.write_videofile(f'output\\\\animated_colors_cumsum-{now}.mp4', fps=60)"
   ]
  },
  {
   "cell_type": "code",
   "execution_count": null,
   "metadata": {},
   "outputs": [],
   "source": [
    "plt.style.use('style.mplstyle')"
   ]
  },
  {
   "cell_type": "markdown",
   "metadata": {},
   "source": [
    "### Анимирана графика, показваща броя поставени пиксели в 5-те най-популярни точки за всеки час"
   ]
  },
  {
   "cell_type": "code",
   "execution_count": null,
   "metadata": {},
   "outputs": [],
   "source": [
    "ddf_top_coords = ddf_main.copy()\n",
    "ddf_top_coords = ddf_top_coords[\n",
    "    (ddf_top_coords['coordinate'] == '0,0') | \n",
    "    (ddf_top_coords['coordinate'] == '359,564') | \n",
    "    (ddf_top_coords['coordinate'] == '349,564') | \n",
    "    (ddf_top_coords['coordinate'] == '859,766') | \n",
    "    (ddf_top_coords['coordinate'] == '860,766')\n",
    "]\n",
    "ddf_top_coords = ddf_top_coords.drop('pixel_color', axis=1)\n",
    "\n",
    "ddf_top_coords.head()"
   ]
  },
  {
   "cell_type": "code",
   "execution_count": null,
   "metadata": {},
   "outputs": [],
   "source": [
    "ddf_top_coords['index'] = ddf_top_coords.reset_index().index\n",
    "ddf_top_coords['timestamp'] = ddf_top_coords.apply(lambda x: parse_timestamp(x['timestamp'], '%Y-%m-%d %H'), axis=1)\n",
    "ddf_top_coords = ddf_top_coords.rename(columns={'timestamp': 'datetime'})\n",
    "\n",
    "ddf_top_coords.head()"
   ]
  },
  {
   "cell_type": "code",
   "execution_count": null,
   "metadata": {},
   "outputs": [],
   "source": [
    "ddf_top_coords['coordinate'] = ddf_top_coords['coordinate'].astype('category')\n",
    "ddf_top_coords['coordinate'] = ddf_top_coords.coordinate.cat.as_known()\n",
    "\n",
    "ddf_top_coords.dtypes"
   ]
  },
  {
   "cell_type": "code",
   "execution_count": null,
   "metadata": {},
   "outputs": [],
   "source": [
    "ddf_top_coords = ddf_top_coords.pivot_table(index='datetime', columns='coordinate', values='coordinate', aggfunc='count')\n",
    "ddf_top_coords = ddf_top_coords.compute()\n",
    "\n",
    "ddf_top_coords.head()"
   ]
  },
  {
   "cell_type": "code",
   "execution_count": null,
   "metadata": {},
   "outputs": [],
   "source": [
    "if SAVE_FILES:\n",
    "    fig = plt.figure()\n",
    "    ax = plt.axes()\n",
    "\n",
    "    ax.set_title('Брой поставени пиксели за всеки час в 5-те най-популярни точки')\n",
    "    ax.set_xlabel('Дата и час (UTC)')\n",
    "    ax.set_ylabel('Брой пиксели')\n",
    "\n",
    "    now = datetime.now().strftime('%d%H%M')\n",
    "\n",
    "    ddf_top_coords.plot_animated(filename=f'output\\\\animated_top5_coords-{now}.gif', \n",
    "        fig=fig, \n",
    "        add_legend=True, \n",
    "        linewidth=5,\n",
    "        kind='line', \n",
    "        figsize=(25,10),\n",
    "        period_fmt=period_format,\n",
    "        period_label=False,\n",
    "        tick_label_size=16,\n",
    "        label_events={    \n",
    "            '  Първи ден': datetime.strptime('00:00 01-04-2022', period_format),\n",
    "            '  Втори ден': datetime.strptime('00:00 02-04-2022', period_format),\n",
    "            '  Трети ден': datetime.strptime('00:00 03-04-2022', period_format),\n",
    "            '  Четвърти ден': datetime.strptime('00:00 04-04-2022', period_format)\n",
    "        },\n",
    "        antialiased=True\n",
    "        )\n",
    "\n",
    "    clip = mp.VideoFileClip(f'output\\\\animated_top5_coords-{now}.gif')\n",
    "    clip.write_videofile(f'output\\\\animated_top5_coords-{now}.mp4', fps=60)"
   ]
  }
 ],
 "metadata": {
  "interpreter": {
   "hash": "d36c6117fc59c96afe055d6aa9fdc162c4e49e575a4ec40412ab8da821919109"
  },
  "kernelspec": {
   "display_name": "Python 3.8.0 64-bit",
   "language": "python",
   "name": "python3"
  },
  "language_info": {
   "codemirror_mode": {
    "name": "ipython",
    "version": 3
   },
   "file_extension": ".py",
   "mimetype": "text/x-python",
   "name": "python",
   "nbconvert_exporter": "python",
   "pygments_lexer": "ipython3",
   "version": "3.8.0"
  },
  "orig_nbformat": 4
 },
 "nbformat": 4,
 "nbformat_minor": 2
}
