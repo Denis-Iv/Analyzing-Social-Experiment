{
 "cells": [
  {
   "cell_type": "code",
   "execution_count": 1,
   "metadata": {},
   "outputs": [],
   "source": [
    "from dask import dataframe as dd"
   ]
  },
  {
   "cell_type": "code",
   "execution_count": 8,
   "metadata": {},
   "outputs": [
    {
     "data": {
      "text/html": [
       "<div>\n",
       "<style scoped>\n",
       "    .dataframe tbody tr th:only-of-type {\n",
       "        vertical-align: middle;\n",
       "    }\n",
       "\n",
       "    .dataframe tbody tr th {\n",
       "        vertical-align: top;\n",
       "    }\n",
       "\n",
       "    .dataframe thead th {\n",
       "        text-align: right;\n",
       "    }\n",
       "</style>\n",
       "<table border=\"1\" class=\"dataframe\">\n",
       "  <thead>\n",
       "    <tr style=\"text-align: right;\">\n",
       "      <th></th>\n",
       "      <th>timestamp</th>\n",
       "      <th>user_id</th>\n",
       "      <th>pixel_color</th>\n",
       "      <th>coordinate</th>\n",
       "    </tr>\n",
       "  </thead>\n",
       "  <tbody>\n",
       "    <tr>\n",
       "      <th>0</th>\n",
       "      <td>2022-04-04 00:53:51.577 UTC</td>\n",
       "      <td>ovTZk4GyTS1mDQnTbV+vDOCu1f+u6w+CkIZ6445vD4XN8a...</td>\n",
       "      <td>#00CCC0</td>\n",
       "      <td>826,1048</td>\n",
       "    </tr>\n",
       "    <tr>\n",
       "      <th>1</th>\n",
       "      <td>2022-04-04 00:53:53.758 UTC</td>\n",
       "      <td>6NSgFa1CvIPly1VniNhlbrmoN3vgDFbMSKqh+c4TTfrr3d...</td>\n",
       "      <td>#94B3FF</td>\n",
       "      <td>583,1031</td>\n",
       "    </tr>\n",
       "    <tr>\n",
       "      <th>2</th>\n",
       "      <td>2022-04-04 00:53:54.685 UTC</td>\n",
       "      <td>O5Oityp3Z3owzTuwM9XnMggpLcqKEumsOMKGhRiDTTImWb...</td>\n",
       "      <td>#6A5CFF</td>\n",
       "      <td>1873,558</td>\n",
       "    </tr>\n",
       "    <tr>\n",
       "      <th>3</th>\n",
       "      <td>2022-04-04 00:54:57.541 UTC</td>\n",
       "      <td>tc273UiqS0wKa6VwiOs/iz/t4LyPYrhL2Q347awn11IQQE...</td>\n",
       "      <td>#009EAA</td>\n",
       "      <td>1627,255</td>\n",
       "    </tr>\n",
       "    <tr>\n",
       "      <th>4</th>\n",
       "      <td>2022-04-04 00:55:16.307 UTC</td>\n",
       "      <td>OOWsU/HLb4UUkQwclDeXFtsJTOXMlAdNHiRpFA1Qk+SxUr...</td>\n",
       "      <td>#94B3FF</td>\n",
       "      <td>49,1478</td>\n",
       "    </tr>\n",
       "  </tbody>\n",
       "</table>\n",
       "</div>"
      ],
      "text/plain": [
       "                     timestamp  \\\n",
       "0  2022-04-04 00:53:51.577 UTC   \n",
       "1  2022-04-04 00:53:53.758 UTC   \n",
       "2  2022-04-04 00:53:54.685 UTC   \n",
       "3  2022-04-04 00:54:57.541 UTC   \n",
       "4  2022-04-04 00:55:16.307 UTC   \n",
       "\n",
       "                                             user_id pixel_color coordinate  \n",
       "0  ovTZk4GyTS1mDQnTbV+vDOCu1f+u6w+CkIZ6445vD4XN8a...     #00CCC0   826,1048  \n",
       "1  6NSgFa1CvIPly1VniNhlbrmoN3vgDFbMSKqh+c4TTfrr3d...     #94B3FF   583,1031  \n",
       "2  O5Oityp3Z3owzTuwM9XnMggpLcqKEumsOMKGhRiDTTImWb...     #6A5CFF   1873,558  \n",
       "3  tc273UiqS0wKa6VwiOs/iz/t4LyPYrhL2Q347awn11IQQE...     #009EAA   1627,255  \n",
       "4  OOWsU/HLb4UUkQwclDeXFtsJTOXMlAdNHiRpFA1Qk+SxUr...     #94B3FF    49,1478  "
      ]
     },
     "execution_count": 8,
     "metadata": {},
     "output_type": "execute_result"
    }
   ],
   "source": [
    "df = dd.read_csv('..\\\\data\\\\raw\\\\2022_place_canvas_history.csv')\n",
    "df.head()"
   ]
  },
  {
   "cell_type": "code",
   "execution_count": 3,
   "metadata": {},
   "outputs": [
    {
     "data": {
      "text/plain": [
       "160353104"
      ]
     },
     "execution_count": 3,
     "metadata": {},
     "output_type": "execute_result"
    }
   ],
   "source": [
    "len(df)"
   ]
  },
  {
   "cell_type": "code",
   "execution_count": 4,
   "metadata": {},
   "outputs": [
    {
     "data": {
      "text/plain": [
       "['f:\\\\Дипломна работа\\\\code\\\\data\\\\raw\\\\2022_place_canvas_history_test_0.csv',\n",
       " 'f:\\\\Дипломна работа\\\\code\\\\data\\\\raw\\\\2022_place_canvas_history_test_1.csv',\n",
       " 'f:\\\\Дипломна работа\\\\code\\\\data\\\\raw\\\\2022_place_canvas_history_test_2.csv',\n",
       " 'f:\\\\Дипломна работа\\\\code\\\\data\\\\raw\\\\2022_place_canvas_history_test_3.csv']"
      ]
     },
     "execution_count": 4,
     "metadata": {},
     "output_type": "execute_result"
    }
   ],
   "source": [
    "df = df.repartition(npartitions=4)\n",
    "df.to_csv('..\\\\data\\\\raw\\\\2022_place_canvas_history_test_*.csv')"
   ]
  },
  {
   "cell_type": "code",
   "execution_count": 9,
   "metadata": {},
   "outputs": [
    {
     "data": {
      "text/plain": [
       "160353104"
      ]
     },
     "execution_count": 9,
     "metadata": {},
     "output_type": "execute_result"
    }
   ],
   "source": [
    "df_test = dd.read_csv('..\\\\data\\\\raw\\\\2022_place_canvas_history_test_0.csv')\n",
    "len(df_test)"
   ]
  },
  {
   "cell_type": "code",
   "execution_count": 11,
   "metadata": {},
   "outputs": [
    {
     "ename": "ValueError",
     "evalue": "Metadata inference failed in `apply`.\n\nYou have supplied a custom function and Dask is unable to \ndetermine the type of output that that function returns. \n\nTo resolve this please provide a meta= keyword.\nThe docstring of the Dask function you ran should have more information.\n\nOriginal error is below:\n------------------------\nAttributeError(\"'str' object has no attribute 'value_counts'\")\n\nTraceback:\n---------\n  File \"C:\\Users\\Denis\\AppData\\Roaming\\Python\\Python39\\site-packages\\dask\\dataframe\\utils.py\", line 182, in raise_on_meta_error\n    yield\n  File \"C:\\Users\\Denis\\AppData\\Roaming\\Python\\Python39\\site-packages\\dask\\dataframe\\core.py\", line 6222, in _emulate\n    return func(*_extract_meta(args, True), **_extract_meta(kwargs, True))\n  File \"C:\\Users\\Denis\\AppData\\Roaming\\Python\\Python39\\site-packages\\dask\\utils.py\", line 1021, in __call__\n    return getattr(__obj, self.method)(*args, **kwargs)\n  File \"C:\\Users\\Denis\\AppData\\Roaming\\Python\\Python39\\site-packages\\pandas\\core\\series.py\", line 4433, in apply\n    return SeriesApply(self, func, convert_dtype, args, kwargs).apply()\n  File \"C:\\Users\\Denis\\AppData\\Roaming\\Python\\Python39\\site-packages\\pandas\\core\\apply.py\", line 1082, in apply\n    return self.apply_standard()\n  File \"C:\\Users\\Denis\\AppData\\Roaming\\Python\\Python39\\site-packages\\pandas\\core\\apply.py\", line 1137, in apply_standard\n    mapped = lib.map_infer(\n  File \"pandas\\_libs\\lib.pyx\", line 2870, in pandas._libs.lib.map_infer\n  File \"C:\\Users\\Denis\\AppData\\Local\\Temp\\ipykernel_15056\\3278130273.py\", line 1, in <lambda>\n    df_test.pixel_color.apply(lambda x: x.value_counts()).compute()\n",
     "output_type": "error",
     "traceback": [
      "\u001b[1;31m---------------------------------------------------------------------------\u001b[0m",
      "\u001b[1;31mAttributeError\u001b[0m                            Traceback (most recent call last)",
      "File \u001b[1;32m~\\AppData\\Roaming\\Python\\Python39\\site-packages\\dask\\dataframe\\utils.py:182\u001b[0m, in \u001b[0;36mraise_on_meta_error\u001b[1;34m(funcname, udf)\u001b[0m\n\u001b[0;32m    <a href='file:///c%3A/Users/Denis/AppData/Roaming/Python/Python39/site-packages/dask/dataframe/utils.py?line=180'>181</a>\u001b[0m \u001b[39mtry\u001b[39;00m:\n\u001b[1;32m--> <a href='file:///c%3A/Users/Denis/AppData/Roaming/Python/Python39/site-packages/dask/dataframe/utils.py?line=181'>182</a>\u001b[0m     \u001b[39myield\u001b[39;00m\n\u001b[0;32m    <a href='file:///c%3A/Users/Denis/AppData/Roaming/Python/Python39/site-packages/dask/dataframe/utils.py?line=182'>183</a>\u001b[0m \u001b[39mexcept\u001b[39;00m \u001b[39mException\u001b[39;00m \u001b[39mas\u001b[39;00m e:\n",
      "File \u001b[1;32m~\\AppData\\Roaming\\Python\\Python39\\site-packages\\dask\\dataframe\\core.py:6222\u001b[0m, in \u001b[0;36m_emulate\u001b[1;34m(func, udf, *args, **kwargs)\u001b[0m\n\u001b[0;32m   <a href='file:///c%3A/Users/Denis/AppData/Roaming/Python/Python39/site-packages/dask/dataframe/core.py?line=6220'>6221</a>\u001b[0m \u001b[39mwith\u001b[39;00m raise_on_meta_error(funcname(func), udf\u001b[39m=\u001b[39mudf):\n\u001b[1;32m-> <a href='file:///c%3A/Users/Denis/AppData/Roaming/Python/Python39/site-packages/dask/dataframe/core.py?line=6221'>6222</a>\u001b[0m     \u001b[39mreturn\u001b[39;00m func(\u001b[39m*\u001b[39m_extract_meta(args, \u001b[39mTrue\u001b[39;00m), \u001b[39m*\u001b[39m\u001b[39m*\u001b[39m_extract_meta(kwargs, \u001b[39mTrue\u001b[39;00m))\n",
      "File \u001b[1;32m~\\AppData\\Roaming\\Python\\Python39\\site-packages\\dask\\utils.py:1021\u001b[0m, in \u001b[0;36mmethodcaller.__call__\u001b[1;34m(self, _methodcaller__obj, *args, **kwargs)\u001b[0m\n\u001b[0;32m   <a href='file:///c%3A/Users/Denis/AppData/Roaming/Python/Python39/site-packages/dask/utils.py?line=1019'>1020</a>\u001b[0m \u001b[39mdef\u001b[39;00m \u001b[39m__call__\u001b[39m(\u001b[39mself\u001b[39m, __obj, \u001b[39m*\u001b[39margs, \u001b[39m*\u001b[39m\u001b[39m*\u001b[39mkwargs):\n\u001b[1;32m-> <a href='file:///c%3A/Users/Denis/AppData/Roaming/Python/Python39/site-packages/dask/utils.py?line=1020'>1021</a>\u001b[0m     \u001b[39mreturn\u001b[39;00m \u001b[39mgetattr\u001b[39m(__obj, \u001b[39mself\u001b[39m\u001b[39m.\u001b[39mmethod)(\u001b[39m*\u001b[39margs, \u001b[39m*\u001b[39m\u001b[39m*\u001b[39mkwargs)\n",
      "File \u001b[1;32m~\\AppData\\Roaming\\Python\\Python39\\site-packages\\pandas\\core\\series.py:4433\u001b[0m, in \u001b[0;36mSeries.apply\u001b[1;34m(self, func, convert_dtype, args, **kwargs)\u001b[0m\n\u001b[0;32m   <a href='file:///c%3A/Users/Denis/AppData/Roaming/Python/Python39/site-packages/pandas/core/series.py?line=4329'>4330</a>\u001b[0m \u001b[39m\"\"\"\u001b[39;00m\n\u001b[0;32m   <a href='file:///c%3A/Users/Denis/AppData/Roaming/Python/Python39/site-packages/pandas/core/series.py?line=4330'>4331</a>\u001b[0m \u001b[39mInvoke function on values of Series.\u001b[39;00m\n\u001b[0;32m   <a href='file:///c%3A/Users/Denis/AppData/Roaming/Python/Python39/site-packages/pandas/core/series.py?line=4331'>4332</a>\u001b[0m \n\u001b[1;32m   (...)\u001b[0m\n\u001b[0;32m   <a href='file:///c%3A/Users/Denis/AppData/Roaming/Python/Python39/site-packages/pandas/core/series.py?line=4430'>4431</a>\u001b[0m \u001b[39mdtype: float64\u001b[39;00m\n\u001b[0;32m   <a href='file:///c%3A/Users/Denis/AppData/Roaming/Python/Python39/site-packages/pandas/core/series.py?line=4431'>4432</a>\u001b[0m \u001b[39m\"\"\"\u001b[39;00m\n\u001b[1;32m-> <a href='file:///c%3A/Users/Denis/AppData/Roaming/Python/Python39/site-packages/pandas/core/series.py?line=4432'>4433</a>\u001b[0m \u001b[39mreturn\u001b[39;00m SeriesApply(\u001b[39mself\u001b[39;49m, func, convert_dtype, args, kwargs)\u001b[39m.\u001b[39;49mapply()\n",
      "File \u001b[1;32m~\\AppData\\Roaming\\Python\\Python39\\site-packages\\pandas\\core\\apply.py:1082\u001b[0m, in \u001b[0;36mSeriesApply.apply\u001b[1;34m(self)\u001b[0m\n\u001b[0;32m   <a href='file:///c%3A/Users/Denis/AppData/Roaming/Python/Python39/site-packages/pandas/core/apply.py?line=1079'>1080</a>\u001b[0m     \u001b[39mreturn\u001b[39;00m \u001b[39mself\u001b[39m\u001b[39m.\u001b[39mapply_str()\n\u001b[1;32m-> <a href='file:///c%3A/Users/Denis/AppData/Roaming/Python/Python39/site-packages/pandas/core/apply.py?line=1081'>1082</a>\u001b[0m \u001b[39mreturn\u001b[39;00m \u001b[39mself\u001b[39;49m\u001b[39m.\u001b[39;49mapply_standard()\n",
      "File \u001b[1;32m~\\AppData\\Roaming\\Python\\Python39\\site-packages\\pandas\\core\\apply.py:1137\u001b[0m, in \u001b[0;36mSeriesApply.apply_standard\u001b[1;34m(self)\u001b[0m\n\u001b[0;32m   <a href='file:///c%3A/Users/Denis/AppData/Roaming/Python/Python39/site-packages/pandas/core/apply.py?line=1131'>1132</a>\u001b[0m         \u001b[39m# error: Argument 2 to \"map_infer\" has incompatible type\u001b[39;00m\n\u001b[0;32m   <a href='file:///c%3A/Users/Denis/AppData/Roaming/Python/Python39/site-packages/pandas/core/apply.py?line=1132'>1133</a>\u001b[0m         \u001b[39m# \"Union[Callable[..., Any], str, List[Union[Callable[..., Any], str]],\u001b[39;00m\n\u001b[0;32m   <a href='file:///c%3A/Users/Denis/AppData/Roaming/Python/Python39/site-packages/pandas/core/apply.py?line=1133'>1134</a>\u001b[0m         \u001b[39m# Dict[Hashable, Union[Union[Callable[..., Any], str],\u001b[39;00m\n\u001b[0;32m   <a href='file:///c%3A/Users/Denis/AppData/Roaming/Python/Python39/site-packages/pandas/core/apply.py?line=1134'>1135</a>\u001b[0m         \u001b[39m# List[Union[Callable[..., Any], str]]]]]\"; expected\u001b[39;00m\n\u001b[0;32m   <a href='file:///c%3A/Users/Denis/AppData/Roaming/Python/Python39/site-packages/pandas/core/apply.py?line=1135'>1136</a>\u001b[0m         \u001b[39m# \"Callable[[Any], Any]\"\u001b[39;00m\n\u001b[1;32m-> <a href='file:///c%3A/Users/Denis/AppData/Roaming/Python/Python39/site-packages/pandas/core/apply.py?line=1136'>1137</a>\u001b[0m         mapped \u001b[39m=\u001b[39m lib\u001b[39m.\u001b[39;49mmap_infer(\n\u001b[0;32m   <a href='file:///c%3A/Users/Denis/AppData/Roaming/Python/Python39/site-packages/pandas/core/apply.py?line=1137'>1138</a>\u001b[0m             values,\n\u001b[0;32m   <a href='file:///c%3A/Users/Denis/AppData/Roaming/Python/Python39/site-packages/pandas/core/apply.py?line=1138'>1139</a>\u001b[0m             f,  \u001b[39m# type: ignore[arg-type]\u001b[39;49;00m\n\u001b[0;32m   <a href='file:///c%3A/Users/Denis/AppData/Roaming/Python/Python39/site-packages/pandas/core/apply.py?line=1139'>1140</a>\u001b[0m             convert\u001b[39m=\u001b[39;49m\u001b[39mself\u001b[39;49m\u001b[39m.\u001b[39;49mconvert_dtype,\n\u001b[0;32m   <a href='file:///c%3A/Users/Denis/AppData/Roaming/Python/Python39/site-packages/pandas/core/apply.py?line=1140'>1141</a>\u001b[0m         )\n\u001b[0;32m   <a href='file:///c%3A/Users/Denis/AppData/Roaming/Python/Python39/site-packages/pandas/core/apply.py?line=1142'>1143</a>\u001b[0m \u001b[39mif\u001b[39;00m \u001b[39mlen\u001b[39m(mapped) \u001b[39mand\u001b[39;00m \u001b[39misinstance\u001b[39m(mapped[\u001b[39m0\u001b[39m], ABCSeries):\n\u001b[0;32m   <a href='file:///c%3A/Users/Denis/AppData/Roaming/Python/Python39/site-packages/pandas/core/apply.py?line=1143'>1144</a>\u001b[0m     \u001b[39m# GH#43986 Need to do list(mapped) in order to get treated as nested\u001b[39;00m\n\u001b[0;32m   <a href='file:///c%3A/Users/Denis/AppData/Roaming/Python/Python39/site-packages/pandas/core/apply.py?line=1144'>1145</a>\u001b[0m     \u001b[39m#  See also GH#25959 regarding EA support\u001b[39;00m\n",
      "File \u001b[1;32m~\\AppData\\Roaming\\Python\\Python39\\site-packages\\pandas\\_libs\\lib.pyx:2870\u001b[0m, in \u001b[0;36mpandas._libs.lib.map_infer\u001b[1;34m()\u001b[0m\n",
      "\u001b[1;32mf:\\Дипломна работа\\code\\src\\Data_Manipulation.ipynb Cell 6'\u001b[0m in \u001b[0;36m<lambda>\u001b[1;34m(x)\u001b[0m\n\u001b[1;32m----> <a href='vscode-notebook-cell:/f%3A/%D0%94%D0%B8%D0%BF%D0%BB%D0%BE%D0%BC%D0%BD%D0%B0%20%D1%80%D0%B0%D0%B1%D0%BE%D1%82%D0%B0/code/src/Data_Manipulation.ipynb#ch0000004?line=0'>1</a>\u001b[0m df_test\u001b[39m.\u001b[39mpixel_color\u001b[39m.\u001b[39mapply(\u001b[39mlambda\u001b[39;00m x: x\u001b[39m.\u001b[39;49mvalue_counts())\u001b[39m.\u001b[39mcompute()\n",
      "\u001b[1;31mAttributeError\u001b[0m: 'str' object has no attribute 'value_counts'",
      "\nThe above exception was the direct cause of the following exception:\n",
      "\u001b[1;31mValueError\u001b[0m                                Traceback (most recent call last)",
      "\u001b[1;32mf:\\Дипломна работа\\code\\src\\Data_Manipulation.ipynb Cell 6'\u001b[0m in \u001b[0;36m<cell line: 1>\u001b[1;34m()\u001b[0m\n\u001b[1;32m----> <a href='vscode-notebook-cell:/f%3A/%D0%94%D0%B8%D0%BF%D0%BB%D0%BE%D0%BC%D0%BD%D0%B0%20%D1%80%D0%B0%D0%B1%D0%BE%D1%82%D0%B0/code/src/Data_Manipulation.ipynb#ch0000004?line=0'>1</a>\u001b[0m df_test\u001b[39m.\u001b[39;49mpixel_color\u001b[39m.\u001b[39;49mapply(\u001b[39mlambda\u001b[39;49;00m x: x\u001b[39m.\u001b[39;49mvalue_counts())\u001b[39m.\u001b[39mcompute()\n",
      "File \u001b[1;32m~\\AppData\\Roaming\\Python\\Python39\\site-packages\\dask\\dataframe\\core.py:3926\u001b[0m, in \u001b[0;36mSeries.apply\u001b[1;34m(self, func, convert_dtype, meta, args, **kwds)\u001b[0m\n\u001b[0;32m   <a href='file:///c%3A/Users/Denis/AppData/Roaming/Python/Python39/site-packages/dask/dataframe/core.py?line=3871'>3872</a>\u001b[0m \u001b[39m\"\"\"Parallel version of pandas.Series.apply\u001b[39;00m\n\u001b[0;32m   <a href='file:///c%3A/Users/Denis/AppData/Roaming/Python/Python39/site-packages/dask/dataframe/core.py?line=3872'>3873</a>\u001b[0m \n\u001b[0;32m   <a href='file:///c%3A/Users/Denis/AppData/Roaming/Python/Python39/site-packages/dask/dataframe/core.py?line=3873'>3874</a>\u001b[0m \u001b[39mParameters\u001b[39;00m\n\u001b[1;32m   (...)\u001b[0m\n\u001b[0;32m   <a href='file:///c%3A/Users/Denis/AppData/Roaming/Python/Python39/site-packages/dask/dataframe/core.py?line=3922'>3923</a>\u001b[0m \u001b[39mdask.Series.map_partitions\u001b[39;00m\n\u001b[0;32m   <a href='file:///c%3A/Users/Denis/AppData/Roaming/Python/Python39/site-packages/dask/dataframe/core.py?line=3923'>3924</a>\u001b[0m \u001b[39m\"\"\"\u001b[39;00m\n\u001b[0;32m   <a href='file:///c%3A/Users/Denis/AppData/Roaming/Python/Python39/site-packages/dask/dataframe/core.py?line=3924'>3925</a>\u001b[0m \u001b[39mif\u001b[39;00m meta \u001b[39mis\u001b[39;00m no_default:\n\u001b[1;32m-> <a href='file:///c%3A/Users/Denis/AppData/Roaming/Python/Python39/site-packages/dask/dataframe/core.py?line=3925'>3926</a>\u001b[0m     meta \u001b[39m=\u001b[39m _emulate(\n\u001b[0;32m   <a href='file:///c%3A/Users/Denis/AppData/Roaming/Python/Python39/site-packages/dask/dataframe/core.py?line=3926'>3927</a>\u001b[0m         M\u001b[39m.\u001b[39mapply,\n\u001b[0;32m   <a href='file:///c%3A/Users/Denis/AppData/Roaming/Python/Python39/site-packages/dask/dataframe/core.py?line=3927'>3928</a>\u001b[0m         \u001b[39mself\u001b[39m\u001b[39m.\u001b[39m_meta_nonempty,\n\u001b[0;32m   <a href='file:///c%3A/Users/Denis/AppData/Roaming/Python/Python39/site-packages/dask/dataframe/core.py?line=3928'>3929</a>\u001b[0m         func,\n\u001b[0;32m   <a href='file:///c%3A/Users/Denis/AppData/Roaming/Python/Python39/site-packages/dask/dataframe/core.py?line=3929'>3930</a>\u001b[0m         convert_dtype\u001b[39m=\u001b[39mconvert_dtype,\n\u001b[0;32m   <a href='file:///c%3A/Users/Denis/AppData/Roaming/Python/Python39/site-packages/dask/dataframe/core.py?line=3930'>3931</a>\u001b[0m         args\u001b[39m=\u001b[39margs,\n\u001b[0;32m   <a href='file:///c%3A/Users/Denis/AppData/Roaming/Python/Python39/site-packages/dask/dataframe/core.py?line=3931'>3932</a>\u001b[0m         udf\u001b[39m=\u001b[39m\u001b[39mTrue\u001b[39;00m,\n\u001b[0;32m   <a href='file:///c%3A/Users/Denis/AppData/Roaming/Python/Python39/site-packages/dask/dataframe/core.py?line=3932'>3933</a>\u001b[0m         \u001b[39m*\u001b[39m\u001b[39m*\u001b[39mkwds,\n\u001b[0;32m   <a href='file:///c%3A/Users/Denis/AppData/Roaming/Python/Python39/site-packages/dask/dataframe/core.py?line=3933'>3934</a>\u001b[0m     )\n\u001b[0;32m   <a href='file:///c%3A/Users/Denis/AppData/Roaming/Python/Python39/site-packages/dask/dataframe/core.py?line=3934'>3935</a>\u001b[0m     warnings\u001b[39m.\u001b[39mwarn(meta_warning(meta))\n\u001b[0;32m   <a href='file:///c%3A/Users/Denis/AppData/Roaming/Python/Python39/site-packages/dask/dataframe/core.py?line=3936'>3937</a>\u001b[0m \u001b[39mreturn\u001b[39;00m map_partitions(\n\u001b[0;32m   <a href='file:///c%3A/Users/Denis/AppData/Roaming/Python/Python39/site-packages/dask/dataframe/core.py?line=3937'>3938</a>\u001b[0m     M\u001b[39m.\u001b[39mapply, \u001b[39mself\u001b[39m, func, convert_dtype, args, meta\u001b[39m=\u001b[39mmeta, \u001b[39m*\u001b[39m\u001b[39m*\u001b[39mkwds\n\u001b[0;32m   <a href='file:///c%3A/Users/Denis/AppData/Roaming/Python/Python39/site-packages/dask/dataframe/core.py?line=3938'>3939</a>\u001b[0m )\n",
      "File \u001b[1;32m~\\AppData\\Roaming\\Python\\Python39\\site-packages\\dask\\dataframe\\core.py:6222\u001b[0m, in \u001b[0;36m_emulate\u001b[1;34m(func, udf, *args, **kwargs)\u001b[0m\n\u001b[0;32m   <a href='file:///c%3A/Users/Denis/AppData/Roaming/Python/Python39/site-packages/dask/dataframe/core.py?line=6216'>6217</a>\u001b[0m \u001b[39m\"\"\"\u001b[39;00m\n\u001b[0;32m   <a href='file:///c%3A/Users/Denis/AppData/Roaming/Python/Python39/site-packages/dask/dataframe/core.py?line=6217'>6218</a>\u001b[0m \u001b[39mApply a function using args / kwargs. If arguments contain dd.DataFrame /\u001b[39;00m\n\u001b[0;32m   <a href='file:///c%3A/Users/Denis/AppData/Roaming/Python/Python39/site-packages/dask/dataframe/core.py?line=6218'>6219</a>\u001b[0m \u001b[39mdd.Series, using internal cache (``_meta``) for calculation\u001b[39;00m\n\u001b[0;32m   <a href='file:///c%3A/Users/Denis/AppData/Roaming/Python/Python39/site-packages/dask/dataframe/core.py?line=6219'>6220</a>\u001b[0m \u001b[39m\"\"\"\u001b[39;00m\n\u001b[0;32m   <a href='file:///c%3A/Users/Denis/AppData/Roaming/Python/Python39/site-packages/dask/dataframe/core.py?line=6220'>6221</a>\u001b[0m \u001b[39mwith\u001b[39;00m raise_on_meta_error(funcname(func), udf\u001b[39m=\u001b[39mudf):\n\u001b[1;32m-> <a href='file:///c%3A/Users/Denis/AppData/Roaming/Python/Python39/site-packages/dask/dataframe/core.py?line=6221'>6222</a>\u001b[0m     \u001b[39mreturn\u001b[39;00m func(\u001b[39m*\u001b[39m_extract_meta(args, \u001b[39mTrue\u001b[39;00m), \u001b[39m*\u001b[39m\u001b[39m*\u001b[39m_extract_meta(kwargs, \u001b[39mTrue\u001b[39;00m))\n",
      "File \u001b[1;32mC:\\Program Files (x86)\\Microsoft Visual Studio\\Shared\\Python39_64\\lib\\contextlib.py:135\u001b[0m, in \u001b[0;36m_GeneratorContextManager.__exit__\u001b[1;34m(self, type, value, traceback)\u001b[0m\n\u001b[0;32m    <a href='file:///c%3A/Program%20Files%20%28x86%29/Microsoft%20Visual%20Studio/Shared/Python39_64/lib/contextlib.py?line=132'>133</a>\u001b[0m     value \u001b[39m=\u001b[39m \u001b[39mtype\u001b[39m()\n\u001b[0;32m    <a href='file:///c%3A/Program%20Files%20%28x86%29/Microsoft%20Visual%20Studio/Shared/Python39_64/lib/contextlib.py?line=133'>134</a>\u001b[0m \u001b[39mtry\u001b[39;00m:\n\u001b[1;32m--> <a href='file:///c%3A/Program%20Files%20%28x86%29/Microsoft%20Visual%20Studio/Shared/Python39_64/lib/contextlib.py?line=134'>135</a>\u001b[0m     \u001b[39mself\u001b[39;49m\u001b[39m.\u001b[39;49mgen\u001b[39m.\u001b[39;49mthrow(\u001b[39mtype\u001b[39;49m, value, traceback)\n\u001b[0;32m    <a href='file:///c%3A/Program%20Files%20%28x86%29/Microsoft%20Visual%20Studio/Shared/Python39_64/lib/contextlib.py?line=135'>136</a>\u001b[0m \u001b[39mexcept\u001b[39;00m \u001b[39mStopIteration\u001b[39;00m \u001b[39mas\u001b[39;00m exc:\n\u001b[0;32m    <a href='file:///c%3A/Program%20Files%20%28x86%29/Microsoft%20Visual%20Studio/Shared/Python39_64/lib/contextlib.py?line=136'>137</a>\u001b[0m     \u001b[39m# Suppress StopIteration *unless* it's the same exception that\u001b[39;00m\n\u001b[0;32m    <a href='file:///c%3A/Program%20Files%20%28x86%29/Microsoft%20Visual%20Studio/Shared/Python39_64/lib/contextlib.py?line=137'>138</a>\u001b[0m     \u001b[39m# was passed to throw().  This prevents a StopIteration\u001b[39;00m\n\u001b[0;32m    <a href='file:///c%3A/Program%20Files%20%28x86%29/Microsoft%20Visual%20Studio/Shared/Python39_64/lib/contextlib.py?line=138'>139</a>\u001b[0m     \u001b[39m# raised inside the \"with\" statement from being suppressed.\u001b[39;00m\n\u001b[0;32m    <a href='file:///c%3A/Program%20Files%20%28x86%29/Microsoft%20Visual%20Studio/Shared/Python39_64/lib/contextlib.py?line=139'>140</a>\u001b[0m     \u001b[39mreturn\u001b[39;00m exc \u001b[39mis\u001b[39;00m \u001b[39mnot\u001b[39;00m value\n",
      "File \u001b[1;32m~\\AppData\\Roaming\\Python\\Python39\\site-packages\\dask\\dataframe\\utils.py:203\u001b[0m, in \u001b[0;36mraise_on_meta_error\u001b[1;34m(funcname, udf)\u001b[0m\n\u001b[0;32m    <a href='file:///c%3A/Users/Denis/AppData/Roaming/Python/Python39/site-packages/dask/dataframe/utils.py?line=193'>194</a>\u001b[0m msg \u001b[39m+\u001b[39m\u001b[39m=\u001b[39m (\n\u001b[0;32m    <a href='file:///c%3A/Users/Denis/AppData/Roaming/Python/Python39/site-packages/dask/dataframe/utils.py?line=194'>195</a>\u001b[0m     \u001b[39m\"\u001b[39m\u001b[39mOriginal error is below:\u001b[39m\u001b[39m\\n\u001b[39;00m\u001b[39m\"\u001b[39m\n\u001b[0;32m    <a href='file:///c%3A/Users/Denis/AppData/Roaming/Python/Python39/site-packages/dask/dataframe/utils.py?line=195'>196</a>\u001b[0m     \u001b[39m\"\u001b[39m\u001b[39m------------------------\u001b[39m\u001b[39m\\n\u001b[39;00m\u001b[39m\"\u001b[39m\n\u001b[1;32m   (...)\u001b[0m\n\u001b[0;32m    <a href='file:///c%3A/Users/Denis/AppData/Roaming/Python/Python39/site-packages/dask/dataframe/utils.py?line=199'>200</a>\u001b[0m     \u001b[39m\"\u001b[39m\u001b[39m{2}\u001b[39;00m\u001b[39m\"\u001b[39m\n\u001b[0;32m    <a href='file:///c%3A/Users/Denis/AppData/Roaming/Python/Python39/site-packages/dask/dataframe/utils.py?line=200'>201</a>\u001b[0m )\n\u001b[0;32m    <a href='file:///c%3A/Users/Denis/AppData/Roaming/Python/Python39/site-packages/dask/dataframe/utils.py?line=201'>202</a>\u001b[0m msg \u001b[39m=\u001b[39m msg\u001b[39m.\u001b[39mformat(\u001b[39mf\u001b[39m\u001b[39m\"\u001b[39m\u001b[39m in `\u001b[39m\u001b[39m{\u001b[39;00mfuncname\u001b[39m}\u001b[39;00m\u001b[39m`\u001b[39m\u001b[39m\"\u001b[39m \u001b[39mif\u001b[39;00m funcname \u001b[39melse\u001b[39;00m \u001b[39m\"\u001b[39m\u001b[39m\"\u001b[39m, \u001b[39mrepr\u001b[39m(e), tb)\n\u001b[1;32m--> <a href='file:///c%3A/Users/Denis/AppData/Roaming/Python/Python39/site-packages/dask/dataframe/utils.py?line=202'>203</a>\u001b[0m \u001b[39mraise\u001b[39;00m \u001b[39mValueError\u001b[39;00m(msg) \u001b[39mfrom\u001b[39;00m \u001b[39me\u001b[39;00m\n",
      "\u001b[1;31mValueError\u001b[0m: Metadata inference failed in `apply`.\n\nYou have supplied a custom function and Dask is unable to \ndetermine the type of output that that function returns. \n\nTo resolve this please provide a meta= keyword.\nThe docstring of the Dask function you ran should have more information.\n\nOriginal error is below:\n------------------------\nAttributeError(\"'str' object has no attribute 'value_counts'\")\n\nTraceback:\n---------\n  File \"C:\\Users\\Denis\\AppData\\Roaming\\Python\\Python39\\site-packages\\dask\\dataframe\\utils.py\", line 182, in raise_on_meta_error\n    yield\n  File \"C:\\Users\\Denis\\AppData\\Roaming\\Python\\Python39\\site-packages\\dask\\dataframe\\core.py\", line 6222, in _emulate\n    return func(*_extract_meta(args, True), **_extract_meta(kwargs, True))\n  File \"C:\\Users\\Denis\\AppData\\Roaming\\Python\\Python39\\site-packages\\dask\\utils.py\", line 1021, in __call__\n    return getattr(__obj, self.method)(*args, **kwargs)\n  File \"C:\\Users\\Denis\\AppData\\Roaming\\Python\\Python39\\site-packages\\pandas\\core\\series.py\", line 4433, in apply\n    return SeriesApply(self, func, convert_dtype, args, kwargs).apply()\n  File \"C:\\Users\\Denis\\AppData\\Roaming\\Python\\Python39\\site-packages\\pandas\\core\\apply.py\", line 1082, in apply\n    return self.apply_standard()\n  File \"C:\\Users\\Denis\\AppData\\Roaming\\Python\\Python39\\site-packages\\pandas\\core\\apply.py\", line 1137, in apply_standard\n    mapped = lib.map_infer(\n  File \"pandas\\_libs\\lib.pyx\", line 2870, in pandas._libs.lib.map_infer\n  File \"C:\\Users\\Denis\\AppData\\Local\\Temp\\ipykernel_15056\\3278130273.py\", line 1, in <lambda>\n    df_test.pixel_color.apply(lambda x: x.value_counts()).compute()\n"
     ]
    }
   ],
   "source": [
    "df_test.groupby(['pixel_color']).pixel_color.apply(lambda x: x.value_counts()).compute()"
   ]
  },
  {
   "cell_type": "code",
   "execution_count": null,
   "metadata": {},
   "outputs": [],
   "source": []
  }
 ],
 "metadata": {
  "interpreter": {
   "hash": "6f7c4d44365b28014734406e4d617c1e1f76ea196def854c7b951a230f6e24f1"
  },
  "kernelspec": {
   "display_name": "Python 3.9.5 64-bit",
   "language": "python",
   "name": "python3"
  },
  "language_info": {
   "codemirror_mode": {
    "name": "ipython",
    "version": 3
   },
   "file_extension": ".py",
   "mimetype": "text/x-python",
   "name": "python",
   "nbconvert_exporter": "python",
   "pygments_lexer": "ipython3",
   "version": "3.9.5"
  },
  "orig_nbformat": 4
 },
 "nbformat": 4,
 "nbformat_minor": 2
}
