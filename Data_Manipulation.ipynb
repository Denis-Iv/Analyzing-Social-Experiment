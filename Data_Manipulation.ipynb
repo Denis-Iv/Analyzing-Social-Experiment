{
 "cells": [
  {
   "cell_type": "code",
   "execution_count": 8,
   "metadata": {},
   "outputs": [],
   "source": [
    "from dask import dataframe as dd\n",
    "import os"
   ]
  },
  {
   "cell_type": "code",
   "execution_count": 10,
   "metadata": {},
   "outputs": [
    {
     "ename": "ImportError",
     "evalue": "Dask diagnostics requirements are not installed.\n\nPlease either conda or pip install as follows:\n\n  conda install dask                     # either conda install\n  python -m pip install \"dask[diagnostics]\" --upgrade  # or python -m pip install",
     "output_type": "error",
     "traceback": [
      "\u001b[1;31m---------------------------------------------------------------------------\u001b[0m",
      "\u001b[1;31mModuleNotFoundError\u001b[0m                       Traceback (most recent call last)",
      "File \u001b[1;32m~\\AppData\\Roaming\\Python\\Python39\\site-packages\\dask\\widgets\\__init__.py:2\u001b[0m, in \u001b[0;36m<module>\u001b[1;34m\u001b[0m\n\u001b[0;32m      <a href='file:///c%3A/Users/Denis/AppData/Roaming/Python/Python39/site-packages/dask/widgets/__init__.py?line=0'>1</a>\u001b[0m \u001b[39mtry\u001b[39;00m:\n\u001b[1;32m----> <a href='file:///c%3A/Users/Denis/AppData/Roaming/Python/Python39/site-packages/dask/widgets/__init__.py?line=1'>2</a>\u001b[0m     \u001b[39mfrom\u001b[39;00m \u001b[39mdask\u001b[39;00m\u001b[39m.\u001b[39;00m\u001b[39mwidgets\u001b[39;00m\u001b[39m.\u001b[39;00m\u001b[39mwidgets\u001b[39;00m \u001b[39mimport\u001b[39;00m (\n\u001b[0;32m      <a href='file:///c%3A/Users/Denis/AppData/Roaming/Python/Python39/site-packages/dask/widgets/__init__.py?line=2'>3</a>\u001b[0m         FILTERS,\n\u001b[0;32m      <a href='file:///c%3A/Users/Denis/AppData/Roaming/Python/Python39/site-packages/dask/widgets/__init__.py?line=3'>4</a>\u001b[0m         TEMPLATE_PATHS,\n\u001b[0;32m      <a href='file:///c%3A/Users/Denis/AppData/Roaming/Python/Python39/site-packages/dask/widgets/__init__.py?line=4'>5</a>\u001b[0m         get_environment,\n\u001b[0;32m      <a href='file:///c%3A/Users/Denis/AppData/Roaming/Python/Python39/site-packages/dask/widgets/__init__.py?line=5'>6</a>\u001b[0m         get_template,\n\u001b[0;32m      <a href='file:///c%3A/Users/Denis/AppData/Roaming/Python/Python39/site-packages/dask/widgets/__init__.py?line=6'>7</a>\u001b[0m     )\n\u001b[0;32m      <a href='file:///c%3A/Users/Denis/AppData/Roaming/Python/Python39/site-packages/dask/widgets/__init__.py?line=8'>9</a>\u001b[0m \u001b[39mexcept\u001b[39;00m \u001b[39mImportError\u001b[39;00m \u001b[39mas\u001b[39;00m e:\n",
      "File \u001b[1;32m~\\AppData\\Roaming\\Python\\Python39\\site-packages\\dask\\widgets\\widgets.py:5\u001b[0m, in \u001b[0;36m<module>\u001b[1;34m\u001b[0m\n\u001b[0;32m      <a href='file:///c%3A/Users/Denis/AppData/Roaming/Python/Python39/site-packages/dask/widgets/widgets.py?line=2'>3</a>\u001b[0m \u001b[39mimport\u001b[39;00m \u001b[39mos\u001b[39;00m\u001b[39m.\u001b[39;00m\u001b[39mpath\u001b[39;00m\n\u001b[1;32m----> <a href='file:///c%3A/Users/Denis/AppData/Roaming/Python/Python39/site-packages/dask/widgets/widgets.py?line=4'>5</a>\u001b[0m \u001b[39mfrom\u001b[39;00m \u001b[39mjinja2\u001b[39;00m \u001b[39mimport\u001b[39;00m Environment, FileSystemLoader, Template\n\u001b[0;32m      <a href='file:///c%3A/Users/Denis/AppData/Roaming/Python/Python39/site-packages/dask/widgets/widgets.py?line=5'>6</a>\u001b[0m \u001b[39mfrom\u001b[39;00m \u001b[39mjinja2\u001b[39;00m\u001b[39m.\u001b[39;00m\u001b[39mexceptions\u001b[39;00m \u001b[39mimport\u001b[39;00m TemplateNotFound\n",
      "\u001b[1;31mModuleNotFoundError\u001b[0m: No module named 'jinja2'",
      "\nThe above exception was the direct cause of the following exception:\n",
      "\u001b[1;31mImportError\u001b[0m                               Traceback (most recent call last)",
      "File \u001b[1;32m~\\AppData\\Roaming\\Python\\Python39\\site-packages\\IPython\\core\\formatters.py:343\u001b[0m, in \u001b[0;36mBaseFormatter.__call__\u001b[1;34m(self, obj)\u001b[0m\n\u001b[0;32m    <a href='file:///c%3A/Users/Denis/AppData/Roaming/Python/Python39/site-packages/IPython/core/formatters.py?line=340'>341</a>\u001b[0m     method \u001b[39m=\u001b[39m get_real_method(obj, \u001b[39mself\u001b[39m\u001b[39m.\u001b[39mprint_method)\n\u001b[0;32m    <a href='file:///c%3A/Users/Denis/AppData/Roaming/Python/Python39/site-packages/IPython/core/formatters.py?line=341'>342</a>\u001b[0m     \u001b[39mif\u001b[39;00m method \u001b[39mis\u001b[39;00m \u001b[39mnot\u001b[39;00m \u001b[39mNone\u001b[39;00m:\n\u001b[1;32m--> <a href='file:///c%3A/Users/Denis/AppData/Roaming/Python/Python39/site-packages/IPython/core/formatters.py?line=342'>343</a>\u001b[0m         \u001b[39mreturn\u001b[39;00m method()\n\u001b[0;32m    <a href='file:///c%3A/Users/Denis/AppData/Roaming/Python/Python39/site-packages/IPython/core/formatters.py?line=343'>344</a>\u001b[0m     \u001b[39mreturn\u001b[39;00m \u001b[39mNone\u001b[39;00m\n\u001b[0;32m    <a href='file:///c%3A/Users/Denis/AppData/Roaming/Python/Python39/site-packages/IPython/core/formatters.py?line=344'>345</a>\u001b[0m \u001b[39melse\u001b[39;00m:\n",
      "File \u001b[1;32m~\\AppData\\Roaming\\Python\\Python39\\site-packages\\dask\\dataframe\\core.py:5679\u001b[0m, in \u001b[0;36mDataFrame._repr_html_\u001b[1;34m(self)\u001b[0m\n\u001b[0;32m   <a href='file:///c%3A/Users/Denis/AppData/Roaming/Python/Python39/site-packages/dask/dataframe/core.py?line=5674'>5675</a>\u001b[0m \u001b[39mdef\u001b[39;00m \u001b[39m_repr_html_\u001b[39m(\u001b[39mself\u001b[39m):\n\u001b[0;32m   <a href='file:///c%3A/Users/Denis/AppData/Roaming/Python/Python39/site-packages/dask/dataframe/core.py?line=5675'>5676</a>\u001b[0m     data \u001b[39m=\u001b[39m \u001b[39mself\u001b[39m\u001b[39m.\u001b[39m_repr_data()\u001b[39m.\u001b[39mto_html(\n\u001b[0;32m   <a href='file:///c%3A/Users/Denis/AppData/Roaming/Python/Python39/site-packages/dask/dataframe/core.py?line=5676'>5677</a>\u001b[0m         max_rows\u001b[39m=\u001b[39m\u001b[39m5\u001b[39m, show_dimensions\u001b[39m=\u001b[39m\u001b[39mFalse\u001b[39;00m, notebook\u001b[39m=\u001b[39m\u001b[39mTrue\u001b[39;00m\n\u001b[0;32m   <a href='file:///c%3A/Users/Denis/AppData/Roaming/Python/Python39/site-packages/dask/dataframe/core.py?line=5677'>5678</a>\u001b[0m     )\n\u001b[1;32m-> <a href='file:///c%3A/Users/Denis/AppData/Roaming/Python/Python39/site-packages/dask/dataframe/core.py?line=5678'>5679</a>\u001b[0m     \u001b[39mreturn\u001b[39;00m get_template(\u001b[39m\"\u001b[39;49m\u001b[39mdataframe.html.j2\u001b[39;49m\u001b[39m\"\u001b[39;49m)\u001b[39m.\u001b[39mrender(\n\u001b[0;32m   <a href='file:///c%3A/Users/Denis/AppData/Roaming/Python/Python39/site-packages/dask/dataframe/core.py?line=5679'>5680</a>\u001b[0m         data\u001b[39m=\u001b[39mdata, name\u001b[39m=\u001b[39m\u001b[39mself\u001b[39m\u001b[39m.\u001b[39m_name, task\u001b[39m=\u001b[39m\u001b[39mself\u001b[39m\u001b[39m.\u001b[39mdask\n\u001b[0;32m   <a href='file:///c%3A/Users/Denis/AppData/Roaming/Python/Python39/site-packages/dask/dataframe/core.py?line=5680'>5681</a>\u001b[0m     )\n",
      "File \u001b[1;32m~\\AppData\\Roaming\\Python\\Python39\\site-packages\\dask\\widgets\\__init__.py:24\u001b[0m, in \u001b[0;36mget_template\u001b[1;34m(name)\u001b[0m\n\u001b[0;32m     <a href='file:///c%3A/Users/Denis/AppData/Roaming/Python/Python39/site-packages/dask/widgets/__init__.py?line=22'>23</a>\u001b[0m \u001b[39mdef\u001b[39;00m \u001b[39mget_template\u001b[39m(name: \u001b[39mstr\u001b[39m):\n\u001b[1;32m---> <a href='file:///c%3A/Users/Denis/AppData/Roaming/Python/Python39/site-packages/dask/widgets/__init__.py?line=23'>24</a>\u001b[0m     \u001b[39mraise\u001b[39;00m \u001b[39mImportError\u001b[39;00m(msg) \u001b[39mfrom\u001b[39;00m \u001b[39mexception\u001b[39;00m\n",
      "\u001b[1;31mImportError\u001b[0m: Dask diagnostics requirements are not installed.\n\nPlease either conda or pip install as follows:\n\n  conda install dask                     # either conda install\n  python -m pip install \"dask[diagnostics]\" --upgrade  # or python -m pip install"
     ]
    },
    {
     "data": {
      "text/plain": [
       "Dask DataFrame Structure:\n",
       "                timestamp user_id pixel_color coordinate\n",
       "npartitions=339                                         \n",
       "                   object  object      object     object\n",
       "                      ...     ...         ...        ...\n",
       "...                   ...     ...         ...        ...\n",
       "                      ...     ...         ...        ...\n",
       "                      ...     ...         ...        ...\n",
       "Dask Name: read-csv, 339 tasks"
      ]
     },
     "execution_count": 10,
     "metadata": {},
     "output_type": "execute_result"
    }
   ],
   "source": [
    "dataset = dd.read_csv('..\\\\data\\\\raw\\\\2022_place_canvas_history.csv')\n",
    "dataset"
   ]
  },
  {
   "cell_type": "code",
   "execution_count": null,
   "metadata": {},
   "outputs": [],
   "source": [
    "dataset.info(memory_usage=True)"
   ]
  }
 ],
 "metadata": {
  "interpreter": {
   "hash": "6f7c4d44365b28014734406e4d617c1e1f76ea196def854c7b951a230f6e24f1"
  },
  "kernelspec": {
   "display_name": "Python 3.9.5 64-bit",
   "language": "python",
   "name": "python3"
  },
  "language_info": {
   "codemirror_mode": {
    "name": "ipython",
    "version": 3
   },
   "file_extension": ".py",
   "mimetype": "text/x-python",
   "name": "python",
   "nbconvert_exporter": "python",
   "pygments_lexer": "ipython3",
   "version": "3.9.5"
  },
  "orig_nbformat": 4
 },
 "nbformat": 4,
 "nbformat_minor": 2
}
