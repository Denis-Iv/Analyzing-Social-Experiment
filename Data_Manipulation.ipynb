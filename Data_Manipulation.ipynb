{
 "cells": [
  {
   "cell_type": "code",
   "execution_count": 16,
   "metadata": {},
   "outputs": [],
   "source": [
    "from dask import dataframe as dd"
   ]
  },
  {
   "cell_type": "code",
   "execution_count": 23,
   "metadata": {},
   "outputs": [
    {
     "data": {
      "text/html": [
       "<div><strong>Dask DataFrame Structure:</strong></div>\n",
       "<div>\n",
       "<style scoped>\n",
       "    .dataframe tbody tr th:only-of-type {\n",
       "        vertical-align: middle;\n",
       "    }\n",
       "\n",
       "    .dataframe tbody tr th {\n",
       "        vertical-align: top;\n",
       "    }\n",
       "\n",
       "    .dataframe thead th {\n",
       "        text-align: right;\n",
       "    }\n",
       "</style>\n",
       "<table border=\"1\" class=\"dataframe\">\n",
       "  <thead>\n",
       "    <tr style=\"text-align: right;\">\n",
       "      <th></th>\n",
       "      <th>timestamp</th>\n",
       "      <th>user_id</th>\n",
       "      <th>pixel_color</th>\n",
       "      <th>coordinate</th>\n",
       "    </tr>\n",
       "    <tr>\n",
       "      <th>npartitions=339</th>\n",
       "      <th></th>\n",
       "      <th></th>\n",
       "      <th></th>\n",
       "      <th></th>\n",
       "    </tr>\n",
       "  </thead>\n",
       "  <tbody>\n",
       "    <tr>\n",
       "      <th></th>\n",
       "      <td>object</td>\n",
       "      <td>object</td>\n",
       "      <td>object</td>\n",
       "      <td>object</td>\n",
       "    </tr>\n",
       "    <tr>\n",
       "      <th></th>\n",
       "      <td>...</td>\n",
       "      <td>...</td>\n",
       "      <td>...</td>\n",
       "      <td>...</td>\n",
       "    </tr>\n",
       "    <tr>\n",
       "      <th>...</th>\n",
       "      <td>...</td>\n",
       "      <td>...</td>\n",
       "      <td>...</td>\n",
       "      <td>...</td>\n",
       "    </tr>\n",
       "    <tr>\n",
       "      <th></th>\n",
       "      <td>...</td>\n",
       "      <td>...</td>\n",
       "      <td>...</td>\n",
       "      <td>...</td>\n",
       "    </tr>\n",
       "    <tr>\n",
       "      <th></th>\n",
       "      <td>...</td>\n",
       "      <td>...</td>\n",
       "      <td>...</td>\n",
       "      <td>...</td>\n",
       "    </tr>\n",
       "  </tbody>\n",
       "</table>\n",
       "</div>\n",
       "<div>Dask Name: read-csv, 339 tasks</div>"
      ],
      "text/plain": [
       "Dask DataFrame Structure:\n",
       "                timestamp user_id pixel_color coordinate\n",
       "npartitions=339                                         \n",
       "                   object  object      object     object\n",
       "                      ...     ...         ...        ...\n",
       "...                   ...     ...         ...        ...\n",
       "                      ...     ...         ...        ...\n",
       "                      ...     ...         ...        ...\n",
       "Dask Name: read-csv, 339 tasks"
      ]
     },
     "execution_count": 23,
     "metadata": {},
     "output_type": "execute_result"
    }
   ],
   "source": [
    "df = dd.read_csv('..\\\\data\\\\raw\\\\2022_place_canvas_history.csv')\n",
    "df"
   ]
  },
  {
   "cell_type": "code",
   "execution_count": 3,
   "metadata": {},
   "outputs": [
    {
     "data": {
      "text/plain": [
       "160353104"
      ]
     },
     "execution_count": 3,
     "metadata": {},
     "output_type": "execute_result"
    }
   ],
   "source": [
    "len(df)"
   ]
  },
  {
   "cell_type": "code",
   "execution_count": 4,
   "metadata": {},
   "outputs": [
    {
     "data": {
      "text/plain": [
       "['f:\\\\Дипломна работа\\\\code\\\\data\\\\raw\\\\2022_place_canvas_history_00.csv',\n",
       " 'f:\\\\Дипломна работа\\\\code\\\\data\\\\raw\\\\2022_place_canvas_history_01.csv',\n",
       " 'f:\\\\Дипломна работа\\\\code\\\\data\\\\raw\\\\2022_place_canvas_history_02.csv',\n",
       " 'f:\\\\Дипломна работа\\\\code\\\\data\\\\raw\\\\2022_place_canvas_history_03.csv',\n",
       " 'f:\\\\Дипломна работа\\\\code\\\\data\\\\raw\\\\2022_place_canvas_history_04.csv',\n",
       " 'f:\\\\Дипломна работа\\\\code\\\\data\\\\raw\\\\2022_place_canvas_history_05.csv',\n",
       " 'f:\\\\Дипломна работа\\\\code\\\\data\\\\raw\\\\2022_place_canvas_history_06.csv',\n",
       " 'f:\\\\Дипломна работа\\\\code\\\\data\\\\raw\\\\2022_place_canvas_history_07.csv',\n",
       " 'f:\\\\Дипломна работа\\\\code\\\\data\\\\raw\\\\2022_place_canvas_history_08.csv',\n",
       " 'f:\\\\Дипломна работа\\\\code\\\\data\\\\raw\\\\2022_place_canvas_history_09.csv',\n",
       " 'f:\\\\Дипломна работа\\\\code\\\\data\\\\raw\\\\2022_place_canvas_history_10.csv',\n",
       " 'f:\\\\Дипломна работа\\\\code\\\\data\\\\raw\\\\2022_place_canvas_history_11.csv',\n",
       " 'f:\\\\Дипломна работа\\\\code\\\\data\\\\raw\\\\2022_place_canvas_history_12.csv',\n",
       " 'f:\\\\Дипломна работа\\\\code\\\\data\\\\raw\\\\2022_place_canvas_history_13.csv',\n",
       " 'f:\\\\Дипломна работа\\\\code\\\\data\\\\raw\\\\2022_place_canvas_history_14.csv',\n",
       " 'f:\\\\Дипломна работа\\\\code\\\\data\\\\raw\\\\2022_place_canvas_history_15.csv',\n",
       " 'f:\\\\Дипломна работа\\\\code\\\\data\\\\raw\\\\2022_place_canvas_history_16.csv',\n",
       " 'f:\\\\Дипломна работа\\\\code\\\\data\\\\raw\\\\2022_place_canvas_history_17.csv',\n",
       " 'f:\\\\Дипломна работа\\\\code\\\\data\\\\raw\\\\2022_place_canvas_history_18.csv',\n",
       " 'f:\\\\Дипломна работа\\\\code\\\\data\\\\raw\\\\2022_place_canvas_history_19.csv',\n",
       " 'f:\\\\Дипломна работа\\\\code\\\\data\\\\raw\\\\2022_place_canvas_history_20.csv',\n",
       " 'f:\\\\Дипломна работа\\\\code\\\\data\\\\raw\\\\2022_place_canvas_history_21.csv',\n",
       " 'f:\\\\Дипломна работа\\\\code\\\\data\\\\raw\\\\2022_place_canvas_history_22.csv',\n",
       " 'f:\\\\Дипломна работа\\\\code\\\\data\\\\raw\\\\2022_place_canvas_history_23.csv',\n",
       " 'f:\\\\Дипломна работа\\\\code\\\\data\\\\raw\\\\2022_place_canvas_history_24.csv',\n",
       " 'f:\\\\Дипломна работа\\\\code\\\\data\\\\raw\\\\2022_place_canvas_history_25.csv',\n",
       " 'f:\\\\Дипломна работа\\\\code\\\\data\\\\raw\\\\2022_place_canvas_history_26.csv',\n",
       " 'f:\\\\Дипломна работа\\\\code\\\\data\\\\raw\\\\2022_place_canvas_history_27.csv',\n",
       " 'f:\\\\Дипломна работа\\\\code\\\\data\\\\raw\\\\2022_place_canvas_history_28.csv',\n",
       " 'f:\\\\Дипломна работа\\\\code\\\\data\\\\raw\\\\2022_place_canvas_history_29.csv',\n",
       " 'f:\\\\Дипломна работа\\\\code\\\\data\\\\raw\\\\2022_place_canvas_history_30.csv',\n",
       " 'f:\\\\Дипломна работа\\\\code\\\\data\\\\raw\\\\2022_place_canvas_history_31.csv',\n",
       " 'f:\\\\Дипломна работа\\\\code\\\\data\\\\raw\\\\2022_place_canvas_history_32.csv',\n",
       " 'f:\\\\Дипломна работа\\\\code\\\\data\\\\raw\\\\2022_place_canvas_history_33.csv',\n",
       " 'f:\\\\Дипломна работа\\\\code\\\\data\\\\raw\\\\2022_place_canvas_history_34.csv',\n",
       " 'f:\\\\Дипломна работа\\\\code\\\\data\\\\raw\\\\2022_place_canvas_history_35.csv',\n",
       " 'f:\\\\Дипломна работа\\\\code\\\\data\\\\raw\\\\2022_place_canvas_history_36.csv',\n",
       " 'f:\\\\Дипломна работа\\\\code\\\\data\\\\raw\\\\2022_place_canvas_history_37.csv',\n",
       " 'f:\\\\Дипломна работа\\\\code\\\\data\\\\raw\\\\2022_place_canvas_history_38.csv',\n",
       " 'f:\\\\Дипломна работа\\\\code\\\\data\\\\raw\\\\2022_place_canvas_history_39.csv',\n",
       " 'f:\\\\Дипломна работа\\\\code\\\\data\\\\raw\\\\2022_place_canvas_history_40.csv',\n",
       " 'f:\\\\Дипломна работа\\\\code\\\\data\\\\raw\\\\2022_place_canvas_history_41.csv',\n",
       " 'f:\\\\Дипломна работа\\\\code\\\\data\\\\raw\\\\2022_place_canvas_history_42.csv',\n",
       " 'f:\\\\Дипломна работа\\\\code\\\\data\\\\raw\\\\2022_place_canvas_history_43.csv',\n",
       " 'f:\\\\Дипломна работа\\\\code\\\\data\\\\raw\\\\2022_place_canvas_history_44.csv',\n",
       " 'f:\\\\Дипломна работа\\\\code\\\\data\\\\raw\\\\2022_place_canvas_history_45.csv',\n",
       " 'f:\\\\Дипломна работа\\\\code\\\\data\\\\raw\\\\2022_place_canvas_history_46.csv',\n",
       " 'f:\\\\Дипломна работа\\\\code\\\\data\\\\raw\\\\2022_place_canvas_history_47.csv',\n",
       " 'f:\\\\Дипломна работа\\\\code\\\\data\\\\raw\\\\2022_place_canvas_history_48.csv',\n",
       " 'f:\\\\Дипломна работа\\\\code\\\\data\\\\raw\\\\2022_place_canvas_history_49.csv',\n",
       " 'f:\\\\Дипломна работа\\\\code\\\\data\\\\raw\\\\2022_place_canvas_history_50.csv',\n",
       " 'f:\\\\Дипломна работа\\\\code\\\\data\\\\raw\\\\2022_place_canvas_history_51.csv',\n",
       " 'f:\\\\Дипломна работа\\\\code\\\\data\\\\raw\\\\2022_place_canvas_history_52.csv',\n",
       " 'f:\\\\Дипломна работа\\\\code\\\\data\\\\raw\\\\2022_place_canvas_history_53.csv',\n",
       " 'f:\\\\Дипломна работа\\\\code\\\\data\\\\raw\\\\2022_place_canvas_history_54.csv',\n",
       " 'f:\\\\Дипломна работа\\\\code\\\\data\\\\raw\\\\2022_place_canvas_history_55.csv',\n",
       " 'f:\\\\Дипломна работа\\\\code\\\\data\\\\raw\\\\2022_place_canvas_history_56.csv',\n",
       " 'f:\\\\Дипломна работа\\\\code\\\\data\\\\raw\\\\2022_place_canvas_history_57.csv',\n",
       " 'f:\\\\Дипломна работа\\\\code\\\\data\\\\raw\\\\2022_place_canvas_history_58.csv',\n",
       " 'f:\\\\Дипломна работа\\\\code\\\\data\\\\raw\\\\2022_place_canvas_history_59.csv',\n",
       " 'f:\\\\Дипломна работа\\\\code\\\\data\\\\raw\\\\2022_place_canvas_history_60.csv',\n",
       " 'f:\\\\Дипломна работа\\\\code\\\\data\\\\raw\\\\2022_place_canvas_history_61.csv',\n",
       " 'f:\\\\Дипломна работа\\\\code\\\\data\\\\raw\\\\2022_place_canvas_history_62.csv',\n",
       " 'f:\\\\Дипломна работа\\\\code\\\\data\\\\raw\\\\2022_place_canvas_history_63.csv',\n",
       " 'f:\\\\Дипломна работа\\\\code\\\\data\\\\raw\\\\2022_place_canvas_history_64.csv',\n",
       " 'f:\\\\Дипломна работа\\\\code\\\\data\\\\raw\\\\2022_place_canvas_history_65.csv',\n",
       " 'f:\\\\Дипломна работа\\\\code\\\\data\\\\raw\\\\2022_place_canvas_history_66.csv',\n",
       " 'f:\\\\Дипломна работа\\\\code\\\\data\\\\raw\\\\2022_place_canvas_history_67.csv',\n",
       " 'f:\\\\Дипломна работа\\\\code\\\\data\\\\raw\\\\2022_place_canvas_history_68.csv',\n",
       " 'f:\\\\Дипломна работа\\\\code\\\\data\\\\raw\\\\2022_place_canvas_history_69.csv',\n",
       " 'f:\\\\Дипломна работа\\\\code\\\\data\\\\raw\\\\2022_place_canvas_history_70.csv',\n",
       " 'f:\\\\Дипломна работа\\\\code\\\\data\\\\raw\\\\2022_place_canvas_history_71.csv',\n",
       " 'f:\\\\Дипломна работа\\\\code\\\\data\\\\raw\\\\2022_place_canvas_history_72.csv',\n",
       " 'f:\\\\Дипломна работа\\\\code\\\\data\\\\raw\\\\2022_place_canvas_history_73.csv',\n",
       " 'f:\\\\Дипломна работа\\\\code\\\\data\\\\raw\\\\2022_place_canvas_history_74.csv',\n",
       " 'f:\\\\Дипломна работа\\\\code\\\\data\\\\raw\\\\2022_place_canvas_history_75.csv',\n",
       " 'f:\\\\Дипломна работа\\\\code\\\\data\\\\raw\\\\2022_place_canvas_history_76.csv',\n",
       " 'f:\\\\Дипломна работа\\\\code\\\\data\\\\raw\\\\2022_place_canvas_history_77.csv',\n",
       " 'f:\\\\Дипломна работа\\\\code\\\\data\\\\raw\\\\2022_place_canvas_history_78.csv',\n",
       " 'f:\\\\Дипломна работа\\\\code\\\\data\\\\raw\\\\2022_place_canvas_history_79.csv',\n",
       " 'f:\\\\Дипломна работа\\\\code\\\\data\\\\raw\\\\2022_place_canvas_history_80.csv',\n",
       " 'f:\\\\Дипломна работа\\\\code\\\\data\\\\raw\\\\2022_place_canvas_history_81.csv',\n",
       " 'f:\\\\Дипломна работа\\\\code\\\\data\\\\raw\\\\2022_place_canvas_history_82.csv',\n",
       " 'f:\\\\Дипломна работа\\\\code\\\\data\\\\raw\\\\2022_place_canvas_history_83.csv',\n",
       " 'f:\\\\Дипломна работа\\\\code\\\\data\\\\raw\\\\2022_place_canvas_history_84.csv',\n",
       " 'f:\\\\Дипломна работа\\\\code\\\\data\\\\raw\\\\2022_place_canvas_history_85.csv',\n",
       " 'f:\\\\Дипломна работа\\\\code\\\\data\\\\raw\\\\2022_place_canvas_history_86.csv',\n",
       " 'f:\\\\Дипломна работа\\\\code\\\\data\\\\raw\\\\2022_place_canvas_history_87.csv',\n",
       " 'f:\\\\Дипломна работа\\\\code\\\\data\\\\raw\\\\2022_place_canvas_history_88.csv',\n",
       " 'f:\\\\Дипломна работа\\\\code\\\\data\\\\raw\\\\2022_place_canvas_history_89.csv',\n",
       " 'f:\\\\Дипломна работа\\\\code\\\\data\\\\raw\\\\2022_place_canvas_history_90.csv',\n",
       " 'f:\\\\Дипломна работа\\\\code\\\\data\\\\raw\\\\2022_place_canvas_history_91.csv',\n",
       " 'f:\\\\Дипломна работа\\\\code\\\\data\\\\raw\\\\2022_place_canvas_history_92.csv',\n",
       " 'f:\\\\Дипломна работа\\\\code\\\\data\\\\raw\\\\2022_place_canvas_history_93.csv',\n",
       " 'f:\\\\Дипломна работа\\\\code\\\\data\\\\raw\\\\2022_place_canvas_history_94.csv',\n",
       " 'f:\\\\Дипломна работа\\\\code\\\\data\\\\raw\\\\2022_place_canvas_history_95.csv',\n",
       " 'f:\\\\Дипломна работа\\\\code\\\\data\\\\raw\\\\2022_place_canvas_history_96.csv',\n",
       " 'f:\\\\Дипломна работа\\\\code\\\\data\\\\raw\\\\2022_place_canvas_history_97.csv',\n",
       " 'f:\\\\Дипломна работа\\\\code\\\\data\\\\raw\\\\2022_place_canvas_history_98.csv',\n",
       " 'f:\\\\Дипломна работа\\\\code\\\\data\\\\raw\\\\2022_place_canvas_history_99.csv']"
      ]
     },
     "execution_count": 4,
     "metadata": {},
     "output_type": "execute_result"
    }
   ],
   "source": [
    "df = df.repartition(npartitions=100)\n",
    "df.to_csv('..\\\\data\\\\raw\\\\2022_place_canvas_history_*.csv')"
   ]
  },
  {
   "cell_type": "code",
   "execution_count": 32,
   "metadata": {},
   "outputs": [
    {
     "name": "stderr",
     "output_type": "stream",
     "text": [
      "C:\\Users\\Denis\\AppData\\Local\\Temp\\ipykernel_19940\\889361993.py:1: UserWarning: `meta` is not specified, inferred from partial data. Please provide `meta` if the result is unexpected.\n",
      "  Before: .apply(func)\n",
      "  After:  .apply(func, meta={'x': 'f8', 'y': 'f8'}) for dataframe result\n",
      "  or:     .apply(func, meta=('x', 'f8'))            for series result\n",
      "  df.groupby(['pixel_color']).pixel_color.apply(lambda x: x.value_counts()).compute()\n"
     ]
    },
    {
     "ename": "Error",
     "evalue": "Canceled future for execute_request message before replies were done",
     "output_type": "error",
     "traceback": [
      "Error: Canceled future for execute_request message before replies were done",
      "at t.KernelShellFutureHandler.dispose (c:\\Users\\Denis\\.vscode\\extensions\\ms-toolsai.jupyter-2022.3.1000901801\\out\\extension.js:2:1204175)",
      "at c:\\Users\\Denis\\.vscode\\extensions\\ms-toolsai.jupyter-2022.3.1000901801\\out\\extension.js:2:1223227",
      "at Map.forEach (<anonymous>)",
      "at v._clearKernelState (c:\\Users\\Denis\\.vscode\\extensions\\ms-toolsai.jupyter-2022.3.1000901801\\out\\extension.js:2:1223212)",
      "at v.dispose (c:\\Users\\Denis\\.vscode\\extensions\\ms-toolsai.jupyter-2022.3.1000901801\\out\\extension.js:2:1216694)",
      "at c:\\Users\\Denis\\.vscode\\extensions\\ms-toolsai.jupyter-2022.3.1000901801\\out\\extension.js:2:533674",
      "at t.swallowExceptions (c:\\Users\\Denis\\.vscode\\extensions\\ms-toolsai.jupyter-2022.3.1000901801\\out\\extension.js:2:913059)",
      "at dispose (c:\\Users\\Denis\\.vscode\\extensions\\ms-toolsai.jupyter-2022.3.1000901801\\out\\extension.js:2:533652)",
      "at t.RawSession.dispose (c:\\Users\\Denis\\.vscode\\extensions\\ms-toolsai.jupyter-2022.3.1000901801\\out\\extension.js:2:537330)",
      "at processTicksAndRejections (node:internal/process/task_queues:96:5)"
     ]
    }
   ],
   "source": [
    "df.groupby(['pixel_color']).pixel_color.apply(lambda x: x.value_counts()).compute()"
   ]
  }
 ],
 "metadata": {
  "interpreter": {
   "hash": "6f7c4d44365b28014734406e4d617c1e1f76ea196def854c7b951a230f6e24f1"
  },
  "kernelspec": {
   "display_name": "Python 3.9.5 64-bit",
   "language": "python",
   "name": "python3"
  },
  "language_info": {
   "codemirror_mode": {
    "name": "ipython",
    "version": 3
   },
   "file_extension": ".py",
   "mimetype": "text/x-python",
   "name": "python",
   "nbconvert_exporter": "python",
   "pygments_lexer": "ipython3",
   "version": "3.9.5"
  },
  "orig_nbformat": 4
 },
 "nbformat": 4,
 "nbformat_minor": 2
}
